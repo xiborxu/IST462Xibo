{
  "cells": [
    {
      "cell_type": "markdown",
      "metadata": {
        "id": "view-in-github",
        "colab_type": "text"
      },
      "source": [
        "<a href=\"https://colab.research.google.com/github/xiborxu/IST462xibo/blob/main/FinalExam_IST462_Fall2023.ipynb\" target=\"_parent\"><img src=\"https://colab.research.google.com/assets/colab-badge.svg\" alt=\"Open In Colab\"/></a>"
      ]
    },
    {
      "cell_type": "markdown",
      "id": "weekly-filing",
      "metadata": {
        "id": "weekly-filing"
      },
      "source": [
        "# Final exam - IST 462 - Notebook"
      ]
    },
    {
      "cell_type": "markdown",
      "id": "center-education",
      "metadata": {
        "id": "center-education"
      },
      "source": [
        "Submitted by:"
      ]
    },
    {
      "cell_type": "markdown",
      "id": "oriental-avatar",
      "metadata": {
        "id": "oriental-avatar"
      },
      "source": [
        "Date:"
      ]
    },
    {
      "cell_type": "markdown",
      "source": [
        "Using the SY36 bus route datasets and the 2019 daily weather conditions for Syracuse data perform the data analysis tasks listed in this document. Perform as many tasks and subtasks as needed to get up to 100 points. If the tasks you complete exceed 100 points, and they are all done correctly, your maximum grade will be capped at 100 points."
      ],
      "metadata": {
        "id": "Me43N45DvMTQ"
      },
      "id": "Me43N45DvMTQ"
    },
    {
      "cell_type": "markdown",
      "source": [
        "Each task has a point value for completing it. There are sub-tasks associated with each task that provide additional points. You can complete a sub-task ONLY if you have completed the main task to which it is associated."
      ],
      "metadata": {
        "id": "UmAuQoRrv0bb"
      },
      "id": "UmAuQoRrv0bb"
    },
    {
      "cell_type": "markdown",
      "source": [
        "To get all the points for a task or sub-task, in addition to performing the required data analysis mentioned in the task/subtask you must also provide clear documentation of the steps you used in the analysis and in all places possible meaningful graphs that show your results."
      ],
      "metadata": {
        "id": "1GJamULvwJOG"
      },
      "id": "1GJamULvwJOG"
    },
    {
      "cell_type": "markdown",
      "source": [
        "**Final exam submission:** Submit your exam work in Notebook format (.ipynb file) ***AND*** in PDF format."
      ],
      "metadata": {
        "id": "uR-XVVp4wm33"
      },
      "id": "uR-XVVp4wm33"
    },
    {
      "cell_type": "markdown",
      "source": [
        "#Import packages"
      ],
      "metadata": {
        "id": "0AtPE0ZSxH_m"
      },
      "id": "0AtPE0ZSxH_m"
    },
    {
      "cell_type": "markdown",
      "source": [
        "You, of course, can and should add more dependent on what you use in your analysis"
      ],
      "metadata": {
        "id": "vOfQWzngxLN7"
      },
      "id": "vOfQWzngxLN7"
    },
    {
      "cell_type": "code",
      "execution_count": 199,
      "id": "independent-riding",
      "metadata": {
        "id": "independent-riding"
      },
      "outputs": [],
      "source": [
        "%matplotlib inline\n",
        "\n",
        "import pandas as pd\n",
        "import numpy as np\n",
        "import requests\n",
        "from zipfile import ZipFile\n",
        "import matplotlib.pyplot as plt\n",
        "np.set_printoptions(precision=4)\n",
        "pd.options.display.max_rows = 20"
      ]
    },
    {
      "cell_type": "markdown",
      "id": "835c9731",
      "metadata": {
        "id": "835c9731"
      },
      "source": [
        "# Loading data sets"
      ]
    },
    {
      "cell_type": "code",
      "source": [
        "# connect colab to google drive\n",
        "\n",
        "from google.colab import drive\n",
        "drive.mount('/content/drive')"
      ],
      "metadata": {
        "colab": {
          "base_uri": "https://localhost:8080/"
        },
        "id": "h-Q13CP2Y5gR",
        "outputId": "1c32a484-f926-4166-8678-cf14fd281d31"
      },
      "id": "h-Q13CP2Y5gR",
      "execution_count": 200,
      "outputs": [
        {
          "output_type": "stream",
          "name": "stdout",
          "text": [
            "Drive already mounted at /content/drive; to attempt to forcibly remount, call drive.mount(\"/content/drive\", force_remount=True).\n"
          ]
        }
      ]
    },
    {
      "cell_type": "markdown",
      "source": [
        "### 2019 Syracuse weather data"
      ],
      "metadata": {
        "id": "LBsyFzOPb12j"
      },
      "id": "LBsyFzOPb12j"
    },
    {
      "cell_type": "code",
      "source": [
        "import pandas as pd\n",
        "\n",
        "file = '/content/drive/MyDrive/Final_syracuse_2019_weather.csv'\n",
        "weather2019 = pd.read_csv(file) #read in the csv file using pandas\n",
        "weather2019.head()"
      ],
      "metadata": {
        "colab": {
          "base_uri": "https://localhost:8080/",
          "height": 206
        },
        "id": "coiI7pZJat3f",
        "outputId": "c966c7df-1a3c-49d6-c661-6740d662ba2e"
      },
      "id": "coiI7pZJat3f",
      "execution_count": 201,
      "outputs": [
        {
          "output_type": "execute_result",
          "data": {
            "text/plain": [
              "       STATION                                           NAME      DATE  \\\n",
              "0  USW00014771  SYRACUSE HANCOCK INTERNATIONAL AIRPORT, NY US  1/1/2019   \n",
              "1  USW00014771  SYRACUSE HANCOCK INTERNATIONAL AIRPORT, NY US  1/2/2019   \n",
              "2  USW00014771  SYRACUSE HANCOCK INTERNATIONAL AIRPORT, NY US  1/3/2019   \n",
              "3  USW00014771  SYRACUSE HANCOCK INTERNATIONAL AIRPORT, NY US  1/4/2019   \n",
              "4  USW00014771  SYRACUSE HANCOCK INTERNATIONAL AIRPORT, NY US  1/5/2019   \n",
              "\n",
              "    AWND  PRCP  SNOW  TAVG  TMAX  TMIN  \n",
              "0  15.66  0.02   0.0    40    53    21  \n",
              "1   5.14  0.00   0.0    24    31    18  \n",
              "2  10.74  0.09   0.3    33    37    30  \n",
              "3   4.70  0.00   0.0    36    49    25  \n",
              "4   5.59  0.00   0.0    33    44    25  "
            ],
            "text/html": [
              "\n",
              "  <div id=\"df-40400ac3-b0b3-494a-9ff8-7a293942c8e5\" class=\"colab-df-container\">\n",
              "    <div>\n",
              "<style scoped>\n",
              "    .dataframe tbody tr th:only-of-type {\n",
              "        vertical-align: middle;\n",
              "    }\n",
              "\n",
              "    .dataframe tbody tr th {\n",
              "        vertical-align: top;\n",
              "    }\n",
              "\n",
              "    .dataframe thead th {\n",
              "        text-align: right;\n",
              "    }\n",
              "</style>\n",
              "<table border=\"1\" class=\"dataframe\">\n",
              "  <thead>\n",
              "    <tr style=\"text-align: right;\">\n",
              "      <th></th>\n",
              "      <th>STATION</th>\n",
              "      <th>NAME</th>\n",
              "      <th>DATE</th>\n",
              "      <th>AWND</th>\n",
              "      <th>PRCP</th>\n",
              "      <th>SNOW</th>\n",
              "      <th>TAVG</th>\n",
              "      <th>TMAX</th>\n",
              "      <th>TMIN</th>\n",
              "    </tr>\n",
              "  </thead>\n",
              "  <tbody>\n",
              "    <tr>\n",
              "      <th>0</th>\n",
              "      <td>USW00014771</td>\n",
              "      <td>SYRACUSE HANCOCK INTERNATIONAL AIRPORT, NY US</td>\n",
              "      <td>1/1/2019</td>\n",
              "      <td>15.66</td>\n",
              "      <td>0.02</td>\n",
              "      <td>0.0</td>\n",
              "      <td>40</td>\n",
              "      <td>53</td>\n",
              "      <td>21</td>\n",
              "    </tr>\n",
              "    <tr>\n",
              "      <th>1</th>\n",
              "      <td>USW00014771</td>\n",
              "      <td>SYRACUSE HANCOCK INTERNATIONAL AIRPORT, NY US</td>\n",
              "      <td>1/2/2019</td>\n",
              "      <td>5.14</td>\n",
              "      <td>0.00</td>\n",
              "      <td>0.0</td>\n",
              "      <td>24</td>\n",
              "      <td>31</td>\n",
              "      <td>18</td>\n",
              "    </tr>\n",
              "    <tr>\n",
              "      <th>2</th>\n",
              "      <td>USW00014771</td>\n",
              "      <td>SYRACUSE HANCOCK INTERNATIONAL AIRPORT, NY US</td>\n",
              "      <td>1/3/2019</td>\n",
              "      <td>10.74</td>\n",
              "      <td>0.09</td>\n",
              "      <td>0.3</td>\n",
              "      <td>33</td>\n",
              "      <td>37</td>\n",
              "      <td>30</td>\n",
              "    </tr>\n",
              "    <tr>\n",
              "      <th>3</th>\n",
              "      <td>USW00014771</td>\n",
              "      <td>SYRACUSE HANCOCK INTERNATIONAL AIRPORT, NY US</td>\n",
              "      <td>1/4/2019</td>\n",
              "      <td>4.70</td>\n",
              "      <td>0.00</td>\n",
              "      <td>0.0</td>\n",
              "      <td>36</td>\n",
              "      <td>49</td>\n",
              "      <td>25</td>\n",
              "    </tr>\n",
              "    <tr>\n",
              "      <th>4</th>\n",
              "      <td>USW00014771</td>\n",
              "      <td>SYRACUSE HANCOCK INTERNATIONAL AIRPORT, NY US</td>\n",
              "      <td>1/5/2019</td>\n",
              "      <td>5.59</td>\n",
              "      <td>0.00</td>\n",
              "      <td>0.0</td>\n",
              "      <td>33</td>\n",
              "      <td>44</td>\n",
              "      <td>25</td>\n",
              "    </tr>\n",
              "  </tbody>\n",
              "</table>\n",
              "</div>\n",
              "    <div class=\"colab-df-buttons\">\n",
              "\n",
              "  <div class=\"colab-df-container\">\n",
              "    <button class=\"colab-df-convert\" onclick=\"convertToInteractive('df-40400ac3-b0b3-494a-9ff8-7a293942c8e5')\"\n",
              "            title=\"Convert this dataframe to an interactive table.\"\n",
              "            style=\"display:none;\">\n",
              "\n",
              "  <svg xmlns=\"http://www.w3.org/2000/svg\" height=\"24px\" viewBox=\"0 -960 960 960\">\n",
              "    <path d=\"M120-120v-720h720v720H120Zm60-500h600v-160H180v160Zm220 220h160v-160H400v160Zm0 220h160v-160H400v160ZM180-400h160v-160H180v160Zm440 0h160v-160H620v160ZM180-180h160v-160H180v160Zm440 0h160v-160H620v160Z\"/>\n",
              "  </svg>\n",
              "    </button>\n",
              "\n",
              "  <style>\n",
              "    .colab-df-container {\n",
              "      display:flex;\n",
              "      gap: 12px;\n",
              "    }\n",
              "\n",
              "    .colab-df-convert {\n",
              "      background-color: #E8F0FE;\n",
              "      border: none;\n",
              "      border-radius: 50%;\n",
              "      cursor: pointer;\n",
              "      display: none;\n",
              "      fill: #1967D2;\n",
              "      height: 32px;\n",
              "      padding: 0 0 0 0;\n",
              "      width: 32px;\n",
              "    }\n",
              "\n",
              "    .colab-df-convert:hover {\n",
              "      background-color: #E2EBFA;\n",
              "      box-shadow: 0px 1px 2px rgba(60, 64, 67, 0.3), 0px 1px 3px 1px rgba(60, 64, 67, 0.15);\n",
              "      fill: #174EA6;\n",
              "    }\n",
              "\n",
              "    .colab-df-buttons div {\n",
              "      margin-bottom: 4px;\n",
              "    }\n",
              "\n",
              "    [theme=dark] .colab-df-convert {\n",
              "      background-color: #3B4455;\n",
              "      fill: #D2E3FC;\n",
              "    }\n",
              "\n",
              "    [theme=dark] .colab-df-convert:hover {\n",
              "      background-color: #434B5C;\n",
              "      box-shadow: 0px 1px 3px 1px rgba(0, 0, 0, 0.15);\n",
              "      filter: drop-shadow(0px 1px 2px rgba(0, 0, 0, 0.3));\n",
              "      fill: #FFFFFF;\n",
              "    }\n",
              "  </style>\n",
              "\n",
              "    <script>\n",
              "      const buttonEl =\n",
              "        document.querySelector('#df-40400ac3-b0b3-494a-9ff8-7a293942c8e5 button.colab-df-convert');\n",
              "      buttonEl.style.display =\n",
              "        google.colab.kernel.accessAllowed ? 'block' : 'none';\n",
              "\n",
              "      async function convertToInteractive(key) {\n",
              "        const element = document.querySelector('#df-40400ac3-b0b3-494a-9ff8-7a293942c8e5');\n",
              "        const dataTable =\n",
              "          await google.colab.kernel.invokeFunction('convertToInteractive',\n",
              "                                                    [key], {});\n",
              "        if (!dataTable) return;\n",
              "\n",
              "        const docLinkHtml = 'Like what you see? Visit the ' +\n",
              "          '<a target=\"_blank\" href=https://colab.research.google.com/notebooks/data_table.ipynb>data table notebook</a>'\n",
              "          + ' to learn more about interactive tables.';\n",
              "        element.innerHTML = '';\n",
              "        dataTable['output_type'] = 'display_data';\n",
              "        await google.colab.output.renderOutput(dataTable, element);\n",
              "        const docLink = document.createElement('div');\n",
              "        docLink.innerHTML = docLinkHtml;\n",
              "        element.appendChild(docLink);\n",
              "      }\n",
              "    </script>\n",
              "  </div>\n",
              "\n",
              "\n",
              "<div id=\"df-cf04e881-4512-4661-a482-864cdf1cc893\">\n",
              "  <button class=\"colab-df-quickchart\" onclick=\"quickchart('df-cf04e881-4512-4661-a482-864cdf1cc893')\"\n",
              "            title=\"Suggest charts\"\n",
              "            style=\"display:none;\">\n",
              "\n",
              "<svg xmlns=\"http://www.w3.org/2000/svg\" height=\"24px\"viewBox=\"0 0 24 24\"\n",
              "     width=\"24px\">\n",
              "    <g>\n",
              "        <path d=\"M19 3H5c-1.1 0-2 .9-2 2v14c0 1.1.9 2 2 2h14c1.1 0 2-.9 2-2V5c0-1.1-.9-2-2-2zM9 17H7v-7h2v7zm4 0h-2V7h2v10zm4 0h-2v-4h2v4z\"/>\n",
              "    </g>\n",
              "</svg>\n",
              "  </button>\n",
              "\n",
              "<style>\n",
              "  .colab-df-quickchart {\n",
              "      --bg-color: #E8F0FE;\n",
              "      --fill-color: #1967D2;\n",
              "      --hover-bg-color: #E2EBFA;\n",
              "      --hover-fill-color: #174EA6;\n",
              "      --disabled-fill-color: #AAA;\n",
              "      --disabled-bg-color: #DDD;\n",
              "  }\n",
              "\n",
              "  [theme=dark] .colab-df-quickchart {\n",
              "      --bg-color: #3B4455;\n",
              "      --fill-color: #D2E3FC;\n",
              "      --hover-bg-color: #434B5C;\n",
              "      --hover-fill-color: #FFFFFF;\n",
              "      --disabled-bg-color: #3B4455;\n",
              "      --disabled-fill-color: #666;\n",
              "  }\n",
              "\n",
              "  .colab-df-quickchart {\n",
              "    background-color: var(--bg-color);\n",
              "    border: none;\n",
              "    border-radius: 50%;\n",
              "    cursor: pointer;\n",
              "    display: none;\n",
              "    fill: var(--fill-color);\n",
              "    height: 32px;\n",
              "    padding: 0;\n",
              "    width: 32px;\n",
              "  }\n",
              "\n",
              "  .colab-df-quickchart:hover {\n",
              "    background-color: var(--hover-bg-color);\n",
              "    box-shadow: 0 1px 2px rgba(60, 64, 67, 0.3), 0 1px 3px 1px rgba(60, 64, 67, 0.15);\n",
              "    fill: var(--button-hover-fill-color);\n",
              "  }\n",
              "\n",
              "  .colab-df-quickchart-complete:disabled,\n",
              "  .colab-df-quickchart-complete:disabled:hover {\n",
              "    background-color: var(--disabled-bg-color);\n",
              "    fill: var(--disabled-fill-color);\n",
              "    box-shadow: none;\n",
              "  }\n",
              "\n",
              "  .colab-df-spinner {\n",
              "    border: 2px solid var(--fill-color);\n",
              "    border-color: transparent;\n",
              "    border-bottom-color: var(--fill-color);\n",
              "    animation:\n",
              "      spin 1s steps(1) infinite;\n",
              "  }\n",
              "\n",
              "  @keyframes spin {\n",
              "    0% {\n",
              "      border-color: transparent;\n",
              "      border-bottom-color: var(--fill-color);\n",
              "      border-left-color: var(--fill-color);\n",
              "    }\n",
              "    20% {\n",
              "      border-color: transparent;\n",
              "      border-left-color: var(--fill-color);\n",
              "      border-top-color: var(--fill-color);\n",
              "    }\n",
              "    30% {\n",
              "      border-color: transparent;\n",
              "      border-left-color: var(--fill-color);\n",
              "      border-top-color: var(--fill-color);\n",
              "      border-right-color: var(--fill-color);\n",
              "    }\n",
              "    40% {\n",
              "      border-color: transparent;\n",
              "      border-right-color: var(--fill-color);\n",
              "      border-top-color: var(--fill-color);\n",
              "    }\n",
              "    60% {\n",
              "      border-color: transparent;\n",
              "      border-right-color: var(--fill-color);\n",
              "    }\n",
              "    80% {\n",
              "      border-color: transparent;\n",
              "      border-right-color: var(--fill-color);\n",
              "      border-bottom-color: var(--fill-color);\n",
              "    }\n",
              "    90% {\n",
              "      border-color: transparent;\n",
              "      border-bottom-color: var(--fill-color);\n",
              "    }\n",
              "  }\n",
              "</style>\n",
              "\n",
              "  <script>\n",
              "    async function quickchart(key) {\n",
              "      const quickchartButtonEl =\n",
              "        document.querySelector('#' + key + ' button');\n",
              "      quickchartButtonEl.disabled = true;  // To prevent multiple clicks.\n",
              "      quickchartButtonEl.classList.add('colab-df-spinner');\n",
              "      try {\n",
              "        const charts = await google.colab.kernel.invokeFunction(\n",
              "            'suggestCharts', [key], {});\n",
              "      } catch (error) {\n",
              "        console.error('Error during call to suggestCharts:', error);\n",
              "      }\n",
              "      quickchartButtonEl.classList.remove('colab-df-spinner');\n",
              "      quickchartButtonEl.classList.add('colab-df-quickchart-complete');\n",
              "    }\n",
              "    (() => {\n",
              "      let quickchartButtonEl =\n",
              "        document.querySelector('#df-cf04e881-4512-4661-a482-864cdf1cc893 button');\n",
              "      quickchartButtonEl.style.display =\n",
              "        google.colab.kernel.accessAllowed ? 'block' : 'none';\n",
              "    })();\n",
              "  </script>\n",
              "</div>\n",
              "    </div>\n",
              "  </div>\n"
            ]
          },
          "metadata": {},
          "execution_count": 201
        }
      ]
    },
    {
      "cell_type": "code",
      "source": [
        "weather2019.info()"
      ],
      "metadata": {
        "colab": {
          "base_uri": "https://localhost:8080/"
        },
        "id": "TxP0B46Db71p",
        "outputId": "e9f85af6-d1f6-4922-df1b-2610bbb71836"
      },
      "id": "TxP0B46Db71p",
      "execution_count": 202,
      "outputs": [
        {
          "output_type": "stream",
          "name": "stdout",
          "text": [
            "<class 'pandas.core.frame.DataFrame'>\n",
            "RangeIndex: 365 entries, 0 to 364\n",
            "Data columns (total 9 columns):\n",
            " #   Column   Non-Null Count  Dtype  \n",
            "---  ------   --------------  -----  \n",
            " 0   STATION  365 non-null    object \n",
            " 1   NAME     365 non-null    object \n",
            " 2   DATE     365 non-null    object \n",
            " 3   AWND     365 non-null    float64\n",
            " 4   PRCP     365 non-null    float64\n",
            " 5   SNOW     365 non-null    float64\n",
            " 6   TAVG     365 non-null    int64  \n",
            " 7   TMAX     365 non-null    int64  \n",
            " 8   TMIN     365 non-null    int64  \n",
            "dtypes: float64(3), int64(3), object(3)\n",
            "memory usage: 25.8+ KB\n"
          ]
        }
      ]
    },
    {
      "cell_type": "markdown",
      "id": "6926d875",
      "metadata": {
        "id": "6926d875"
      },
      "source": [
        "## Bus ridership data sets"
      ]
    },
    {
      "cell_type": "code",
      "execution_count": null,
      "id": "a291aae8",
      "metadata": {
        "id": "a291aae8"
      },
      "outputs": [],
      "source": [
        "#Dataframe with bus activity data for 2019 for route SY36\n",
        "file = '/content/drive/MyDrive/Final_Preprocessed_SY36_2019.csv'\n",
        "bus_data2019 = pd.read_csv(file) #read in the csv file using pandas\n",
        "bus_data2019.head()"
      ]
    },
    {
      "cell_type": "code",
      "source": [
        "bus_data2019.shape"
      ],
      "metadata": {
        "id": "r9j_L9-1Q8dk"
      },
      "id": "r9j_L9-1Q8dk",
      "execution_count": null,
      "outputs": []
    },
    {
      "cell_type": "code",
      "execution_count": null,
      "id": "6745b741",
      "metadata": {
        "id": "6745b741"
      },
      "outputs": [],
      "source": [
        "#Drop some columns that won't be needed\n",
        "bus_data2019.drop(['SURVEY_DATE','VEHICLE_DESCRIPTION','GARAGE_NAME','DIVISION_NAME','COMMENTS','WHEELCHAIRS','MODIFIED'],axis=1,inplace=True)"
      ]
    },
    {
      "cell_type": "code",
      "execution_count": null,
      "id": "8c91a65d",
      "metadata": {
        "id": "8c91a65d"
      },
      "outputs": [],
      "source": [
        "bus_data2019.iloc[:100,]"
      ]
    },
    {
      "cell_type": "code",
      "execution_count": null,
      "id": "4d405005",
      "metadata": {
        "id": "4d405005"
      },
      "outputs": [],
      "source": [
        "bus_data2019.info()"
      ]
    },
    {
      "cell_type": "code",
      "source": [
        "#Dataframe with bus activity data for 2020 for route SY36\n",
        "file = '/content/drive/MyDrive//Preprocessed_SY36_2020.csv'\n",
        "bus_data2020 = pd.read_csv(file) #read in the csv file using pandas\n",
        "bus_data2020.head()"
      ],
      "metadata": {
        "id": "9N1havTKrZ1p"
      },
      "id": "9N1havTKrZ1p",
      "execution_count": null,
      "outputs": []
    },
    {
      "cell_type": "code",
      "source": [
        "#Drop some columns that won't be needed\n",
        "bus_data2020.drop(['SURVEY_DATE','VEHICLE_DESCRIPTION','GARAGE_NAME','DIVISION_NAME','COMMENTS','WHEELCHAIRS','MODIFIED'],axis=1,inplace=True)"
      ],
      "metadata": {
        "id": "iNWRbe_yriIz"
      },
      "id": "iNWRbe_yriIz",
      "execution_count": null,
      "outputs": []
    },
    {
      "cell_type": "code",
      "source": [
        "bus_data2020.head()"
      ],
      "metadata": {
        "id": "khEC1HK3rreF"
      },
      "id": "khEC1HK3rreF",
      "execution_count": null,
      "outputs": []
    },
    {
      "cell_type": "code",
      "source": [
        "bus_data2020.info()"
      ],
      "metadata": {
        "id": "lPvf4jImruiT"
      },
      "id": "lPvf4jImruiT",
      "execution_count": null,
      "outputs": []
    },
    {
      "cell_type": "markdown",
      "id": "f078fdb5",
      "metadata": {
        "id": "f078fdb5"
      },
      "source": [
        "# Exam tasks"
      ]
    },
    {
      "cell_type": "markdown",
      "source": [
        "**Task 1 (30 points):** For the year of 2019 determine the number of passengers that board the bus (PASSENGERS_ON) at a particular STOP_ID per day. Use this data to understand how the changes in weather affect the ridership at your selected Bus Stop. Select a bus stop with a daily annual average of at least 5 passengers using it (This means that for any service day of the year, on average, at least 5 passengers boarded the bus from that bus stop)."
      ],
      "metadata": {
        "id": "KI8QEC1zfKcX"
      },
      "id": "KI8QEC1zfKcX"
    },
    {
      "cell_type": "code",
      "source": [
        "# convert the info from TRIP_START_TIME to find the date info\n",
        "bus_data2019['TRIP_START_TIME'] = pd.to_datetime(bus_data2019['TRIP_START_TIME'])\n",
        "bus_data2019['DATE'] = bus_data2019['TRIP_START_TIME'].dt.strftime('%m/%d/%Y')\n",
        "  #create a new column to contain the info\n",
        "  #I notice I may need to merge the weather data later, so I use same format"
      ],
      "metadata": {
        "id": "4cz4prG6QI0r"
      },
      "id": "4cz4prG6QI0r",
      "execution_count": null,
      "outputs": []
    },
    {
      "cell_type": "code",
      "source": [
        "# I notice there are a few columns are actually 2020, I want to delete them\n",
        "mask = bus_data2019['TRIP_START_TIME'].dt.year != 2019\n",
        "bus_data2019 = bus_data2019[~mask]"
      ],
      "metadata": {
        "id": "s4516Q04TcgK"
      },
      "id": "s4516Q04TcgK",
      "execution_count": null,
      "outputs": []
    },
    {
      "cell_type": "code",
      "source": [
        "# Find the stops with daily average Passengers over 5\n",
        "  # Group by the STOP_ID and DATE info, find out the daily Passengers number\n",
        "daily_passenger_counts = bus_data2019.groupby(['STOP_ID', 'DATE'])['PASSENGERS_ON'].sum()\n",
        "  # Calculate the daily average passenger count for each bus stop\n",
        "average_passengers = daily_passenger_counts.groupby('STOP_ID').mean()\n",
        "  # Select the stops with average passengers over 5\n",
        "populated_bus_stops = average_passengers[average_passengers >= 5]\n",
        "print(len(populated_bus_stops))\n",
        "print(populated_bus_stops)"
      ],
      "metadata": {
        "id": "5SmqzLyuG7y8"
      },
      "id": "5SmqzLyuG7y8",
      "execution_count": null,
      "outputs": []
    },
    {
      "cell_type": "code",
      "source": [
        "# Now I want to find out the daily passenagers trend\n",
        "  # I want a subset that only contains the specific STOP info\n",
        "  # I select 611 here. By info above, its daily average passengers number is 13.93\n",
        "stop_info = bus_data2019[bus_data2019['STOP_ID'] == 611]\n",
        "  # Group by the DATE and Passenger number and calculate the sum\n",
        "daily_passenger_611 = stop_info.groupby('DATE')['PASSENGERS_ON'].sum().reset_index()\n",
        "daily_passenger_611"
      ],
      "metadata": {
        "id": "YFsqyridGrOC"
      },
      "id": "YFsqyridGrOC",
      "execution_count": null,
      "outputs": []
    },
    {
      "cell_type": "markdown",
      "source": [
        "***Subtask 1.1 (+10 points):*** Group the activity at the selected bus stop per month and compare against the average temperature for that month."
      ],
      "metadata": {
        "id": "eQSLIZ6ZkPWU"
      },
      "id": "eQSLIZ6ZkPWU"
    },
    {
      "cell_type": "code",
      "source": [
        "#Convert the weather data frame to same format\n",
        "weather2019['DATE'] = pd.to_datetime(weather2019['DATE'])\n",
        "weather2019['DATE'] = weather2019['DATE'].dt.strftime('%m/%d/%Y')"
      ],
      "metadata": {
        "id": "X5BtU5XyJNPH"
      },
      "id": "X5BtU5XyJNPH",
      "execution_count": null,
      "outputs": []
    },
    {
      "cell_type": "code",
      "source": [
        "# Merge two dataframes\n",
        "merged_df = pd.merge(daily_passenger_611,weather2019, on='DATE')\n",
        "merged_df"
      ],
      "metadata": {
        "id": "_o_9mjvmke7l"
      },
      "id": "_o_9mjvmke7l",
      "execution_count": null,
      "outputs": []
    },
    {
      "cell_type": "code",
      "source": [
        "# Find the pattern between passengers number of month\n",
        "  # Create a 'MONTH' column to use as the index for the pivot table\n",
        "merged_df['DATE'] = pd.to_datetime(merged_df['DATE'])\n",
        "merged_df['MONTH'] = merged_df['DATE'].dt.strftime('%m')\n",
        "\n",
        "# Group by month and calculate the sum of 'PASSENGERS_ON' and the mean of 'Average temperature'\n",
        "monthly_activity = merged_df.groupby('MONTH').agg({\n",
        "    'PASSENGERS_ON': 'sum',  # Sum the passengers per month\n",
        "    'TAVG': 'mean'  # Average temperature for the month\n",
        "}).reset_index()\n",
        "monthly_activity"
      ],
      "metadata": {
        "id": "A-hxIthJLNFL"
      },
      "id": "A-hxIthJLNFL",
      "execution_count": null,
      "outputs": []
    },
    {
      "cell_type": "markdown",
      "source": [
        "***Subtask 1.2 (+10 points):*** Compare the activity between 2 or more bus stops over each month of the year."
      ],
      "metadata": {
        "id": "LkYAja0hkfSt"
      },
      "id": "LkYAja0hkfSt"
    },
    {
      "cell_type": "code",
      "source": [
        "# I need a Month column in bus_2019 dataframe\n",
        "bus_data2019['DATE'] = pd.to_datetime(bus_data2019['DATE'])\n",
        "bus_data2019['MONTH'] = bus_data2019['DATE'].dt.strftime('%m')\n",
        "\n",
        "# Filter the data for the bus stops 611,612,and 629\n",
        "stops_compare = bus_data2019[bus_data2019['STOP_ID'].isin([611, 612, 629])]\n",
        "\n",
        "# Group the data by 'MONTH' and 'STOP_ID' and calculate the sum for 'PASSENGERS_ON', 'PASSENGERS_OFF', and 'PASSENGERS_IN'\n",
        "activity_comparison = stops_compare.groupby(['MONTH', 'STOP_ID']).agg({\n",
        "    'PASSENGERS_ON': 'sum',\n",
        "    'PASSENGERS_OFF': 'sum',\n",
        "    'PASSENGERS_IN': 'sum'\n",
        "}).reset_index()\n",
        "\n",
        "print(activity_comparison)"
      ],
      "metadata": {
        "id": "A3Ekd0DVkofC"
      },
      "id": "A3Ekd0DVkofC",
      "execution_count": null,
      "outputs": []
    },
    {
      "cell_type": "markdown",
      "source": [
        "***Subtask 1.3 (+10 points):*** Determine the 5 bus stops that provide the highest average number of daily passengers during the year."
      ],
      "metadata": {
        "id": "95caGPirko-u"
      },
      "id": "95caGPirko-u"
    },
    {
      "cell_type": "code",
      "source": [
        "# Use the previous series to find out the maximum 5 daily average passengers\n",
        "stops_df = pd.DataFrame(populated_bus_stops, columns=['PASSENGERS_ON'])\n",
        "\n",
        "# Find the top 5 stops with the highest number of passengers\n",
        "top_5_stops = stops_df.nlargest(5, 'PASSENGERS_ON')\n",
        "print(top_5_stops)"
      ],
      "metadata": {
        "id": "l9u63UzrVsZt"
      },
      "id": "l9u63UzrVsZt",
      "execution_count": null,
      "outputs": []
    },
    {
      "cell_type": "markdown",
      "source": [
        "\n",
        "\n",
        "```\n",
        "# This is formatted as code\n",
        "```\n",
        "\n",
        "**Task 2 (30 points):** For the years of 2019 and 2020, determine the number of passengers that board the bus (PASSENGERS_ON) at a particular STOP_ID per week. Select a bus stop where you would expect a high number of users (i.e. Near a shopping mall, school, hospital, etc) and provide proof of how you found this via bus map, etc. Compare the ridership activity between the two years and state a hypothesis as to why changes could have taken place. Provide evidence to support that your hypothesis is likely true. The evidence could be in the form or newspaper articles, government declarations, etc."
      ],
      "metadata": {
        "id": "83-jOpRck1iZ"
      },
      "id": "83-jOpRck1iZ"
    },
    {
      "cell_type": "code",
      "source": [
        "# Generate a DATE info for bus_data2020 with same format\n",
        "bus_data2020['TRIP_START_TIME'] = pd.to_datetime(bus_data2020['TRIP_START_TIME'])\n",
        "bus_data2020['DATE'] = bus_data2020['TRIP_START_TIME'].dt.strftime('%m/%d/%Y')\n",
        "# SO as Month\n",
        "bus_data2020['DATE'] = pd.to_datetime(bus_data2020['DATE'])\n",
        "bus_data2020['MONTH'] = bus_data2020['DATE'].dt.strftime('%m')"
      ],
      "metadata": {
        "id": "OJ8KguPPcEW3"
      },
      "id": "OJ8KguPPcEW3",
      "execution_count": null,
      "outputs": []
    },
    {
      "cell_type": "markdown",
      "source": [
        "Bus Station 3761 is at Camillus Commons. (Source: https://www.centro.org/docs/default-source/schedule-documents/auburn-schedules/current-auburn-schedules/aub38.pdf?sfvrsn=5c644e9d_36)\n",
        "From Google Map, I find Camillus Commons is a business square where there are McDonald, Wendy's Walgreens, Rite Aid, etc., and most importantly, a Walmart there. Also, there is a high school called West Genesee High school is next to it."
      ],
      "metadata": {
        "id": "FtqloFE2aY7t"
      },
      "id": "FtqloFE2aY7t"
    },
    {
      "cell_type": "code",
      "source": [
        "# Create a new column \"WEEK_NUMBER\" to analysis\n",
        "bus_data2019['WEEK_NUMBER'] = bus_data2019['DATE'].dt.isocalendar().week\n",
        "bus_data2020['WEEK_NUMBER'] = bus_data2020['DATE'].dt.isocalendar().week\n",
        "\n",
        "# Select the info about STOP 3761 to run the analysis\n",
        "stop_3761_data_2019 = bus_data2019[bus_data2019['STOP_ID'] == 3761]\n",
        "stop_3761_data_2020 = bus_data2020[bus_data2020['STOP_ID'] == 3761]\n",
        "\n",
        "#Gouping the data by week number and find the sum of passengers number\n",
        "stop_2019 = stop_3761_data_2019.groupby('WEEK_NUMBER')['PASSENGERS_ON'].sum()\n",
        "stop_2020 = stop_3761_data_2020.groupby('WEEK_NUMBER')['PASSENGERS_ON'].sum()\n",
        "# merge two dataframe together and find out the difference between 2019 and 2020\n",
        "stop_merged = pd.merge(stop_2019,stop_2020, on = 'WEEK_NUMBER')\n",
        "stop_merged['Difference'] = stop_merged.apply(lambda x: x['PASSENGERS_ON_y'] - x['PASSENGERS_ON_x'], axis=1)\n",
        "  # create a lambda function to find out the difference between years\n",
        "stop_merged.columns = ['2019', '2020', 'Difference']\n",
        "print(stop_merged)\n",
        "print(stop_merged['Difference'].nlargest(5))\n",
        "print(stop_merged['Difference'].nsmallest(5))"
      ],
      "metadata": {
        "id": "D6wpWNaOmXpU"
      },
      "id": "D6wpWNaOmXpU",
      "execution_count": null,
      "outputs": []
    },
    {
      "cell_type": "markdown",
      "source": [
        "The results show that beginning from March, the paseenegers number decreases a lot. This is largely becasue of the COVID that shutdown the social operation. For example, the public school is shutdown including West Genesee High school.I find a source from government webiste by that time: https://www.governor.ny.gov/news/governor-cuomo-signs-executive-order-closing-schools-statewide-two-weeks#:~:text=Governor%20Andrew%20M.,the%20180%2Dday%20instructional%20requirement announcing the shutdown of all public school in New York State."
      ],
      "metadata": {
        "id": "dE8wsa7LmPci"
      },
      "id": "dE8wsa7LmPci"
    },
    {
      "cell_type": "code",
      "source": [
        "bus_data2019.columns"
      ],
      "metadata": {
        "id": "ciK8zr-In-5l"
      },
      "id": "ciK8zr-In-5l",
      "execution_count": null,
      "outputs": []
    },
    {
      "cell_type": "markdown",
      "source": [
        "***Subtast 2.1 (+10 points):*** Determine the 10 bus stops that provide the highest average number of weekly passengers for each year. Provide a brief comment on any differences that you find interesting."
      ],
      "metadata": {
        "id": "hRy7sHthmZj9"
      },
      "id": "hRy7sHthmZj9"
    },
    {
      "cell_type": "code",
      "source": [
        "# Group the dataframe by 'STOP_ID' and 'WEEK_NUMBER' and calculate the average number of weekly passengers\n",
        "stop_average_passengers = bus_data2019.groupby(['STOP_ID', 'WEEK_NUMBER'])['PASSENGERS_ON'].mean().reset_index()\n",
        "# sort the dataframe by PASSENGER numbers in a descending order\n",
        "stop_average_passengers = stop_average_passengers.sort_values(by='PASSENGERS_ON', ascending=False)\n",
        "# Pick top 10 values\n",
        "top_10_stops = stop_average_passengers.head(10)\n",
        "print(top_10_stops)"
      ],
      "metadata": {
        "id": "fxfT4NJ3moqh"
      },
      "id": "fxfT4NJ3moqh",
      "execution_count": null,
      "outputs": []
    },
    {
      "cell_type": "code",
      "source": [
        "# Same process for year of 2020\n",
        "stop_average_passengers = bus_data2020.groupby(['STOP_ID', 'WEEK_NUMBER'])['PASSENGERS_ON'].mean().reset_index()\n",
        "stop_average_passengers = stop_average_passengers.sort_values(by='PASSENGERS_ON', ascending=False)\n",
        "top_10_stops = stop_average_passengers.head(10)\n",
        "print(top_10_stops)"
      ],
      "metadata": {
        "id": "ed3lJeCA3akd"
      },
      "id": "ed3lJeCA3akd",
      "execution_count": null,
      "outputs": []
    },
    {
      "cell_type": "markdown",
      "source": [
        "**Task 3 (20 points):** For both the years 2019 and 2020, compute the distance traveled by the buses serving the route per day. Use the data in the SEGMENT_MILES column for this purpose."
      ],
      "metadata": {
        "id": "FqZxXDjPmpKV"
      },
      "id": "FqZxXDjPmpKV"
    },
    {
      "cell_type": "code",
      "source": [
        "# Grouping the DATE and calculate the sum of segment miles, which will give the daily segent miles number\n",
        "daily_distance_2019 = bus_data2019.groupby('DATE')['SEGMENT_MILES'].sum().reset_index()\n",
        "print(daily_distance_2019)"
      ],
      "metadata": {
        "id": "Mm4zoXzknWWq"
      },
      "id": "Mm4zoXzknWWq",
      "execution_count": null,
      "outputs": []
    },
    {
      "cell_type": "code",
      "source": [
        "daily_distance_2020 = bus_data2020.groupby('DATE')['SEGMENT_MILES'].sum().reset_index()\n",
        "print(daily_distance_2020)"
      ],
      "metadata": {
        "id": "wYUhqAVn4Swd"
      },
      "id": "wYUhqAVn4Swd",
      "execution_count": null,
      "outputs": []
    },
    {
      "cell_type": "markdown",
      "source": [
        "***Subtask 3.1 (+10 points):*** Break down the miles travelled by the buses per month. Assuming an efficiency of 7 miles per gallon and a price of US $3.60 per gallow, compute how much it costs to run the buses per month if they use diesel fuel."
      ],
      "metadata": {
        "id": "NQeJ8X4ene05"
      },
      "id": "NQeJ8X4ene05"
    },
    {
      "cell_type": "code",
      "source": [
        "# Group the data by Month and calcluate the sum of Segment miles, which gives the values of monthly travel distance\n",
        "monthly_cost_2019 = bus_data2019.groupby('MONTH')['SEGMENT_MILES'].sum().reset_index()\n",
        "# lambda function to run the maths to finds the price; add the price to the dataframe\n",
        "monthly_cost_2019['prices'] = monthly_cost_2019.apply(lambda x: f\"${x['SEGMENT_MILES'] / 7 * 3.60:.2f}\", axis=1)\n",
        "print(monthly_cost_2019)\n",
        "\n",
        "monthly_cost_2020 = bus_data2020.groupby('MONTH')['SEGMENT_MILES'].sum().reset_index()\n",
        "monthly_cost_2020['prices'] = monthly_cost_2020.apply(lambda x: f\"${x['SEGMENT_MILES'] / 7 * 3.60:.2f}\", axis=1)\n",
        "print(monthly_cost_2020)"
      ],
      "metadata": {
        "id": "U1t2VUx3oBQa"
      },
      "id": "U1t2VUx3oBQa",
      "execution_count": null,
      "outputs": []
    },
    {
      "cell_type": "markdown",
      "source": [
        "***Subtast 3.2 (+10 points):*** Determine if there are any anomalies (outliers) in the values of the daily distance travelled by the bus each year. Give a possible hypothesis for why they may have occurred and provide evicence to support your hypothesis such as an article or government declaration, etc."
      ],
      "metadata": {
        "id": "oHhc-TseoBmg"
      },
      "id": "oHhc-TseoBmg"
    },
    {
      "cell_type": "code",
      "source": [
        "# to find out the outliers, I draw a time series graph to locate potential outliers.\n",
        "plt.figure(figsize=(18, 6))\n",
        "plt.plot(daily_distance_2019['DATE'], daily_distance_2019['SEGMENT_MILES'], marker='o', linestyle='-')\n",
        "plt.title('Time-Series Plot of Daily Distance Traveled by Bus')\n",
        "plt.xlabel('Date')\n",
        "plt.ylabel('Distance Traveled')\n",
        "plt.grid(True)\n",
        "plt.xticks(rotation=45)\n",
        "plt.tight_layout()\n",
        "plt.show()\n",
        "# I did not find any outlier in this graph for 2019"
      ],
      "metadata": {
        "id": "pYhyzkIZpDff"
      },
      "id": "pYhyzkIZpDff",
      "execution_count": null,
      "outputs": []
    },
    {
      "cell_type": "code",
      "source": [
        "plt.figure(figsize=(18, 6))\n",
        "plt.plot(daily_distance_2020['DATE'], daily_distance_2020['SEGMENT_MILES'], marker='o', linestyle='-')\n",
        "plt.title('Time-Series Plot of Daily Distance Traveled by Bus')\n",
        "plt.xlabel('Date')\n",
        "plt.ylabel('Distance Traveled')\n",
        "plt.grid(True)\n",
        "plt.xticks(rotation=45)\n",
        "plt.tight_layout()\n",
        "plt.show()"
      ],
      "metadata": {
        "id": "rlinrZcV9QLN"
      },
      "id": "rlinrZcV9QLN",
      "execution_count": null,
      "outputs": []
    },
    {
      "cell_type": "markdown",
      "source": [
        "In this graph, from 2020 Mid-April to Mid-June, I see a significant decrease at the distance traveled by bus. The time matched the that of COVID so I guess COVID had something to do with it.\n",
        "I find this website: https://www.syracuse.com/coronavirus/2020/04/centro-bus-routes-reduced-amid-concerns-over-coronavirus.html talking about the centro bus routes reduced during those time because of COVID. This explains the reduction on the bus"
      ],
      "metadata": {
        "id": "9LMskTAQXKJF"
      },
      "id": "9LMskTAQXKJF"
    },
    {
      "cell_type": "markdown",
      "source": [
        "**Task 4 (20 points):** For both years 2019 and 2020, study the differences between the time of arrival (TIME_ACTUAL_ARRIVE) and the scheduled bus time (TIME_SCHEDULED) to determine the hours of the day, or the weeks of the year (or some other time period) where significant deviations between the arrival time and the scheduled time appear. Deviations of more than 10 minutes can be considered significant but you can change this limit if it makes sense for your analysis."
      ],
      "metadata": {
        "id": "TIoIedNFpDyb"
      },
      "id": "TIoIedNFpDyb"
    },
    {
      "cell_type": "code",
      "source": [
        "bus_data2019['TIME_ACTUAL_ARRIVE'] = pd.to_datetime(bus_data2019['TIME_ACTUAL_ARRIVE'])\n",
        "bus_data2019['TIME_SCHEDULED'] = pd.to_datetime(bus_data2019['TIME_SCHEDULED'])\n",
        "# Calculate the time differences in minutes, and save the values to a new column\n",
        "bus_data2019['Time_Difference'] = (bus_data2019['TIME_ACTUAL_ARRIVE'] - bus_data2019['TIME_SCHEDULED']).dt.total_seconds() / 60\n",
        "# Create a new column to identify the hour of the day\n",
        "bus_data2019['Hour_of_Day'] = bus_data2019['TIME_ACTUAL_ARRIVE'].dt.hour\n",
        "# Group by the hour of the dat and find out the mean of time difference\n",
        "hour_time_difference_2019 = bus_data2019.groupby('Hour_of_Day')['Time_Difference'].mean()\n",
        "hour_time_difference_2019 = pd.DataFrame({'Time Difference': hour_time_difference_2019})\n",
        "# Set the condition (over 10 mins)\n",
        "major_difference_hours_2019 = hour_time_difference_2019[(hour_time_difference_2019['Time Difference'] > 10) | (hour_time_difference_2019['Time Difference']< -10)]\n",
        "major_difference_hours_2019"
      ],
      "metadata": {
        "id": "gicUgIpvqNtQ"
      },
      "id": "gicUgIpvqNtQ",
      "execution_count": null,
      "outputs": []
    },
    {
      "cell_type": "markdown",
      "source": [
        "I believe there should be some mistakes in this graph since the significant amounts of time different appear on some unusual time like 0 and 4 with a huge difference. It probably should be because of the wrong schedule time. The rest of three time indicate the right time. 7 and 15 should be because of the rush hours."
      ],
      "metadata": {
        "id": "C5xQRy3N5ZSz"
      },
      "id": "C5xQRy3N5ZSz"
    },
    {
      "cell_type": "code",
      "source": [
        "bus_data2020['TIME_ACTUAL_ARRIVE'] = pd.to_datetime(bus_data2020['TIME_ACTUAL_ARRIVE'])\n",
        "bus_data2020['TIME_SCHEDULED'] = pd.to_datetime(bus_data2020['TIME_SCHEDULED'])\n",
        "\n",
        "# Calculate the time differences in minutes\n",
        "bus_data2020['Time_Difference'] = (bus_data2020['TIME_ACTUAL_ARRIVE'] - bus_data2020['TIME_SCHEDULED']).dt.total_seconds() / 60\n",
        "bus_data2020['Hour_of_Day'] = bus_data2020['TIME_ACTUAL_ARRIVE'].dt.hour\n",
        "hour_time_difference_2020 = bus_data2020.groupby('Hour_of_Day')['Time_Difference'].mean()\n",
        "hour_time_difference_2020 = pd.DataFrame({'Time Difference': hour_time_difference_2020})\n",
        "major_difference_hours_2020 = hour_time_difference_2020[(hour_time_difference_2020['Time Difference'] > 10) | (hour_time_difference_2020['Time Difference']< -10)]\n",
        "major_difference_hours_2020"
      ],
      "metadata": {
        "id": "LuJEjOwjlk1v"
      },
      "id": "LuJEjOwjlk1v",
      "execution_count": null,
      "outputs": []
    },
    {
      "cell_type": "markdown",
      "source": [
        "I believe the same thing, wrong schedule time here to make this happen."
      ],
      "metadata": {
        "id": "1k2Dq2C36WXn"
      },
      "id": "1k2Dq2C36WXn"
    },
    {
      "cell_type": "markdown",
      "source": [
        "***Subtask 4.1 (+10 points):*** For 2019 only investigate if there is any relationship between weather conditions (termperature, wind, snow) with the deviations between time of arrival and scheduled bust time. Justify your analysis with graphs and documentation."
      ],
      "metadata": {
        "id": "Z_MwBIMgqN5f"
      },
      "id": "Z_MwBIMgqN5f"
    },
    {
      "cell_type": "code",
      "source": [
        "# Merge the weather and bus info data together\n",
        "weather2019['DATE'] = pd.to_datetime(weather2019['DATE'])\n",
        "merged_2019 = pd.merge(weather2019, bus_data2019, on = 'DATE')\n",
        "# group by the DATE and find out the mean of AWND, PRCP,SNOW and TAVG.\n",
        "weather_difference = merged_2019.groupby('DATE')[['AWND','PRCP','SNOW','TAVG','Time_Difference']].mean().reset_index()\n",
        "weather_difference"
      ],
      "metadata": {
        "id": "k2CkZNWHq1NH"
      },
      "id": "k2CkZNWHq1NH",
      "execution_count": null,
      "outputs": []
    },
    {
      "cell_type": "code",
      "source": [
        "corr = weather_difference.corr()\n",
        "corr.style.background_gradient(cmap = 'coolwarm')"
      ],
      "metadata": {
        "id": "Kko3SLHvoBsF"
      },
      "id": "Kko3SLHvoBsF",
      "execution_count": null,
      "outputs": []
    },
    {
      "cell_type": "markdown",
      "source": [
        "From the correlation graph, the time difference has a higher relationship with average wind speed and average temperature."
      ],
      "metadata": {
        "id": "huAPSUZL6tCv"
      },
      "id": "huAPSUZL6tCv"
    },
    {
      "cell_type": "markdown",
      "source": [
        "***Subtask 4.2 (+10 points):*** Investigate if the VEHICLE_NUMBER or OPERATOR_ID have an influence in the deviations between time of arrival and scheduled bus time. Justify your analysis with graphs and documentation."
      ],
      "metadata": {
        "id": "_BNFzCF4q1aX"
      },
      "id": "_BNFzCF4q1aX"
    },
    {
      "cell_type": "code",
      "source": [
        "#merged_2019.head()\n",
        "# same process as above, group by the Vehicle number and find the mean of time difference\n",
        "veh_num_difference = merged_2019.groupby('VEHICLE_NUMBER')['Time_Difference'].mean()\n",
        "\n",
        "# the output is a series but I need a dataframe for graph. Convert it to a df\n",
        "veh_num_difference = veh_num_difference.reset_index()\n",
        "veh_num_difference.columns = ['Vehicle Number', 'Time Difference']\n",
        "# draw the relationship graph\n",
        "corr = veh_num_difference.corr()\n",
        "corr.style.background_gradient(cmap = 'coolwarm')"
      ],
      "metadata": {
        "id": "uP7U6WD1tut8"
      },
      "id": "uP7U6WD1tut8",
      "execution_count": null,
      "outputs": []
    },
    {
      "cell_type": "markdown",
      "source": [
        "From the correlation graph, the relationship between vehcile number and time difference is only -0.45,which is not a high correlation."
      ],
      "metadata": {
        "id": "IvBTbVFD7yXW"
      },
      "id": "IvBTbVFD7yXW"
    },
    {
      "cell_type": "code",
      "source": [
        "# same process for the operation ID\n",
        "oper_id_difference = merged_2019.groupby('OPERATOR_ID')['Time_Difference'].mean()\n",
        "oper_id_difference = oper_id_difference.reset_index()\n",
        "oper_id_difference.columns = ['Operation ID', 'Time Difference']\n",
        "\n",
        "corr = oper_id_difference.corr()\n",
        "corr.style.background_gradient(cmap = 'coolwarm')"
      ],
      "metadata": {
        "id": "52tKKg0hrU1I"
      },
      "id": "52tKKg0hrU1I",
      "execution_count": null,
      "outputs": []
    },
    {
      "cell_type": "markdown",
      "source": [
        "The correlation is 0.056, which has a strong correlation between the time difference and operation ID."
      ],
      "metadata": {
        "id": "SDMJEkAr8A08"
      },
      "id": "SDMJEkAr8A08"
    }
  ],
  "metadata": {
    "kernelspec": {
      "display_name": "Python 3 (ipykernel)",
      "language": "python",
      "name": "python3"
    },
    "language_info": {
      "codemirror_mode": {
        "name": "ipython",
        "version": 3
      },
      "file_extension": ".py",
      "mimetype": "text/x-python",
      "name": "python",
      "nbconvert_exporter": "python",
      "pygments_lexer": "ipython3",
      "version": "3.9.6"
    },
    "colab": {
      "provenance": [],
      "include_colab_link": true
    }
  },
  "nbformat": 4,
  "nbformat_minor": 5
}