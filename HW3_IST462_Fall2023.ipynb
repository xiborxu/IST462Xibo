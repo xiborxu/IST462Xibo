{
  "cells": [
    {
      "cell_type": "markdown",
      "metadata": {
        "id": "view-in-github",
        "colab_type": "text"
      },
      "source": [
        "<a href=\"https://colab.research.google.com/github/xiborxu/IST462xibo/blob/main/HW3_IST462_Fall2023.ipynb\" target=\"_parent\"><img src=\"https://colab.research.google.com/assets/colab-badge.svg\" alt=\"Open In Colab\"/></a>"
      ]
    },
    {
      "cell_type": "markdown",
      "metadata": {
        "id": "XjxZO-GRp7qd"
      },
      "source": [
        "# Homework 3  - IST 462 #\n"
      ]
    },
    {
      "cell_type": "markdown",
      "source": [
        "Student name:"
      ],
      "metadata": {
        "id": "z141cMAFDY6W"
      }
    },
    {
      "cell_type": "markdown",
      "metadata": {
        "id": "eocKRI9qp7qi"
      },
      "source": [
        "### For Questions 1 - 4, consider the following two dictionaries:"
      ]
    },
    {
      "cell_type": "code",
      "execution_count": 1,
      "metadata": {
        "id": "OPG0prwup7qi"
      },
      "outputs": [],
      "source": [
        "stock = {\n",
        "    \"banana\": 3,\n",
        "    \"apple\": 1,\n",
        "    \"orange\": 3,\n",
        "    \"pear\": 9,\n",
        "    \"avacado\": 15,\n",
        "    \"mango\": 2\n",
        "}\n",
        "prices = {\n",
        "    \"banana\": 2.0,\n",
        "    \"apple\": 2.5,\n",
        "    \"orange\": 3.5,\n",
        "    \"pear\": 4,\n",
        "    \"avacado\": 5.5,\n",
        "    \"mango\": 0.75\n",
        "}"
      ]
    },
    {
      "cell_type": "markdown",
      "metadata": {
        "id": "jOfH0Liyp7qk"
      },
      "source": [
        "#### ( 1a ) Show the expression that fetches the value of the stock dictionary at the key <u><i>orange</u></i>. Then use both the key and value in a concatenated sentence (e.g. 'this is an '+'orange').\n",
        "\n",
        "#### ( 1b ) Write a function that takes takes three parameters: <b>fruit_name, stock_quantity, unit_price</b> and:\n",
        "- appends a new item (fruitname: stock_quantity) to the stock dictionary\n",
        "- appends a new item (fruitname: unit_price) to the prices dictionary\n",
        "\n",
        "- *** Pick your own fruit, quantity, & price and execute the function to add to the two dictionaries.***\n",
        "\n",
        "\n",
        "##### [20 points]"
      ]
    },
    {
      "cell_type": "code",
      "execution_count": 2,
      "metadata": {
        "id": "fJH7BzEbp7qk",
        "colab": {
          "base_uri": "https://localhost:8080/"
        },
        "outputId": "f3ecb0d1-faf2-45e8-bf85-41a4552417be"
      },
      "outputs": [
        {
          "output_type": "stream",
          "name": "stdout",
          "text": [
            " There are 3 oranges left on the stock.\n"
          ]
        },
        {
          "output_type": "execute_result",
          "data": {
            "text/plain": [
              "({'banana': 3,\n",
              "  'apple': 1,\n",
              "  'orange': 3,\n",
              "  'pear': 9,\n",
              "  'avacado': 15,\n",
              "  'mango': 2,\n",
              "  'grape': 3},\n",
              " {'banana': 2.0,\n",
              "  'apple': 2.5,\n",
              "  'orange': 3.5,\n",
              "  'pear': 4,\n",
              "  'avacado': 5.5,\n",
              "  'mango': 0.75,\n",
              "  'grape': 3.5})"
            ]
          },
          "metadata": {},
          "execution_count": 2
        }
      ],
      "source": [
        "# Enter your code here, printing relevant answers to console:\n",
        "stock_orange = stock['orange'] # use the square parentheses to extract value from dictionary by key\n",
        "print(f' There are {stock_orange} oranges left on the stock.')\n",
        "\n",
        "def new_fruit(fruit_name, stock_quantity,unit_price): # define a function names new_fruit with three argunments\n",
        "  stock[fruit_name] = stock_quantity # in the function, add new values to dictionary\n",
        "  prices[fruit_name] = unit_price # add new values\n",
        "  return stock, prices # return the new dictionaries back\n",
        "\n",
        "new_fruit('grape', 3,3.5) # now call the function, with 3 argunments provided"
      ]
    },
    {
      "cell_type": "markdown",
      "metadata": {
        "id": "FkPLhqZ1p7ql"
      },
      "source": [
        "---\n",
        "#### ( 2 ) Write the code for a loop that iterates over the stock dictionary and prints each fruit, its quantity, and its price (value from prices dictionary)\n",
        "\n",
        "##### [20 points]"
      ]
    },
    {
      "cell_type": "code",
      "execution_count": 3,
      "metadata": {
        "id": "E0mFKXdZp7qm",
        "colab": {
          "base_uri": "https://localhost:8080/"
        },
        "outputId": "a0d919d4-efee-4f5d-aa8e-c819482aa8e4"
      },
      "outputs": [
        {
          "output_type": "stream",
          "name": "stdout",
          "text": [
            "banana stock: 3 fruit price: 2.0\n",
            "apple stock: 1 fruit price: 2.5\n",
            "orange stock: 3 fruit price: 3.5\n",
            "pear stock: 9 fruit price: 4\n",
            "avacado stock: 15 fruit price: 5.5\n",
            "mango stock: 2 fruit price: 0.75\n",
            "grape stock: 3 fruit price: 3.5\n"
          ]
        }
      ],
      "source": [
        "fruit = [] # create a new list\n",
        "for fruit_name, fruit_stock in stock.items(): # create a for loop to go over all keys&values in stock\n",
        "  fruit.append(fruit_name) # now add all keys (fruit name) to the list\n",
        "\n",
        "for fruit_name in fruit: # with a created list, go over the value by the fruit name again\n",
        "    fruit_stock = stock[fruit_name] # match the stock and price\n",
        "    fruit_price = prices[fruit_name]\n",
        "    print(f\"{fruit_name} stock: {fruit_stock} fruit price: {fruit_price}\") # output"
      ]
    },
    {
      "cell_type": "markdown",
      "metadata": {
        "id": "wIak3z2Np7qm"
      },
      "source": [
        " ----"
      ]
    },
    {
      "cell_type": "markdown",
      "metadata": {
        "id": "UkMRB660p7qo"
      },
      "source": [
        "#### ( 3 )  Suppose that we have a grocery list:\n",
        "groceries = ['apple', 'banana', 'pear']\n",
        "\n",
        "#### Write the code that will sum the total number in stock for all the items in the groceries list and prints this value to console.\n",
        "\n",
        "\n",
        "##### [20 points]"
      ]
    },
    {
      "cell_type": "code",
      "execution_count": 4,
      "metadata": {
        "id": "Qrjy-6cap7qo",
        "colab": {
          "base_uri": "https://localhost:8080/"
        },
        "outputId": "f64fc9f0-73ff-4ba4-d4db-8b66bb2022b7"
      },
      "outputs": [
        {
          "output_type": "stream",
          "name": "stdout",
          "text": [
            "13\n"
          ]
        }
      ],
      "source": [
        "# Enter your code here, printing relevant answers to console:\n",
        "groceries = ['apple', 'banana', 'pear']\n",
        "sum = 0 # create variable firstly for sum values\n",
        "for fruit in groceries: # for loop again to go over the values in groceries lists\n",
        "  if fruit in stock: # if the value can be matched\n",
        "    fruit_stock = stock[fruit] # then match the stock values\n",
        "    sum = sum + fruit_stock # and add the stock number to the sum\n",
        "\n",
        "print(sum)"
      ]
    },
    {
      "cell_type": "markdown",
      "metadata": {
        "id": "MEmDn-gLp7qp"
      },
      "source": [
        "#### ( 4 ) Write the code that can print out a total value of certain in-stock items.\n",
        "#### This program can iterate over the stock dictionary and for each item, multiply the number in stock times the price of that item in the prices dictionary.\n",
        "#### **Exclude** from the sum total fruit amounts (stock value * prices value for same key) less than 5 and greater than 50.\n",
        "- This must include the items for <i><u>cherry</i></u> (or your equivalent from [1b]).\n",
        "\n",
        "\n",
        "##### [20 points]"
      ]
    },
    {
      "cell_type": "code",
      "execution_count": 5,
      "metadata": {
        "outputId": "0914455b-ab82-4d0b-f0a4-d3ed76112ee1",
        "colab": {
          "base_uri": "https://localhost:8080/"
        },
        "id": "Jay6VlcJX_JX"
      },
      "outputs": [
        {
          "output_type": "stream",
          "name": "stdout",
          "text": [
            "82.5\n"
          ]
        }
      ],
      "source": [
        "# Enter your code here, printing relevant answers to console:\n",
        "fruit = []\n",
        "for fruit_name, fruit_stock in stock.items(): # same method above\n",
        "  if fruit_stock > 5 and fruit_stock < 50: # but add a condition that its stock value has be between 5 and 50\n",
        "    fruit.append(fruit_name) # now add the new fruit that meets the condition to the dictionary\n",
        "\n",
        "for fruit_name in fruit:\n",
        "  if (fruit_name in stock) and (fruit_name in prices):\n",
        "    fruit_stock = stock[fruit_name]\n",
        "    fruit_price = prices[fruit_name]  # same method above\n",
        "    total_value = fruit_stock * fruit_price # calculate the value by stock timing price\n",
        "\n",
        "print(total_value)"
      ]
    },
    {
      "cell_type": "markdown",
      "metadata": {
        "id": "BHTa9cDTp7qq"
      },
      "source": [
        "---"
      ]
    },
    {
      "cell_type": "markdown",
      "metadata": {
        "id": "nKCKDN5wp7qr"
      },
      "source": [
        "---"
      ]
    },
    {
      "cell_type": "markdown",
      "metadata": {
        "id": "R81LlP9yp7qr"
      },
      "source": [
        "#### ( 5 ) Given the number guessing code below, add <i>try</i> and <i>except</i> clauses such that:\n",
        "- If the user enters a string, then the following message appears:\n",
        "    - <i>\"Sorry this is not a number. Try Again.\"</i>\n",
        "- Then the iteration jumps back to the beginning of the loop without having counted as a guess\n",
        "\n",
        "#### [20 points]"
      ]
    },
    {
      "cell_type": "code",
      "execution_count": null,
      "metadata": {
        "id": "VMHUvs3cp7qs",
        "colab": {
          "base_uri": "https://localhost:8080/"
        },
        "outputId": "49c5e284-7861-4824-dff7-1b59be2d6b46"
      },
      "outputs": [
        {
          "output_type": "stream",
          "name": "stdout",
          "text": [
            "I am thinking of a number between 1 and 20.\n",
            "Take a guess.\n",
            "as\n",
            "Your input is now a number.\n",
            "Take a guess.\n"
          ]
        }
      ],
      "source": [
        "from ast import Continue\n",
        "# Enter your code here, printing relevant answers to console:\n",
        "\n",
        "import random\n",
        "guessesTaken = 0\n",
        "\n",
        "number = random.randint(1, 20)\n",
        "print('I am thinking of a number between 1 and 20.')\n",
        "\n",
        "while guessesTaken < 6:\n",
        "    print('Take a guess.') # There are four spaces in front of print.\n",
        "    guess = input()\n",
        "    try: # give a try here to see if we can use int() to turn the guess into an int\n",
        "          # if the user gives a word, it cannot be turned into an int\n",
        "      guess = int(guess)\n",
        "    except ValueError: # if user enters a word, it would face value error\n",
        "      print(\"Your input is now a number.\")\n",
        "      continue # continue allows the program jumps back to beginning\n",
        "\n",
        "    guessesTaken = guessesTaken + 1\n",
        "\n",
        "    if guess < number:\n",
        "        print('Your guess is too low.') # There are eight spaces in front of print.\n",
        "\n",
        "    if guess > number:\n",
        "        print('Your guess is too high.')\n",
        "\n",
        "    if guess == number:\n",
        "        break\n",
        "\n",
        "\n",
        "if guess == number:\n",
        "  guessesTaken = str(guessesTaken)\n",
        "  print('Good job - You guessed my number in ' + guessesTaken + ' guesses!')\n",
        "if guess != number:\n",
        "  number = str(number)\n",
        "  print('Nope. The number I was thinking of was ' + number)"
      ]
    }
  ],
  "metadata": {
    "colab": {
      "provenance": [],
      "include_colab_link": true
    },
    "kernelspec": {
      "display_name": "Python 3",
      "language": "python",
      "name": "python3"
    },
    "language_info": {
      "codemirror_mode": {
        "name": "ipython",
        "version": 3
      },
      "file_extension": ".py",
      "mimetype": "text/x-python",
      "name": "python",
      "nbconvert_exporter": "python",
      "pygments_lexer": "ipython3",
      "version": "3.6.1"
    }
  },
  "nbformat": 4,
  "nbformat_minor": 0
}