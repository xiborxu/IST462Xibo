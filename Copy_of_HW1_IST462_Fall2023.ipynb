{
  "cells": [
    {
      "cell_type": "markdown",
      "id": "31c05689",
      "metadata": {
        "id": "31c05689"
      },
      "source": [
        "# Homework 1 - IST 462 #"
      ]
    },
    {
      "cell_type": "markdown",
      "source": [
        "Student name: Xibo Xu"
      ],
      "metadata": {
        "id": "9g5hocHlDJIq"
      },
      "id": "9g5hocHlDJIq"
    },
    {
      "cell_type": "markdown",
      "id": "3ebe3c7a",
      "metadata": {
        "id": "3ebe3c7a"
      },
      "source": [
        "Complete the following tasks in the cells provided. If you need additional cells, please add them. To submit your solution download the notebook as a .ipynb file to your local computer system and print to PDF and submit them via Blackboard (both .ipynb and PDF must be submitted)."
      ]
    },
    {
      "cell_type": "markdown",
      "id": "b8f3923b",
      "metadata": {
        "id": "b8f3923b"
      },
      "source": [
        "1. Create a string called *myfirstname* and store your first name in it (5 points)"
      ]
    },
    {
      "cell_type": "code",
      "execution_count": null,
      "id": "3adfe291",
      "metadata": {
        "id": "3adfe291",
        "outputId": "ebcf7f35-6e48-4441-afe4-434ec6f68ad8",
        "colab": {
          "base_uri": "https://localhost:8080/",
          "height": 35
        }
      },
      "outputs": [
        {
          "output_type": "execute_result",
          "data": {
            "text/plain": [
              "'Xibo'"
            ],
            "application/vnd.google.colaboratory.intrinsic+json": {
              "type": "string"
            }
          },
          "metadata": {},
          "execution_count": 2
        }
      ],
      "source": [
        "myfirstname = \"Xibo\"\n",
        "myfirstname"
      ]
    },
    {
      "cell_type": "markdown",
      "id": "afb922f5",
      "metadata": {
        "id": "afb922f5"
      },
      "source": [
        "2. Create a string called *mylastname* and store your last name in it (5 points)"
      ]
    },
    {
      "cell_type": "code",
      "execution_count": null,
      "id": "4d669b3b",
      "metadata": {
        "id": "4d669b3b",
        "outputId": "baef88f2-cc10-455c-9252-aef7f8514f87",
        "colab": {
          "base_uri": "https://localhost:8080/",
          "height": 35
        }
      },
      "outputs": [
        {
          "output_type": "execute_result",
          "data": {
            "text/plain": [
              "'Xu'"
            ],
            "application/vnd.google.colaboratory.intrinsic+json": {
              "type": "string"
            }
          },
          "metadata": {},
          "execution_count": 3
        }
      ],
      "source": [
        "mylastname = \"Xu\"\n",
        "mylastname"
      ]
    },
    {
      "cell_type": "markdown",
      "id": "cd22e1f2",
      "metadata": {
        "id": "cd22e1f2"
      },
      "source": [
        "3. Create a string called *myname* that concatenates the strings *myfirstname* and *mylastname* that you created previously (5 points)"
      ]
    },
    {
      "cell_type": "code",
      "execution_count": null,
      "id": "56e9acb8",
      "metadata": {
        "id": "56e9acb8",
        "outputId": "194fc1bc-3a43-4f06-b412-1e0a9a5ac888",
        "colab": {
          "base_uri": "https://localhost:8080/",
          "height": 35
        }
      },
      "outputs": [
        {
          "output_type": "execute_result",
          "data": {
            "text/plain": [
              "'Xibo Xu'"
            ],
            "application/vnd.google.colaboratory.intrinsic+json": {
              "type": "string"
            }
          },
          "metadata": {},
          "execution_count": 5
        }
      ],
      "source": [
        "myname = myfirstname + \" \" + mylastname\n",
        "myname"
      ]
    },
    {
      "cell_type": "markdown",
      "id": "d97f2a52",
      "metadata": {
        "id": "d97f2a52"
      },
      "source": [
        "4. Use the appropriate methods seen in the class session to do the following on the string *myname*:"
      ]
    },
    {
      "cell_type": "markdown",
      "id": "8fc95c33",
      "metadata": {
        "id": "8fc95c33"
      },
      "source": [
        "4a. Print out the number of characters (i.e. the length) that make up *myname* (5 points)"
      ]
    },
    {
      "cell_type": "code",
      "execution_count": null,
      "id": "5682eec8",
      "metadata": {
        "id": "5682eec8",
        "outputId": "f06f994c-7f69-4a35-a842-5755a425e5e9",
        "colab": {
          "base_uri": "https://localhost:8080/"
        }
      },
      "outputs": [
        {
          "output_type": "execute_result",
          "data": {
            "text/plain": [
              "7"
            ]
          },
          "metadata": {},
          "execution_count": 6
        }
      ],
      "source": [
        "len(myname)"
      ]
    },
    {
      "cell_type": "markdown",
      "id": "1b3c3944",
      "metadata": {
        "id": "1b3c3944"
      },
      "source": [
        "4b. Derive a substring composed of the letters in positions 2 to 5 from *myname*. The characters in positions 2 and 5 must be included (5 points)"
      ]
    },
    {
      "cell_type": "code",
      "execution_count": null,
      "id": "fd2c475e",
      "metadata": {
        "id": "fd2c475e",
        "outputId": "e79d2af0-4d8d-4014-96b8-54aab71eebad",
        "colab": {
          "base_uri": "https://localhost:8080/",
          "height": 35
        }
      },
      "outputs": [
        {
          "output_type": "execute_result",
          "data": {
            "text/plain": [
              "'bo X'"
            ],
            "application/vnd.google.colaboratory.intrinsic+json": {
              "type": "string"
            }
          },
          "metadata": {},
          "execution_count": 9
        }
      ],
      "source": [
        "submyname = myname[2:6]\n",
        "submyname"
      ]
    },
    {
      "cell_type": "markdown",
      "id": "84f35b38",
      "metadata": {
        "id": "84f35b38"
      },
      "source": [
        "4c. Choose a letter that is present in myname and replace it with the character X (5 points)"
      ]
    },
    {
      "cell_type": "code",
      "execution_count": null,
      "id": "de122f35",
      "metadata": {
        "id": "de122f35",
        "outputId": "ddac5a4f-5b56-498f-fd20-375e7629d6ab",
        "colab": {
          "base_uri": "https://localhost:8080/",
          "height": 35
        }
      },
      "outputs": [
        {
          "output_type": "execute_result",
          "data": {
            "text/plain": [
              "'XiXo Xu'"
            ],
            "application/vnd.google.colaboratory.intrinsic+json": {
              "type": "string"
            }
          },
          "metadata": {},
          "execution_count": 13
        }
      ],
      "source": [
        "mynewname = myname.replace('b','X')\n",
        "mynewname"
      ]
    },
    {
      "cell_type": "markdown",
      "id": "3a622275",
      "metadata": {
        "id": "3a622275"
      },
      "source": [
        "5. Create a list called *WeekDays* that contains the names of the day of the week. (10 points)"
      ]
    },
    {
      "cell_type": "code",
      "execution_count": null,
      "id": "61609d71",
      "metadata": {
        "id": "61609d71",
        "outputId": "db90dbb2-5f75-4349-bb0f-8f011e925b27",
        "colab": {
          "base_uri": "https://localhost:8080/"
        }
      },
      "outputs": [
        {
          "output_type": "execute_result",
          "data": {
            "text/plain": [
              "['Monday', 'Tuesday', 'Wednesday', 'Thursday', 'Friday', 'Saturday', 'Sunday']"
            ]
          },
          "metadata": {},
          "execution_count": 15
        }
      ],
      "source": [
        "WeekDays = ['Monday','Tuesday','Wednesday','Thursday','Friday','Saturday','Sunday']\n",
        "WeekDays"
      ]
    },
    {
      "cell_type": "markdown",
      "id": "5e737e19",
      "metadata": {
        "id": "5e737e19"
      },
      "source": [
        "6. Create a dictionary that uses the course numbers of the courses you are taking this semester as the keys of the dictionary and for each key associate as its value the name of the course. As an example for IST 462, the entry would be    *462 : Scripting for Data Analysis* (30 points)"
      ]
    },
    {
      "cell_type": "code",
      "execution_count": null,
      "id": "2ec360d4",
      "metadata": {
        "id": "2ec360d4",
        "outputId": "001151c8-643b-4b5b-bf82-46dc0eace8ea",
        "colab": {
          "base_uri": "https://localhost:8080/"
        }
      },
      "outputs": [
        {
          "output_type": "execute_result",
          "data": {
            "text/plain": [
              "{343: 'Data in Society',\n",
              " 345: 'Managing Info System Projects',\n",
              " 407: 'Data Mining',\n",
              " 462: 'Scripting for Data Analysis',\n",
              " 331: '1st Crouse of Linear Algebra'}"
            ]
          },
          "metadata": {},
          "execution_count": 37
        }
      ],
      "source": [
        "Crouses = {\n",
        "    343 : \"Data in Society\",\n",
        "    345 : \"Managing Info System Projects\",\n",
        "    407 : \"Data Mining\",\n",
        "    462 : \"Scripting for Data Analysis\",\n",
        "    331 : \"1st Crouse of Linear Algebra\"\n",
        "}\n",
        "Crouses"
      ]
    },
    {
      "cell_type": "markdown",
      "id": "8ee93a77",
      "metadata": {
        "id": "8ee93a77"
      },
      "source": [
        "7. Do some research on how to use Markdown commands and write the text of the first three sections of your resume (example: education, objectives, past experience, etc.). You can use the following resource to learn about Markdown:\n",
        "- https://medium.com/analytics-vidhya/the-ultimate-markdown-guide-for-jupyter-notebook-d5e5abf728fd\n",
        "- Short video: https://www.youtube.com/watch?v=uVLzL5E-YBM\n",
        "- Long video/tutorial: https://www.youtube.com/watch?v=mTIifW_LU5s\n",
        "\n",
        "(30 points)"
      ]
    },
    {
      "cell_type": "code",
      "source": [],
      "metadata": {
        "id": "LRtBUPswB03L"
      },
      "id": "LRtBUPswB03L",
      "execution_count": null,
      "outputs": []
    }
  ],
  "metadata": {
    "kernelspec": {
      "display_name": "Python 3 (ipykernel)",
      "language": "python",
      "name": "python3"
    },
    "language_info": {
      "codemirror_mode": {
        "name": "ipython",
        "version": 3
      },
      "file_extension": ".py",
      "mimetype": "text/x-python",
      "name": "python",
      "nbconvert_exporter": "python",
      "pygments_lexer": "ipython3",
      "version": "3.9.6"
    },
    "colab": {
      "provenance": []
    }
  },
  "nbformat": 4,
  "nbformat_minor": 5
}