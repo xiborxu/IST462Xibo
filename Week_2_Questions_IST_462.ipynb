{
  "cells": [
    {
      "cell_type": "markdown",
      "metadata": {
        "id": "view-in-github",
        "colab_type": "text"
      },
      "source": [
        "<a href=\"https://colab.research.google.com/github/xiborxu/IST462xibo/blob/main/Week_2_Questions_IST_462.ipynb\" target=\"_parent\"><img src=\"https://colab.research.google.com/assets/colab-badge.svg\" alt=\"Open In Colab\"/></a>"
      ]
    },
    {
      "cell_type": "markdown",
      "metadata": {
        "id": "C0GvC6CqK9Kz"
      },
      "source": [
        "# IST 462 Lecture 2 Questions\n"
      ]
    },
    {
      "cell_type": "markdown",
      "metadata": {
        "id": "yJR8KBtBK9K1"
      },
      "source": [
        "---\n",
        "### Questions"
      ]
    },
    {
      "cell_type": "markdown",
      "metadata": {
        "id": "yN2Dc8D0K9K1"
      },
      "source": [
        "#### ( 1a ) Write the following code and return <i>x</i> using the print function. What does it return and why?\n",
        "- x = 99999\n",
        "- x = x+1\n",
        "\n"
      ]
    },
    {
      "cell_type": "code",
      "execution_count": 1,
      "metadata": {
        "id": "qNzy89rHK9K3",
        "outputId": "76bfc040-ec32-4b22-bba4-a345569300c5",
        "colab": {
          "base_uri": "https://localhost:8080/"
        }
      },
      "outputs": [
        {
          "output_type": "stream",
          "name": "stdout",
          "text": [
            "100000\n"
          ]
        }
      ],
      "source": [
        "# Enter your code here, printing relevant answers to console:\n",
        "x = 99999\n",
        "x = x + 1\n",
        "\n",
        "print(x)"
      ]
    },
    {
      "cell_type": "markdown",
      "metadata": {
        "id": "RxiBvH5RK9K3"
      },
      "source": [
        "#### ( 1b ) Assume that we execute the following assignment statements:\n",
        "- width = 11\n",
        "- height = 22.0\n",
        "\n",
        "#### For each of the following expressions, print the value of the expression and its data type.\n",
        "-  width / 2\n",
        "-  width / 2.0\n",
        "-  height * 2\n",
        "-  height / 2.0\n",
        "-  width / height\n"
      ]
    },
    {
      "cell_type": "code",
      "execution_count": 14,
      "metadata": {
        "id": "lgvI6uGCK9K4",
        "outputId": "f62000d9-5446-4525-a806-f467b1cc5845",
        "colab": {
          "base_uri": "https://localhost:8080/"
        }
      },
      "outputs": [
        {
          "output_type": "execute_result",
          "data": {
            "text/plain": [
              "0.5"
            ]
          },
          "metadata": {},
          "execution_count": 14
        }
      ],
      "source": [
        "# Enter your code here, printing relevant answers to console:\n",
        "width = 11\n",
        "height = 22.0\n",
        "\n",
        "width/2 # the value is 5.5 and the data type is float\n",
        "width/2.0 # the value is 5.5 and the data type is float\n",
        "height * 2 # the value is 44.0 and the data type is float\n",
        "height/2.0 # the value is 11.0 and the data type is 11.0\n",
        "width/height # the value is 0.5 and the data type is float"
      ]
    },
    {
      "cell_type": "markdown",
      "metadata": {
        "id": "zT3crleAK9K4"
      },
      "source": [
        "---\n",
        "#### ( 2 ) Write a sequence of statements which <u><i>prompt</i></u> the user for hours and rate per hour, printing each one, and then to computing gross pay as:\n",
        "- ( hours * rate )\n",
        "\n",
        "#### Your output lines should look something like:\n",
        "- Enter Hours: 35\n",
        "- Enter Rate: 2.75\n",
        "- Pay: 96.25\n"
      ]
    },
    {
      "cell_type": "code",
      "execution_count": 37,
      "metadata": {
        "id": "Uv__tiygK9K5",
        "outputId": "410521a8-6b13-4552-8cc7-1eb4a515b8aa",
        "colab": {
          "base_uri": "https://localhost:8080/"
        }
      },
      "outputs": [
        {
          "output_type": "stream",
          "name": "stdout",
          "text": [
            "Your working hours are:32\n",
            "Your working rate is:$14.2\n",
            "Your pay is $454.40\n"
          ]
        }
      ],
      "source": [
        "# Enter your code here, printing relevant answers to console:\n",
        "\n",
        "Hours = float(input(\"Your working hours are:\")) # ask about the hours and convert it to float\n",
        "Rate = float(input(\"Your working rate is:$\")) # ask about the rate and convert it to float\n",
        "Pay = Hours*Rate # create a new variable by hours timing rate\n",
        "print(f\"Your pay is ${Pay:.2f}\") # Output by a f-string; {} to show the variable"
      ]
    },
    {
      "cell_type": "markdown",
      "metadata": {
        "id": "sbCzgcypK9K5"
      },
      "source": [
        " ----"
      ]
    },
    {
      "cell_type": "markdown",
      "metadata": {
        "id": "XOvrXOGPK9K6"
      },
      "source": [
        "#### ( 3 ) Rewrite your pay computation <i><u>(#3)</u></i> and additionally give the employee 1.5 (150%) times their hourly rate for the extra hours they worked above the regular 40 hours.\n"
      ]
    },
    {
      "cell_type": "code",
      "execution_count": 39,
      "metadata": {
        "id": "ElTVWtCVK9K7",
        "outputId": "862e53bf-b987-4f15-bb6c-16ea9f7e39c3",
        "colab": {
          "base_uri": "https://localhost:8080/"
        }
      },
      "outputs": [
        {
          "output_type": "stream",
          "name": "stdout",
          "text": [
            "Your working hours are: 2\n",
            "Your working rate is: 32.44\n",
            "Your pay is 64.88\n"
          ]
        }
      ],
      "source": [
        "# Enter your code here, printing relevant answers to console:\n",
        "Hours = float(input(\"Your working hours are: \"))\n",
        "Rate = float(input(\"Your working rate is: \")) #same code above\n",
        "\n",
        "if Hours >= 40: # consider two situation: 1. if the employee works over 40 hours\n",
        "  Pay = 40*Rate + (Hours-40)*Rate*1.5 # the pay should be 40*rate (pay for the 40 hours) + (Hours-40)*Rate*1.5 (extra hour pay)\n",
        "else: # 2. if the employee works less than 40 hours\n",
        "  Pay = Hours*Rate # the pay is normal\n",
        "print(f\"Your pay is {Pay:.2f}\")"
      ]
    },
    {
      "cell_type": "markdown",
      "metadata": {
        "id": "pHukZvtHK9K8"
      },
      "source": [
        "---\n",
        "\n",
        "#### ( 4 ) Suppose that there is a list of strings defined, called samples. Define the list so that some strings have only 1 or 2 characters and some strings have more.  Write a loop that prints out all the strings whose length is greater than 2.\n",
        "\n",
        "Nake up a list then write your loop to use the list samples, for example:\n",
        "\n",
        "   <i> samples = [‘at’, ‘bat’, ‘c’, . . . .  ]  </i>\n",
        "\n",
        "Submit your list, your code and an example run.\n"
      ]
    },
    {
      "cell_type": "code",
      "execution_count": 30,
      "metadata": {
        "id": "pwYyxnRvK9K8",
        "outputId": "562dbf0c-241d-48e8-ba4b-1e9d1963f076",
        "colab": {
          "base_uri": "https://localhost:8080/"
        }
      },
      "outputs": [
        {
          "output_type": "stream",
          "name": "stdout",
          "text": [
            "bat\n"
          ]
        }
      ],
      "source": [
        "# Enter your code here, printing relevant answers to console:\n",
        "samples = ['at','bat','c']\n",
        "for sample in samples: # for statement to check elements in samples\n",
        "  if len(sample) >2: # set the condition\n",
        "    print(sample) # type"
      ]
    },
    {
      "cell_type": "markdown",
      "metadata": {
        "id": "vYfM6ia_K9K8"
      },
      "source": [
        "#### ( 5 ) Again suppose that there is a list of strings defined, called samples.  Define the list so that some strings have only 1 or 2 characters and some strings have <u>more than 5.</u>  Write a loop that prints out all the strings whose length is greater than 2 and whose length is less than 5.\n",
        "\n",
        "Make up a list then write your loop to use the list samples. For example:\n",
        "\n",
        "<i>samples = [‘at’, ‘book’, ‘c’, ‘dog’, ‘elephant’, . . .  ]</i>\n",
        "\n",
        "Submit your list, your code and an example run.\n"
      ]
    },
    {
      "cell_type": "code",
      "execution_count": 40,
      "metadata": {
        "id": "syT-wDtUK9K9",
        "outputId": "b4dff96b-6b23-4034-fdbf-9736902cac2f",
        "colab": {
          "base_uri": "https://localhost:8080/"
        }
      },
      "outputs": [
        {
          "output_type": "stream",
          "name": "stdout",
          "text": [
            "book\n",
            "dog\n"
          ]
        }
      ],
      "source": [
        "# Enter your code here, printing relevant answers to console:\n",
        "samples = ['at','book','c','dog','elephant']\n",
        "for sample in samples:\n",
        "  if len(sample)>2 and len(sample)<5: # and statement to set two conditions. Statisfy both sides of the and to make if statement works\n",
        "    print(sample)"
      ]
    },
    {
      "cell_type": "code",
      "source": [],
      "metadata": {
        "id": "NJLEIcLJG6rg"
      },
      "execution_count": null,
      "outputs": []
    }
  ],
  "metadata": {
    "kernelspec": {
      "display_name": "Python 3",
      "language": "python",
      "name": "python3"
    },
    "language_info": {
      "codemirror_mode": {
        "name": "ipython",
        "version": 3
      },
      "file_extension": ".py",
      "mimetype": "text/x-python",
      "name": "python",
      "nbconvert_exporter": "python",
      "pygments_lexer": "ipython3",
      "version": "3.7.3"
    },
    "colab": {
      "provenance": [],
      "include_colab_link": true
    }
  },
  "nbformat": 4,
  "nbformat_minor": 0
}