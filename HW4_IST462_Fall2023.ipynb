{
  "cells": [
    {
      "cell_type": "markdown",
      "metadata": {
        "id": "view-in-github",
        "colab_type": "text"
      },
      "source": [
        "<a href=\"https://colab.research.google.com/github/xiborxu/IST462xibo/blob/main/HW4_IST462_Fall2023.ipynb\" target=\"_parent\"><img src=\"https://colab.research.google.com/assets/colab-badge.svg\" alt=\"Open In Colab\"/></a>"
      ]
    },
    {
      "cell_type": "markdown",
      "id": "7a7212f9",
      "metadata": {
        "id": "7a7212f9"
      },
      "source": [
        "# Homework 4  - IST 462 #"
      ]
    },
    {
      "cell_type": "markdown",
      "source": [
        "Student name: Xibo Xu"
      ],
      "metadata": {
        "id": "z141cMAFDY6W"
      },
      "id": "z141cMAFDY6W"
    },
    {
      "cell_type": "code",
      "execution_count": 4,
      "id": "13a17732",
      "metadata": {
        "id": "13a17732"
      },
      "outputs": [],
      "source": [
        "#importing necessary libraries\n",
        "import pandas as pd\n",
        "import numpy as np\n",
        "import matplotlib\n",
        "import matplotlib.pyplot as plt"
      ]
    },
    {
      "cell_type": "code",
      "execution_count": 5,
      "id": "d56d4805",
      "metadata": {
        "id": "d56d4805",
        "colab": {
          "base_uri": "https://localhost:8080/"
        },
        "outputId": "08fb242a-2ff1-4899-a92f-7e18d4f77924"
      },
      "outputs": [
        {
          "output_type": "stream",
          "name": "stdout",
          "text": [
            "Drive already mounted at /content/drive; to attempt to forcibly remount, call drive.mount(\"/content/drive\", force_remount=True).\n"
          ]
        }
      ],
      "source": [
        "# Please make sure that the olympics1992_2008 file has been uploaded to the same folder where you have this\n",
        "#       notebook file in your google drive and connect your drive\n",
        "from google.colab import drive\n",
        "drive.mount('/content/drive')"
      ]
    },
    {
      "cell_type": "code",
      "source": [
        "odata = pd.read_csv('/content/HW4_olympics1992_2008.csv',skiprows=4)"
      ],
      "metadata": {
        "id": "vEO_Tv0BMO2t"
      },
      "id": "vEO_Tv0BMO2t",
      "execution_count": 6,
      "outputs": []
    },
    {
      "cell_type": "code",
      "execution_count": 7,
      "id": "cd108412",
      "metadata": {
        "id": "cd108412",
        "colab": {
          "base_uri": "https://localhost:8080/"
        },
        "outputId": "fc0e0466-9001-453b-c5db-e84376892513"
      },
      "outputs": [
        {
          "output_type": "stream",
          "name": "stdout",
          "text": [
            "<class 'pandas.core.frame.DataFrame'>\n",
            "RangeIndex: 9619 entries, 0 to 9618\n",
            "Data columns (total 10 columns):\n",
            " #   Column        Non-Null Count  Dtype \n",
            "---  ------        --------------  ----- \n",
            " 0   City          9619 non-null   object\n",
            " 1   Edition       9619 non-null   int64 \n",
            " 2   Sport         9619 non-null   object\n",
            " 3   Discipline    9619 non-null   object\n",
            " 4   Athlete       9619 non-null   object\n",
            " 5   NOC           9619 non-null   object\n",
            " 6   Gender        9619 non-null   object\n",
            " 7   Event         9619 non-null   object\n",
            " 8   Event_gender  9619 non-null   object\n",
            " 9   Medal         9619 non-null   object\n",
            "dtypes: int64(1), object(9)\n",
            "memory usage: 751.6+ KB\n"
          ]
        }
      ],
      "source": [
        "# Start exploratory data analysis\n",
        "odata.info()"
      ]
    },
    {
      "cell_type": "code",
      "execution_count": 8,
      "id": "19f6aa52",
      "metadata": {
        "id": "19f6aa52",
        "colab": {
          "base_uri": "https://localhost:8080/",
          "height": 359
        },
        "outputId": "93986c4c-0d00-4b69-f40b-e867d4fa4c63"
      },
      "outputs": [
        {
          "output_type": "execute_result",
          "data": {
            "text/plain": [
              "        City  Edition     Sport Discipline             Athlete  NOC Gender  \\\n",
              "0  Barcelona     1992  Aquatics     Diving           XIONG, Ni  CHN    Men   \n",
              "1  Barcelona     1992  Aquatics     Diving         SUN, Shuwei  CHN    Men   \n",
              "2  Barcelona     1992  Aquatics     Diving     DONIE, Scott R.  USA    Men   \n",
              "3  Barcelona     1992  Aquatics     Diving   CLARK, Mary Ellen  USA  Women   \n",
              "4  Barcelona     1992  Aquatics     Diving         FU, Mingxia  CHN  Women   \n",
              "5  Barcelona     1992  Aquatics     Diving    MIROCHINA, Elena  EUN  Women   \n",
              "6  Barcelona     1992  Aquatics     Diving      SAUTIN, Dmitry  EUN    Men   \n",
              "7  Barcelona     1992  Aquatics     Diving  LENZI, Mark Edward  USA    Men   \n",
              "8  Barcelona     1992  Aquatics     Diving       TAN, Liang-De  CHN    Men   \n",
              "9  Barcelona     1992  Aquatics     Diving   BALDUS, Brita Pia  GER  Women   \n",
              "\n",
              "            Event Event_gender   Medal  \n",
              "0    10m platform            M  Bronze  \n",
              "1    10m platform            M    Gold  \n",
              "2    10m platform            M  Silver  \n",
              "3    10m platform            W  Bronze  \n",
              "4    10m platform            W    Gold  \n",
              "5    10m platform            W  Silver  \n",
              "6  3m springboard            M  Bronze  \n",
              "7  3m springboard            M    Gold  \n",
              "8  3m springboard            M  Silver  \n",
              "9  3m springboard            W  Bronze  "
            ],
            "text/html": [
              "\n",
              "  <div id=\"df-1ed7dc2e-eafe-4bf6-ab8f-508c076df0c7\" class=\"colab-df-container\">\n",
              "    <div>\n",
              "<style scoped>\n",
              "    .dataframe tbody tr th:only-of-type {\n",
              "        vertical-align: middle;\n",
              "    }\n",
              "\n",
              "    .dataframe tbody tr th {\n",
              "        vertical-align: top;\n",
              "    }\n",
              "\n",
              "    .dataframe thead th {\n",
              "        text-align: right;\n",
              "    }\n",
              "</style>\n",
              "<table border=\"1\" class=\"dataframe\">\n",
              "  <thead>\n",
              "    <tr style=\"text-align: right;\">\n",
              "      <th></th>\n",
              "      <th>City</th>\n",
              "      <th>Edition</th>\n",
              "      <th>Sport</th>\n",
              "      <th>Discipline</th>\n",
              "      <th>Athlete</th>\n",
              "      <th>NOC</th>\n",
              "      <th>Gender</th>\n",
              "      <th>Event</th>\n",
              "      <th>Event_gender</th>\n",
              "      <th>Medal</th>\n",
              "    </tr>\n",
              "  </thead>\n",
              "  <tbody>\n",
              "    <tr>\n",
              "      <th>0</th>\n",
              "      <td>Barcelona</td>\n",
              "      <td>1992</td>\n",
              "      <td>Aquatics</td>\n",
              "      <td>Diving</td>\n",
              "      <td>XIONG, Ni</td>\n",
              "      <td>CHN</td>\n",
              "      <td>Men</td>\n",
              "      <td>10m platform</td>\n",
              "      <td>M</td>\n",
              "      <td>Bronze</td>\n",
              "    </tr>\n",
              "    <tr>\n",
              "      <th>1</th>\n",
              "      <td>Barcelona</td>\n",
              "      <td>1992</td>\n",
              "      <td>Aquatics</td>\n",
              "      <td>Diving</td>\n",
              "      <td>SUN, Shuwei</td>\n",
              "      <td>CHN</td>\n",
              "      <td>Men</td>\n",
              "      <td>10m platform</td>\n",
              "      <td>M</td>\n",
              "      <td>Gold</td>\n",
              "    </tr>\n",
              "    <tr>\n",
              "      <th>2</th>\n",
              "      <td>Barcelona</td>\n",
              "      <td>1992</td>\n",
              "      <td>Aquatics</td>\n",
              "      <td>Diving</td>\n",
              "      <td>DONIE, Scott R.</td>\n",
              "      <td>USA</td>\n",
              "      <td>Men</td>\n",
              "      <td>10m platform</td>\n",
              "      <td>M</td>\n",
              "      <td>Silver</td>\n",
              "    </tr>\n",
              "    <tr>\n",
              "      <th>3</th>\n",
              "      <td>Barcelona</td>\n",
              "      <td>1992</td>\n",
              "      <td>Aquatics</td>\n",
              "      <td>Diving</td>\n",
              "      <td>CLARK, Mary Ellen</td>\n",
              "      <td>USA</td>\n",
              "      <td>Women</td>\n",
              "      <td>10m platform</td>\n",
              "      <td>W</td>\n",
              "      <td>Bronze</td>\n",
              "    </tr>\n",
              "    <tr>\n",
              "      <th>4</th>\n",
              "      <td>Barcelona</td>\n",
              "      <td>1992</td>\n",
              "      <td>Aquatics</td>\n",
              "      <td>Diving</td>\n",
              "      <td>FU, Mingxia</td>\n",
              "      <td>CHN</td>\n",
              "      <td>Women</td>\n",
              "      <td>10m platform</td>\n",
              "      <td>W</td>\n",
              "      <td>Gold</td>\n",
              "    </tr>\n",
              "    <tr>\n",
              "      <th>5</th>\n",
              "      <td>Barcelona</td>\n",
              "      <td>1992</td>\n",
              "      <td>Aquatics</td>\n",
              "      <td>Diving</td>\n",
              "      <td>MIROCHINA, Elena</td>\n",
              "      <td>EUN</td>\n",
              "      <td>Women</td>\n",
              "      <td>10m platform</td>\n",
              "      <td>W</td>\n",
              "      <td>Silver</td>\n",
              "    </tr>\n",
              "    <tr>\n",
              "      <th>6</th>\n",
              "      <td>Barcelona</td>\n",
              "      <td>1992</td>\n",
              "      <td>Aquatics</td>\n",
              "      <td>Diving</td>\n",
              "      <td>SAUTIN, Dmitry</td>\n",
              "      <td>EUN</td>\n",
              "      <td>Men</td>\n",
              "      <td>3m springboard</td>\n",
              "      <td>M</td>\n",
              "      <td>Bronze</td>\n",
              "    </tr>\n",
              "    <tr>\n",
              "      <th>7</th>\n",
              "      <td>Barcelona</td>\n",
              "      <td>1992</td>\n",
              "      <td>Aquatics</td>\n",
              "      <td>Diving</td>\n",
              "      <td>LENZI, Mark Edward</td>\n",
              "      <td>USA</td>\n",
              "      <td>Men</td>\n",
              "      <td>3m springboard</td>\n",
              "      <td>M</td>\n",
              "      <td>Gold</td>\n",
              "    </tr>\n",
              "    <tr>\n",
              "      <th>8</th>\n",
              "      <td>Barcelona</td>\n",
              "      <td>1992</td>\n",
              "      <td>Aquatics</td>\n",
              "      <td>Diving</td>\n",
              "      <td>TAN, Liang-De</td>\n",
              "      <td>CHN</td>\n",
              "      <td>Men</td>\n",
              "      <td>3m springboard</td>\n",
              "      <td>M</td>\n",
              "      <td>Silver</td>\n",
              "    </tr>\n",
              "    <tr>\n",
              "      <th>9</th>\n",
              "      <td>Barcelona</td>\n",
              "      <td>1992</td>\n",
              "      <td>Aquatics</td>\n",
              "      <td>Diving</td>\n",
              "      <td>BALDUS, Brita Pia</td>\n",
              "      <td>GER</td>\n",
              "      <td>Women</td>\n",
              "      <td>3m springboard</td>\n",
              "      <td>W</td>\n",
              "      <td>Bronze</td>\n",
              "    </tr>\n",
              "  </tbody>\n",
              "</table>\n",
              "</div>\n",
              "    <div class=\"colab-df-buttons\">\n",
              "\n",
              "  <div class=\"colab-df-container\">\n",
              "    <button class=\"colab-df-convert\" onclick=\"convertToInteractive('df-1ed7dc2e-eafe-4bf6-ab8f-508c076df0c7')\"\n",
              "            title=\"Convert this dataframe to an interactive table.\"\n",
              "            style=\"display:none;\">\n",
              "\n",
              "  <svg xmlns=\"http://www.w3.org/2000/svg\" height=\"24px\" viewBox=\"0 -960 960 960\">\n",
              "    <path d=\"M120-120v-720h720v720H120Zm60-500h600v-160H180v160Zm220 220h160v-160H400v160Zm0 220h160v-160H400v160ZM180-400h160v-160H180v160Zm440 0h160v-160H620v160ZM180-180h160v-160H180v160Zm440 0h160v-160H620v160Z\"/>\n",
              "  </svg>\n",
              "    </button>\n",
              "\n",
              "  <style>\n",
              "    .colab-df-container {\n",
              "      display:flex;\n",
              "      gap: 12px;\n",
              "    }\n",
              "\n",
              "    .colab-df-convert {\n",
              "      background-color: #E8F0FE;\n",
              "      border: none;\n",
              "      border-radius: 50%;\n",
              "      cursor: pointer;\n",
              "      display: none;\n",
              "      fill: #1967D2;\n",
              "      height: 32px;\n",
              "      padding: 0 0 0 0;\n",
              "      width: 32px;\n",
              "    }\n",
              "\n",
              "    .colab-df-convert:hover {\n",
              "      background-color: #E2EBFA;\n",
              "      box-shadow: 0px 1px 2px rgba(60, 64, 67, 0.3), 0px 1px 3px 1px rgba(60, 64, 67, 0.15);\n",
              "      fill: #174EA6;\n",
              "    }\n",
              "\n",
              "    .colab-df-buttons div {\n",
              "      margin-bottom: 4px;\n",
              "    }\n",
              "\n",
              "    [theme=dark] .colab-df-convert {\n",
              "      background-color: #3B4455;\n",
              "      fill: #D2E3FC;\n",
              "    }\n",
              "\n",
              "    [theme=dark] .colab-df-convert:hover {\n",
              "      background-color: #434B5C;\n",
              "      box-shadow: 0px 1px 3px 1px rgba(0, 0, 0, 0.15);\n",
              "      filter: drop-shadow(0px 1px 2px rgba(0, 0, 0, 0.3));\n",
              "      fill: #FFFFFF;\n",
              "    }\n",
              "  </style>\n",
              "\n",
              "    <script>\n",
              "      const buttonEl =\n",
              "        document.querySelector('#df-1ed7dc2e-eafe-4bf6-ab8f-508c076df0c7 button.colab-df-convert');\n",
              "      buttonEl.style.display =\n",
              "        google.colab.kernel.accessAllowed ? 'block' : 'none';\n",
              "\n",
              "      async function convertToInteractive(key) {\n",
              "        const element = document.querySelector('#df-1ed7dc2e-eafe-4bf6-ab8f-508c076df0c7');\n",
              "        const dataTable =\n",
              "          await google.colab.kernel.invokeFunction('convertToInteractive',\n",
              "                                                    [key], {});\n",
              "        if (!dataTable) return;\n",
              "\n",
              "        const docLinkHtml = 'Like what you see? Visit the ' +\n",
              "          '<a target=\"_blank\" href=https://colab.research.google.com/notebooks/data_table.ipynb>data table notebook</a>'\n",
              "          + ' to learn more about interactive tables.';\n",
              "        element.innerHTML = '';\n",
              "        dataTable['output_type'] = 'display_data';\n",
              "        await google.colab.output.renderOutput(dataTable, element);\n",
              "        const docLink = document.createElement('div');\n",
              "        docLink.innerHTML = docLinkHtml;\n",
              "        element.appendChild(docLink);\n",
              "      }\n",
              "    </script>\n",
              "  </div>\n",
              "\n",
              "\n",
              "<div id=\"df-303a95a5-e01b-4b72-bd95-0fb6b6f51294\">\n",
              "  <button class=\"colab-df-quickchart\" onclick=\"quickchart('df-303a95a5-e01b-4b72-bd95-0fb6b6f51294')\"\n",
              "            title=\"Suggest charts.\"\n",
              "            style=\"display:none;\">\n",
              "\n",
              "<svg xmlns=\"http://www.w3.org/2000/svg\" height=\"24px\"viewBox=\"0 0 24 24\"\n",
              "     width=\"24px\">\n",
              "    <g>\n",
              "        <path d=\"M19 3H5c-1.1 0-2 .9-2 2v14c0 1.1.9 2 2 2h14c1.1 0 2-.9 2-2V5c0-1.1-.9-2-2-2zM9 17H7v-7h2v7zm4 0h-2V7h2v10zm4 0h-2v-4h2v4z\"/>\n",
              "    </g>\n",
              "</svg>\n",
              "  </button>\n",
              "\n",
              "<style>\n",
              "  .colab-df-quickchart {\n",
              "      --bg-color: #E8F0FE;\n",
              "      --fill-color: #1967D2;\n",
              "      --hover-bg-color: #E2EBFA;\n",
              "      --hover-fill-color: #174EA6;\n",
              "      --disabled-fill-color: #AAA;\n",
              "      --disabled-bg-color: #DDD;\n",
              "  }\n",
              "\n",
              "  [theme=dark] .colab-df-quickchart {\n",
              "      --bg-color: #3B4455;\n",
              "      --fill-color: #D2E3FC;\n",
              "      --hover-bg-color: #434B5C;\n",
              "      --hover-fill-color: #FFFFFF;\n",
              "      --disabled-bg-color: #3B4455;\n",
              "      --disabled-fill-color: #666;\n",
              "  }\n",
              "\n",
              "  .colab-df-quickchart {\n",
              "    background-color: var(--bg-color);\n",
              "    border: none;\n",
              "    border-radius: 50%;\n",
              "    cursor: pointer;\n",
              "    display: none;\n",
              "    fill: var(--fill-color);\n",
              "    height: 32px;\n",
              "    padding: 0;\n",
              "    width: 32px;\n",
              "  }\n",
              "\n",
              "  .colab-df-quickchart:hover {\n",
              "    background-color: var(--hover-bg-color);\n",
              "    box-shadow: 0 1px 2px rgba(60, 64, 67, 0.3), 0 1px 3px 1px rgba(60, 64, 67, 0.15);\n",
              "    fill: var(--button-hover-fill-color);\n",
              "  }\n",
              "\n",
              "  .colab-df-quickchart-complete:disabled,\n",
              "  .colab-df-quickchart-complete:disabled:hover {\n",
              "    background-color: var(--disabled-bg-color);\n",
              "    fill: var(--disabled-fill-color);\n",
              "    box-shadow: none;\n",
              "  }\n",
              "\n",
              "  .colab-df-spinner {\n",
              "    border: 2px solid var(--fill-color);\n",
              "    border-color: transparent;\n",
              "    border-bottom-color: var(--fill-color);\n",
              "    animation:\n",
              "      spin 1s steps(1) infinite;\n",
              "  }\n",
              "\n",
              "  @keyframes spin {\n",
              "    0% {\n",
              "      border-color: transparent;\n",
              "      border-bottom-color: var(--fill-color);\n",
              "      border-left-color: var(--fill-color);\n",
              "    }\n",
              "    20% {\n",
              "      border-color: transparent;\n",
              "      border-left-color: var(--fill-color);\n",
              "      border-top-color: var(--fill-color);\n",
              "    }\n",
              "    30% {\n",
              "      border-color: transparent;\n",
              "      border-left-color: var(--fill-color);\n",
              "      border-top-color: var(--fill-color);\n",
              "      border-right-color: var(--fill-color);\n",
              "    }\n",
              "    40% {\n",
              "      border-color: transparent;\n",
              "      border-right-color: var(--fill-color);\n",
              "      border-top-color: var(--fill-color);\n",
              "    }\n",
              "    60% {\n",
              "      border-color: transparent;\n",
              "      border-right-color: var(--fill-color);\n",
              "    }\n",
              "    80% {\n",
              "      border-color: transparent;\n",
              "      border-right-color: var(--fill-color);\n",
              "      border-bottom-color: var(--fill-color);\n",
              "    }\n",
              "    90% {\n",
              "      border-color: transparent;\n",
              "      border-bottom-color: var(--fill-color);\n",
              "    }\n",
              "  }\n",
              "</style>\n",
              "\n",
              "  <script>\n",
              "    async function quickchart(key) {\n",
              "      const quickchartButtonEl =\n",
              "        document.querySelector('#' + key + ' button');\n",
              "      quickchartButtonEl.disabled = true;  // To prevent multiple clicks.\n",
              "      quickchartButtonEl.classList.add('colab-df-spinner');\n",
              "      try {\n",
              "        const charts = await google.colab.kernel.invokeFunction(\n",
              "            'suggestCharts', [key], {});\n",
              "      } catch (error) {\n",
              "        console.error('Error during call to suggestCharts:', error);\n",
              "      }\n",
              "      quickchartButtonEl.classList.remove('colab-df-spinner');\n",
              "      quickchartButtonEl.classList.add('colab-df-quickchart-complete');\n",
              "    }\n",
              "    (() => {\n",
              "      let quickchartButtonEl =\n",
              "        document.querySelector('#df-303a95a5-e01b-4b72-bd95-0fb6b6f51294 button');\n",
              "      quickchartButtonEl.style.display =\n",
              "        google.colab.kernel.accessAllowed ? 'block' : 'none';\n",
              "    })();\n",
              "  </script>\n",
              "</div>\n",
              "    </div>\n",
              "  </div>\n"
            ]
          },
          "metadata": {},
          "execution_count": 8
        }
      ],
      "source": [
        "odata.head(10)"
      ]
    },
    {
      "cell_type": "code",
      "execution_count": 9,
      "id": "7e2f8e7a",
      "metadata": {
        "id": "7e2f8e7a"
      },
      "outputs": [],
      "source": [
        "# Add cells with any additional exploratory data analysis commands/functions that you think are necessary. This will\n",
        "# not be graded but will help you in solving this homework's tasks\n",
        "# Hint.. get the unique entries for columns of interest"
      ]
    },
    {
      "cell_type": "code",
      "execution_count": 10,
      "id": "d1f9e50a",
      "metadata": {
        "id": "d1f9e50a",
        "colab": {
          "base_uri": "https://localhost:8080/"
        },
        "outputId": "16b92a94-9e25-4174-926b-d3c35e5eb7bd"
      },
      "outputs": [
        {
          "output_type": "execute_result",
          "data": {
            "text/plain": [
              "count                9619\n",
              "unique               7104\n",
              "top       PHELPS, Michael\n",
              "freq                   16\n",
              "Name: Athlete, dtype: object"
            ]
          },
          "metadata": {},
          "execution_count": 10
        }
      ],
      "source": [
        "odata.Athlete.describe() # describe() show the specific info on column"
      ]
    },
    {
      "cell_type": "markdown",
      "id": "b1190e9c",
      "metadata": {
        "deletable": false,
        "editable": false,
        "id": "b1190e9c"
      },
      "source": [
        "Solve the following tasks.  You can add as many additional cells as  you need to solve each one of them."
      ]
    },
    {
      "cell_type": "markdown",
      "id": "d93e3dd2",
      "metadata": {
        "id": "d93e3dd2"
      },
      "source": [
        "## Task #1 (30 points)"
      ]
    },
    {
      "cell_type": "markdown",
      "id": "2ab52903",
      "metadata": {
        "id": "2ab52903"
      },
      "source": [
        "a) List the 5 countries that accumulated the most medals across all the olympic game editions covered in the dataset\n",
        "\n",
        "b) List the 5 countries that accumulated the most GOLD medals across all the olympic game editions covered in the dataset"
      ]
    },
    {
      "cell_type": "code",
      "execution_count": 19,
      "id": "6e795ed5",
      "metadata": {
        "id": "6e795ed5",
        "colab": {
          "base_uri": "https://localhost:8080/"
        },
        "outputId": "f4470819-c45b-4a2b-c9cb-e64fb493602b"
      },
      "outputs": [
        {
          "output_type": "stream",
          "name": "stdout",
          "text": [
            "NOC\n",
            "USA    1311\n",
            "GER     691\n",
            "AUS     678\n",
            "RUS     638\n",
            "CHN     550\n",
            "dtype: int64\n",
            "NOC\n",
            "USA    620\n",
            "GER    237\n",
            "CHN    202\n",
            "RUS    192\n",
            "AUS    186\n",
            "dtype: int64\n"
          ]
        }
      ],
      "source": [
        "most_5_medal = odata.groupby('NOC').size().sort_values(ascending=False).head(5)\n",
        "# groupby the NOC (country) column and count the number of each country, which will be the medal number\n",
        "# sort the dataset with descending order, and select the top 5 rows, which will be top 5 countries\n",
        "print(most_5_medal)\n",
        "\n",
        "gold = odata[odata['Medal'] == 'Gold'] # from odata, select all rows that Medal column is Gold. Create a new dataset\n",
        "most_5_gold = gold.groupby('NOC').size().sort_values(ascending=False).head(5)\n",
        "# groupby the gold dataset by NOC(country), count the number of each country\n",
        "# sort the dataset with descending order and show the top 5\n",
        "print(most_5_gold)"
      ]
    },
    {
      "cell_type": "markdown",
      "id": "d6d35fe2",
      "metadata": {
        "id": "d6d35fe2"
      },
      "source": [
        "## Task #2 (15 points)"
      ]
    },
    {
      "cell_type": "markdown",
      "id": "2b8ee4c6",
      "metadata": {
        "id": "2b8ee4c6"
      },
      "source": [
        "List the number of Gold, Silver and Bronze medals obtained by Women and Men across all the olympic game editions covered in the dataset"
      ]
    },
    {
      "cell_type": "code",
      "execution_count": 12,
      "id": "a661e197",
      "metadata": {
        "id": "a661e197",
        "colab": {
          "base_uri": "https://localhost:8080/"
        },
        "outputId": "b4f518e2-159a-4976-9fe3-5f328cbda0a2"
      },
      "outputs": [
        {
          "output_type": "execute_result",
          "data": {
            "text/plain": [
              "Gender  Medal \n",
              "Men     Bronze    1918\n",
              "        Gold      1807\n",
              "        Silver    1797\n",
              "Women   Bronze    1386\n",
              "        Gold      1357\n",
              "        Silver    1354\n",
              "dtype: int64"
            ]
          },
          "metadata": {},
          "execution_count": 12
        }
      ],
      "source": [
        "odata.groupby(['Gender','Medal']).size()\n",
        "#groupby odata by \"Gender\" and \"Medal\"\n",
        "# then count the number of each value in Medal (Bronze, Gold, Silver) for men and women"
      ]
    },
    {
      "cell_type": "markdown",
      "id": "cbbb37a2",
      "metadata": {
        "id": "cbbb37a2"
      },
      "source": [
        "## Task #3 (15 points)"
      ]
    },
    {
      "cell_type": "markdown",
      "id": "88f341be",
      "metadata": {
        "id": "88f341be"
      },
      "source": [
        "List the names of the 5 male athletes and 5 female athletes that obtained the most medals across all the olympic game editions covered in the dataset"
      ]
    },
    {
      "cell_type": "code",
      "execution_count": 22,
      "id": "64166e6b",
      "metadata": {
        "id": "64166e6b",
        "colab": {
          "base_uri": "https://localhost:8080/"
        },
        "outputId": "dd2ea849-1791-4434-ea53-7ae7339d5721"
      },
      "outputs": [
        {
          "output_type": "stream",
          "name": "stdout",
          "text": [
            "Athlete\n",
            "THOMPSON, Jenny           12.0\n",
            "COUGHLIN, Natalie         11.0\n",
            "VAN ALMSICK, Franziska    10.0\n",
            "TORRES, Dara               9.0\n",
            "DE BRUIJN, Inge            8.0\n",
            "Name: Women, dtype: float64\n",
            "Athlete\n",
            "PHELPS, Michael     16.0\n",
            "NEMOV, Alexei       12.0\n",
            "SCHERBO, Vitaly     10.0\n",
            "HALL, Gary Jr.      10.0\n",
            "POPOV, Alexander     9.0\n",
            "Name: Men, dtype: float64\n"
          ]
        }
      ],
      "source": [
        "athlete_gender = odata.groupby(['Gender', 'Athlete']).size().unstack().T\n",
        "# groupby odata by Gender and Athlete and count the number of row of each athlete, which is the number of medal\n",
        "# it will come a Series. Use unstack to turn to a Data frame and use T to switch rows and columns\n",
        "\n",
        "top_women = athlete_gender.Women.sort_values(ascending = False).head(5)\n",
        "# now find all the women in the dataframe and sort them in descending order, and have the top 5 rows\n",
        "# this will give me the 5 women athlete with most medals\n",
        "print(top_women)\n",
        "\n",
        "top_men = athlete_gender.Men.sort_values(ascending = False).head(5)\n",
        "# same for male\n",
        "print(top_men)"
      ]
    },
    {
      "cell_type": "markdown",
      "id": "4bd0cb77",
      "metadata": {
        "id": "4bd0cb77"
      },
      "source": [
        "## Task #4 (40 points)"
      ]
    },
    {
      "cell_type": "markdown",
      "id": "63bcebcf",
      "metadata": {
        "id": "63bcebcf"
      },
      "source": [
        "Provide two additional analysis results that you can derive from the dataset (they must be different than those obtained in tasks 1 to 3). The results can include graphs (but it is not required). Describe the results obtained in the cell provided for that purpose"
      ]
    },
    {
      "cell_type": "code",
      "execution_count": 14,
      "id": "1bb79307",
      "metadata": {
        "id": "1bb79307",
        "colab": {
          "base_uri": "https://localhost:8080/"
        },
        "outputId": "c18c94a3-e320-41b9-9218-a6a0267e24c8"
      },
      "outputs": [
        {
          "output_type": "execute_result",
          "data": {
            "text/plain": [
              "Discipline\n",
              "Swimming           920\n",
              "Athletics          902\n",
              "Rowing             732\n",
              "Hockey             481\n",
              "Football           455\n",
              "Handball           443\n",
              "Artistic G.        373\n",
              "Volleyball         359\n",
              "Basketball         358\n",
              "Canoe / Kayak F    345\n",
              "Baseball           335\n",
              "Fencing            321\n",
              "Water polo         311\n",
              "Judo               280\n",
              "Sailing            261\n",
              "Boxing             232\n",
              "Shooting           231\n",
              "Cycling Track      229\n",
              "Weightlifting      194\n",
              "Softball           180\n",
              "Wrestling Free.    161\n",
              "Synchronized S.    135\n",
              "Wrestling Gre-R    132\n",
              "Diving             132\n",
              "Archery            120\n",
              "Badminton          120\n",
              "Table Tennis       102\n",
              "Tennis              94\n",
              "Rhythmic G.         87\n",
              "Eventing            81\n",
              "Taekwondo           80\n",
              "Canoe / Kayak S     75\n",
              "Jumping             74\n",
              "Dressage            72\n",
              "Cycling Road        65\n",
              "Beach volley.       48\n",
              "Modern Pentath.     33\n",
              "Mountain Bike       24\n",
              "Trampoline          18\n",
              "Triathlon           18\n",
              "BMX                  6\n",
              "dtype: int64"
            ]
          },
          "metadata": {},
          "execution_count": 14
        }
      ],
      "source": [
        "odata.groupby('Discipline').size().sort_values(ascending=False)\n",
        "# groupby odata by Discipline and count the number of row of each Discipline\n",
        "# then sort the dataset by descending order"
      ]
    },
    {
      "cell_type": "code",
      "execution_count": 15,
      "id": "c3c05e32",
      "metadata": {
        "id": "c3c05e32",
        "colab": {
          "base_uri": "https://localhost:8080/",
          "height": 472
        },
        "outputId": "d7e8cded-468f-40ec-ced5-1ce0e17474e7"
      },
      "outputs": [
        {
          "output_type": "display_data",
          "data": {
            "text/plain": [
              "<Figure size 640x480 with 1 Axes>"
            ],
            "image/png": "[encoded data removed]"
          },
          "metadata": {}
        }
      ],
      "source": [
        "swimming_data = odata[odata['Discipline'] == 'Swimming'] # Select all rows in odata whose Discipline column is swimming and create a new dataset\n",
        "swimming_medal_by_year = swimming_data.groupby('Edition').size()\n",
        "# in the new dataset, groupby by Edition, which is the year of Olympic, and count the number of row, and create a new dataset\n",
        "\n",
        "#visualization part\n",
        "import matplotlib.pyplot as plt\n",
        "swimming_medal_by_year.plot(kind='line') #choose the dataset to draw the graph. kind parameter decides which graph I am drawing.\n",
        "plt.title('Number of Medals in Swimming (1992-2008)')\n",
        "# add the title to my graph\n",
        "plt.xlabel('Year')\n",
        "plt.ylabel('Number of Medals')\n",
        "# label the x-axies and y-axies\n",
        "plt.grid(True)\n",
        "# add grid lines in the graph\n",
        "plt.show()\n",
        "# show the graph"
      ]
    },
    {
      "cell_type": "markdown",
      "id": "4cbed56d",
      "metadata": {
        "id": "4cbed56d"
      },
      "source": [
        "**RESULTS DESCRIPTION**\n"
      ]
    },
    {
      "cell_type": "code",
      "execution_count": 16,
      "id": "ee576e66",
      "metadata": {
        "id": "ee576e66",
        "colab": {
          "base_uri": "https://localhost:8080/",
          "height": 52
        },
        "outputId": "934b2003-f2ca-430c-d172-8afd457ecab4"
      },
      "outputs": [
        {
          "output_type": "execute_result",
          "data": {
            "text/plain": [
              "'The first code uses groupby to group by the dataset by Discipline,\\nand counts the number of row of each discipline. This code gives the\\nnumber of medal for each discipline.'"
            ],
            "application/vnd.google.colaboratory.intrinsic+json": {
              "type": "string"
            }
          },
          "metadata": {},
          "execution_count": 16
        }
      ],
      "source": [
        "\"\"\"The first code uses groupby to group by the dataset by Discipline,\n",
        "and counts the number of row of each discipline. This code gives the\n",
        "number of medal for each discipline.\"\"\""
      ]
    },
    {
      "cell_type": "code",
      "execution_count": 17,
      "id": "e68aeba9",
      "metadata": {
        "id": "e68aeba9",
        "colab": {
          "base_uri": "https://localhost:8080/",
          "height": 86
        },
        "outputId": "385353fd-42a9-49cd-d8aa-02612ae262b6"
      },
      "outputs": [
        {
          "output_type": "execute_result",
          "data": {
            "text/plain": [
              "'The second code selects rows whose Discpline column is swimming.\\nAnd then group the dataset by the Edition and count the number of rows\\nof each Edition. This code will give the number of medal for swimming in each\\nEdition, which is each Olympic game. I save this value into swimming_medal_by_year dataset.\\n\\nThere is also a visualzaition part in my code. I use matplotlib to draw the code:\\nI select line graph with swimming_medal_by_year dataset, and label the title, x-axies,\\ny-axies. The graph shows the trends of medal number of swimming over the editions. '"
            ],
            "application/vnd.google.colaboratory.intrinsic+json": {
              "type": "string"
            }
          },
          "metadata": {},
          "execution_count": 17
        }
      ],
      "source": [
        "\"\"\"The second code selects rows whose Discpline column is swimming.\n",
        "And then group the dataset by the Edition and count the number of rows\n",
        "of each Edition. This code will give the number of medal for swimming in each\n",
        "Edition, which is each Olympic game. I save this value into swimming_medal_by_year dataset.\n",
        "\n",
        "There is also a visualzaition part in my code. I use matplotlib to draw the code:\n",
        "I select line graph with swimming_medal_by_year dataset, and label the title, x-axies,\n",
        "y-axies. The graph shows the trends of medal number of swimming over the editions. \"\"\""
      ]
    }
  ],
  "metadata": {
    "kernelspec": {
      "display_name": "Python 3 (ipykernel)",
      "language": "python",
      "name": "python3"
    },
    "language_info": {
      "codemirror_mode": {
        "name": "ipython",
        "version": 3
      },
      "file_extension": ".py",
      "mimetype": "text/x-python",
      "name": "python",
      "nbconvert_exporter": "python",
      "pygments_lexer": "ipython3",
      "version": "3.9.6"
    },
    "colab": {
      "provenance": [],
      "include_colab_link": true
    }
  },
  "nbformat": 4,
  "nbformat_minor": 5
}