{
  "nbformat": 4,
  "nbformat_minor": 0,
  "metadata": {
    "colab": {
      "private_outputs": true,
      "provenance": [],
      "include_colab_link": true
    },
    "kernelspec": {
      "name": "python3",
      "display_name": "Python 3"
    },
    "language_info": {
      "name": "python"
    }
  },
  "cells": [
    {
      "cell_type": "markdown",
      "metadata": {
        "id": "view-in-github",
        "colab_type": "text"
      },
      "source": [
        "<a href=\"https://colab.research.google.com/github/xiborxu/IST462xibo/blob/main/IST462_Final_Project.ipynb\" target=\"_parent\"><img src=\"https://colab.research.google.com/assets/colab-badge.svg\" alt=\"Open In Colab\"/></a>"
      ]
    },
    {
      "cell_type": "code",
      "execution_count": null,
      "metadata": {
        "id": "CxGsihYup7Gj"
      },
      "outputs": [],
      "source": [
        "import pandas as pd\n",
        "import numpy as np"
      ]
    },
    {
      "cell_type": "code",
      "source": [
        "df = pd.read_csv('./Crash_Reporting_-_Drivers_Data-2.csv')"
      ],
      "metadata": {
        "id": "1SSNZO67-Ei_"
      },
      "execution_count": null,
      "outputs": []
    },
    {
      "cell_type": "code",
      "source": [
        "#url = \"https://docs.google.com/spreadsheets/d/e/2PACX-1vSxw25lAmepqXjvvKOUWlaVo-3o3LdcmfOT-1ZoqQU2kdi79RPOAKX-713JFT7mUy7gmLKilTcFzA2n/pub?gid=762249656&single=true&output=csv\"\n",
        "#df = pd.read_csv(url)"
      ],
      "metadata": {
        "id": "2dODcyCK9fkW"
      },
      "execution_count": null,
      "outputs": []
    },
    {
      "cell_type": "code",
      "source": [
        "df.shape # find the number of rows and columns in our data frame\n",
        "         # this shows we have 168,157 rows data"
      ],
      "metadata": {
        "id": "geRWvuWbrD33"
      },
      "execution_count": null,
      "outputs": []
    },
    {
      "cell_type": "code",
      "source": [
        "df.columns #check the columns of dataframe"
      ],
      "metadata": {
        "id": "J5CvCmF_nH-t"
      },
      "execution_count": null,
      "outputs": []
    },
    {
      "cell_type": "code",
      "source": [
        "df.isnull().sum() # find out the number of missing value (null value)\n",
        "                  # for some columns with significant values loss, drop them"
      ],
      "metadata": {
        "id": "VHQEaAOHq-GH"
      },
      "execution_count": null,
      "outputs": []
    },
    {
      "cell_type": "code",
      "source": [
        "# draw the graph by cases number reported by each agency\n",
        "import matplotlib.pyplot as plt\n",
        "value_counts = df['Agency Name'].value_counts() # Count the values of each agency name\n",
        "plt.figure(figsize=(8, 6))\n",
        "value_counts.plot(kind='bar', color='skyblue')\n",
        "plt.xlabel('Agency Name')\n",
        "plt.ylabel('Report Value Counts')\n",
        "plt.title('Report Cases by Agency Name')\n",
        "plt.show()"
      ],
      "metadata": {
        "id": "FHa3CCzbi5co"
      },
      "execution_count": null,
      "outputs": []
    },
    {
      "cell_type": "code",
      "source": [
        "# draw the graph to find out the missing cases of each agency\n",
        "df_missing = df[df['Non-Motorist Substance Abuse'].isna()]\n",
        "# a subset from df, selecting the rows whose 'Non-Motorist Substance Abuse' column is missing\n",
        "missing_values_count = df_missing['Agency Name'].value_counts()\n",
        "# count the number of agency, that will be the time that agency miss the data\n",
        "plt.figure(figsize=(12, 7))\n",
        "missing_values_count.plot(kind='bar', color='red')\n",
        "plt.xlabel('Agency Name')\n",
        "plt.ylabel('Number of Missing Values')\n",
        "plt.title('Missing Values by Agency')\n",
        "plt.show()"
      ],
      "metadata": {
        "id": "MfRWzdgEi5fR"
      },
      "execution_count": null,
      "outputs": []
    },
    {
      "cell_type": "code",
      "source": [
        "columns_drop = ['Road Name','Cross-Street Name','Report Number', 'Local Case Number', 'Off-Road Description', 'Municipality', 'Related Non-Motorist','Drivers License State', 'Non-Motorist Substance Abuse', 'Person ID', 'Circumstance','Vehicle ID']\n",
        "# choose the columns we believe is useless\n",
        "df = df.drop(columns_drop, axis=1)\n",
        "#drop the columns"
      ],
      "metadata": {
        "id": "YwHxOosdi5ks"
      },
      "execution_count": null,
      "outputs": []
    },
    {
      "cell_type": "code",
      "source": [
        "columns_to_fill_UNKNOWN = ['Driver Substance Abuse', 'Traffic Control','Weather','Vehicle Damage Extent','Equipment Problems','Surface Condition','Collision Type','Light','Vehicle First Impact Location','Vehicle Second Impact Location','Vehicle Movement','Vehicle Make','Vehicle Model','Vehicle Body Type']\n",
        "df[columns_to_fill_UNKNOWN] = df[columns_to_fill_UNKNOWN].fillna('UNKNOWN')\n",
        "# previous columns have missing values and \"UNKNOWN\", so we convert the missing value into UNKNOWN\n",
        "\n",
        "columns_to_fill_Unknown = ['Route Type','Cross-Street Type','Vehicle Continuing Dir','Vehicle Going Dir']\n",
        "df[columns_to_fill_Unknown] = df[columns_to_fill_Unknown].fillna('Unknown')\n",
        "# same above, covert to Unknown"
      ],
      "metadata": {
        "id": "zEwrgTYZi5nC"
      },
      "execution_count": null,
      "outputs": []
    },
    {
      "cell_type": "code",
      "source": [
        "df['Vehicle Make'] = df['Vehicle Make'].replace('TOYT', 'TOYOTA')\n",
        "df['Vehicle Make'] = df['Vehicle Make'].replace('HOND', 'HONDA')\n",
        "df['Vehicle Make'] = df['Vehicle Make'].replace('CHEV', 'CHEVROLET')\n",
        "df['Vehicle Make'] = df['Vehicle Make'].replace('CHEVY', 'CHEVROLET')\n",
        "# we find that there are different name for Vehicle make, such as CHEV, CHEVY for CHEVROLET\n",
        "# We decide to convert to same name\n",
        "# though our method cannot totally avoid the problem, we can ensure the top 5 is correct,and that's enough for our analysis"
      ],
      "metadata": {
        "id": "UEdK8i52E9i_"
      },
      "execution_count": null,
      "outputs": []
    },
    {
      "cell_type": "code",
      "source": [
        "df.isnull().sum()\n",
        "# no null values"
      ],
      "metadata": {
        "id": "6Bqqmcxui5pp"
      },
      "execution_count": null,
      "outputs": []
    },
    {
      "cell_type": "code",
      "source": [
        "df.columns"
      ],
      "metadata": {
        "id": "PcnvRiRXi5sK"
      },
      "execution_count": null,
      "outputs": []
    },
    {
      "cell_type": "code",
      "source": [
        "df = df[df['Vehicle Damage Extent'] != 'UNKNOWN']\n",
        "df = df[df['Vehicle Damage Extent'] != 'OTHER']\n",
        "df.dropna(subset=['Vehicle Damage Extent'], inplace=True)\n",
        "# the Vehicle Damage Extent is a key column\n",
        "# We don't want any Unknown or other here; hence we drop them"
      ],
      "metadata": {
        "id": "cvIWQMQQpGiz"
      },
      "execution_count": null,
      "outputs": []
    },
    {
      "cell_type": "code",
      "source": [
        "# Draw the graph to show distribution of each damage extend\n",
        "plt.figure(figsize=(8, 6))\n",
        "df['Vehicle Damage Extent'].value_counts().sort_index().plot(kind='bar', color='blue')\n",
        "plt.title('Distribution of Categories')\n",
        "plt.xlabel('Category')\n",
        "plt.ylabel('Count')\n",
        "plt.show()"
      ],
      "metadata": {
        "id": "JRdDMXhRmp9F"
      },
      "execution_count": null,
      "outputs": []
    },
    {
      "cell_type": "code",
      "source": [
        "# Draw the graph for Crash Types\n",
        "crash_type_counts = df['ACRS Report Type'].value_counts()\n",
        "# create a subset from df and count the number of each value in ACRS Report Type\n",
        "plt.figure(figsize=(8, 6))\n",
        "plt.pie(crash_type_counts, labels=crash_type_counts.index,autopct='%1.1f%%', startangle=140)\n",
        "# We draw a pie chart this time to find out the percentage of three types\n",
        "plt.axis('equal')  # Equal aspect ratio ensures that pie is drawn as a circle.\n",
        "plt.title('Distribution of Crash Types')\n",
        "plt.show()"
      ],
      "metadata": {
        "id": "KU82uJWkGl2h"
      },
      "execution_count": null,
      "outputs": []
    },
    {
      "cell_type": "code",
      "source": [
        "# draw the graph of damage count by damaged level in different weather conditions\n",
        "grouped = df.groupby(['Vehicle Damage Extent', 'Weather']).size().unstack(fill_value=0)\n",
        "# groupby the Vehicle Damage Extent and weather and count the size\n",
        "grouped.plot(kind='bar', stacked=True, figsize=(8, 6),colormap = 'tab10')\n",
        "plt.xlabel('Weather')\n",
        "plt.ylabel('Count')\n",
        "plt.title('Damage Extent by Weather')\n",
        "plt.legend(title='Damage Extent',bbox_to_anchor=(1.45, 1), loc='upper right')"
      ],
      "metadata": {
        "id": "NWGBQCLVmp_s"
      },
      "execution_count": null,
      "outputs": []
    },
    {
      "cell_type": "code",
      "source": [
        "rain_data = df[df['Weather'] == 'RAINING']\n",
        "snow_data = df[df['Weather'] == 'SNOW']\n",
        "foggy_data = df[df['Weather'] == 'FOGGY']\n",
        "# create new datasets to find cases in three conditions (rain, fog, snow)"
      ],
      "metadata": {
        "id": "0SLdbB8GLvkZ"
      },
      "execution_count": null,
      "outputs": []
    },
    {
      "cell_type": "code",
      "source": [
        "# draw the rain map\n",
        "import plotly.express as px\n",
        "# Plotting crash locations on an interactive map using Plotly\n",
        "fig = px.scatter_mapbox(rain_data,\n",
        "                        # database\n",
        "                        lat=\"Latitude\",\n",
        "                        lon=\"Longitude\",\n",
        "                        mapbox_style= \"carto-positron\",\n",
        "                        # set the visual style of background\n",
        "                        color_discrete_sequence=[\"skyblue\"], # Color for rain\n",
        "                        title=\"Crash Locations by Weather Conditions\",\n",
        "                        zoom=8)\n",
        "fig.update_layout(margin={\"r\":0, \"t\":0, \"l\":0, \"b\":0})\n",
        "fig.show()"
      ],
      "metadata": {
        "id": "iOj7mTJ4Hbeo"
      },
      "execution_count": null,
      "outputs": []
    },
    {
      "cell_type": "code",
      "source": [
        "# draw the snow map\n",
        "fig_snow = px.scatter_mapbox(snow_data,\n",
        "                             lat=\"Latitude\",\n",
        "                             lon=\"Longitude\",\n",
        "                             mapbox_style=\"carto-positron\",\n",
        "                             color_discrete_sequence=[\"Black\"], # Color for snow\n",
        "                             title=\"Snow Accidents\",\n",
        "                             zoom=8)\n",
        "fig_snow.update_layout(margin={\"r\":0, \"t\":0, \"l\":0, \"b\":0})\n",
        "fig_snow.show()"
      ],
      "metadata": {
        "id": "vO421rgGKkMC"
      },
      "execution_count": null,
      "outputs": []
    },
    {
      "cell_type": "code",
      "source": [
        "# draw the fog map\n",
        "fig_foggy = px.scatter_mapbox(foggy_data,\n",
        "                              lat=\"Latitude\",\n",
        "                              lon=\"Longitude\",\n",
        "                              mapbox_style=\"carto-positron\",\n",
        "                              color_discrete_sequence=[\"grey\"], # Color for foggy\n",
        "                              title=\"Foggy Accidents\",\n",
        "                              zoom=8)\n",
        "fig_foggy.update_layout(margin={\"r\":0, \"t\":0, \"l\":0, \"b\":0})\n",
        "fig_foggy.show()"
      ],
      "metadata": {
        "id": "T-9b2-n3Kokp"
      },
      "execution_count": null,
      "outputs": []
    },
    {
      "cell_type": "code",
      "source": [
        "destroyed_df = df[df['Vehicle Damage Extent'] == 'DISABLING']\n",
        "percentage_destroyed = (destroyed_df['Weather'].value_counts() / len(destroyed_df)) * 100\n",
        "threshold = 5\n",
        "percentage_destroyed_others = percentage_destroyed[percentage_destroyed >= threshold]\n",
        "percentage_destroyed_others['Others'] = percentage_destroyed[percentage_destroyed < threshold].sum()\n",
        "plt.figure(figsize=(8, 6))\n",
        "plt.pie(percentage_destroyed_others, labels=percentage_destroyed_others.index, autopct='%1.1f%%', startangle=140)\n",
        "plt.axis('equal')\n",
        "plt.title('Weather Distribution for \"Disabling\" Damage Level')\n",
        "plt.show()"
      ],
      "metadata": {
        "id": "GgKq32hUmqCE"
      },
      "execution_count": null,
      "outputs": []
    },
    {
      "cell_type": "code",
      "source": [
        "speed_limit_counts = df['Speed Limit'].value_counts()\n",
        "top_5_speed_limits = speed_limit_counts.head(5)\n",
        "top_5_speed_limits = top_5_speed_limits.sort_index()\n",
        "plt.figure(figsize=(8, 6))\n",
        "top_5_speed_limits.plot(kind='bar')\n",
        "plt.xlabel('Speed Limit (MPH)')\n",
        "plt.ylabel('Number of Accidents')\n",
        "plt.title('Top 5 Speed Limits with Most Accidents')\n",
        "plt.xticks(rotation='horizontal')\n",
        "plt.show()"
      ],
      "metadata": {
        "id": "4U-rqxuKmqEo"
      },
      "execution_count": null,
      "outputs": []
    },
    {
      "cell_type": "code",
      "source": [
        "# draw a pie chart to find out the surface condition in most frequent miles limit\n",
        "filtered_df = df[df['Speed Limit'] == 35]\n",
        "# choose all of accidents on road whose speed limit is 35m\n",
        "surface_condition_percentage = (filtered_df['Surface Condition'].value_counts() / len(filtered_df)) * 100\n",
        "# calculate the percentage of each road conditions\n",
        "threshold = 2\n",
        "small_parts = surface_condition_percentage[surface_condition_percentage < threshold]\n",
        "surface_condition_percentage['Others'] = small_parts.sum()\n",
        "surface_condition_percentage = surface_condition_percentage[surface_condition_percentage >= threshold]\n",
        "'''\n",
        "'''\n",
        "# Create a pie chart for the specified speed limit and surface conditions\n",
        "plt.figure(figsize=(8, 6))\n",
        "plt.pie(surface_condition_percentage, labels=surface_condition_percentage.index, autopct='%1.1f%%', startangle=140)\n",
        "plt.axis('equal')\n",
        "# Equal aspect ratio ensures that pie is drawn as a circle.\n",
        "plt.title(f'Surface Condition Distribution for 35 MPH')\n",
        "plt.show()"
      ],
      "metadata": {
        "id": "62EBTOdSmqG_"
      },
      "execution_count": null,
      "outputs": []
    },
    {
      "cell_type": "code",
      "source": [
        "wet_surface_accidents = df[df['Surface Condition'] == 'WET']\n",
        "\n",
        "# Plotting crash locations on an interactive map using Plotly\n",
        "fig = px.scatter_mapbox(wet_surface_accidents,\n",
        "                        lat=\"Latitude\",\n",
        "                        lon=\"Longitude\",\n",
        "                        mapbox_style=\"carto-positron\",  # Choose map style\n",
        "                        title=\"Accidents on Wet Surface Conditions\",\n",
        "                        zoom=8,  # Set initial zoom level\n",
        "                        color_discrete_sequence=[\"skyblue\"])  # Color for wet surface accidents\n",
        "\n",
        "fig.update_layout(margin={\"r\": 0, \"t\": 0, \"l\": 0, \"b\": 0})  # Adjust layout margins\n",
        "fig.show()"
      ],
      "metadata": {
        "id": "L039diQoNos0"
      },
      "execution_count": null,
      "outputs": []
    },
    {
      "cell_type": "code",
      "source": [
        "df['Vehicle Make'].value_counts().head(5)\n",
        "# counts the value of top 5 vehicle make"
      ],
      "metadata": {
        "id": "5XX_EI432KOk"
      },
      "execution_count": null,
      "outputs": []
    },
    {
      "cell_type": "code",
      "source": [
        "df['Vehicle Year'].value_counts().head(5)\n",
        "# counts the value of top 5 vehicle year"
      ],
      "metadata": {
        "id": "7wPRsz-Z2KRa"
      },
      "execution_count": null,
      "outputs": []
    },
    {
      "cell_type": "code",
      "source": [
        "def categorize_year(year):\n",
        "    if year >= 2020:\n",
        "        return '2020-2023'\n",
        "    elif year >= 2017:\n",
        "        return '2017-2020'\n",
        "    elif year >= 2012:\n",
        "        return '2012-2017'\n",
        "    elif year >= 2008:\n",
        "        return '2008-2012'\n",
        "    elif year >= 2000:\n",
        "        return '2000-2008'\n",
        "    else:\n",
        "        return '2000 and before'\n",
        "\n",
        "df['Year Range'] = df['Vehicle Year'].apply(categorize_year)\n",
        "# create a new columns containing the bin of year\n",
        "selected_makes = ['TOYOTA', 'HONDA', 'FORD', 'CHEVROLET', 'NISSAN']\n",
        "# select the top 5 vehicle make\n",
        "filtered_df = df[df['Vehicle Make'].isin(selected_makes)]\n",
        "grouped = filtered_df.groupby(['Vehicle Make', 'Year Range']).size().unstack(fill_value=0)\n",
        "percentage_grouped = grouped.div(grouped.sum(axis=1), axis=0) * 100\n",
        "ax = percentage_grouped.plot(kind='bar', stacked=True, figsize=(10, 6))\n",
        "# draw the graph\n",
        "plt.xlabel('Vehicle Make')\n",
        "plt.ylabel('Percentage (%)')\n",
        "plt.title('Year Range Distribution by Vehicle Make')\n",
        "plt.legend(title='Year Range', bbox_to_anchor=(1.05, 1), loc='upper left')\n",
        "plt.xticks(rotation=0)"
      ],
      "metadata": {
        "id": "AvdLYE5C2KUW"
      },
      "execution_count": null,
      "outputs": []
    },
    {
      "cell_type": "code",
      "source": [
        "top_5_brands = df['Vehicle Make'].value_counts().head(5).index.tolist()\n",
        "\n",
        "# Filter the data for the top 5 brands\n",
        "filtered_df = df[df['Vehicle Make'].isin(top_5_brands)]\n",
        "\n",
        "# Group the filtered data by \"Brand\" and \"Damage Extent\" and count occurrences\n",
        "grouped = filtered_df.groupby(['Vehicle Make', 'Vehicle Damage Extent']).size().unstack(fill_value=0)\n",
        "\n",
        "# Calculate the percentage for each damage extent level within each brand\n",
        "percentage_grouped = grouped.div(grouped.sum(axis=1), axis=0) * 100\n",
        "\n",
        "# Create a stacked bar chart to visualize the percentage distribution\n",
        "ax = percentage_grouped.plot(kind='bar', stacked=True, figsize=(10, 6))\n",
        "plt.xlabel('Brand')\n",
        "plt.ylabel('Percentage (%)')\n",
        "plt.title('Damage Extent Distribution for Top 5 Brands')\n",
        "plt.legend(title='Damage Extent', bbox_to_anchor=(1.05, 1), loc='upper left')\n",
        "plt.xticks(rotation=45)"
      ],
      "metadata": {
        "id": "5wemF7EJmqJX"
      },
      "execution_count": null,
      "outputs": []
    },
    {
      "cell_type": "code",
      "source": [],
      "metadata": {
        "id": "cb7j6HANmqMO"
      },
      "execution_count": null,
      "outputs": []
    },
    {
      "cell_type": "code",
      "source": [
        "fatal_crashes = df[df['ACRS Report Type'] == 'Fatal Crash']\n",
        "\n",
        "# Plotting crash locations on an interactive map using Plotly\n",
        "fig = px.scatter_mapbox(fatal_crashes,\n",
        "                        lat=\"Latitude\",\n",
        "                        lon=\"Longitude\",\n",
        "                        mapbox_style=\"carto-positron\",  # Choose map style\n",
        "                        title=\"Locations of Fatal Crashes\",\n",
        "                        zoom=8,  # Set initial zoom level\n",
        "                        color_discrete_sequence=[\"red\"])  # Color for fatal crashes\n",
        "\n",
        "fig.update_layout(margin={\"r\": 0, \"t\": 0, \"l\": 0, \"b\": 0})  # Adjust layout margins\n",
        "fig.show()"
      ],
      "metadata": {
        "id": "CcHSZXwHOzgt"
      },
      "execution_count": null,
      "outputs": []
    },
    {
      "cell_type": "code",
      "source": [
        "# Extracting the column related to traffic control mechanisms\n",
        "traffic_control_data = df['Traffic Control']\n",
        "\n",
        "# Counting the occurrences of crashes for each type of traffic control mechanism\n",
        "traffic_control_counts = traffic_control_data.value_counts()\n",
        "\n",
        "# Plotting a bar chart for traffic control mechanisms frequency\n",
        "plt.figure(figsize=(8, 6))\n",
        "traffic_control_counts.plot(kind='bar', color='skyblue')\n",
        "plt.title('Frequency of Crashes Based on Traffic Control Mechanisms')\n",
        "plt.xlabel('Traffic Control Mechanisms')\n",
        "plt.ylabel('Frequency')\n",
        "plt.xticks(rotation=45)\n",
        "plt.tight_layout()\n",
        "plt.show()"
      ],
      "metadata": {
        "id": "rBUsb7eTOzjd"
      },
      "execution_count": null,
      "outputs": []
    },
    {
      "cell_type": "code",
      "source": [
        "# Convert 'Crash Date/Time' column to datetime format in the copied dataframe\n",
        "df['Crash Date/Time'] = pd.to_datetime(df['Crash Date/Time'])\n",
        "\n",
        "# Extract year from 'Crash Date/Time' column and create a new column 'Year'\n",
        "df['Year'] = df['Crash Date/Time'].dt.year\n",
        "\n",
        "# Group by 'Year' and count occurrences\n",
        "yearly_crash_count = df['Year'].value_counts().sort_index()\n",
        "\n",
        "# Plotting time-series data for yearly crash occurrences\n",
        "plt.figure(figsize=(10, 6))\n",
        "plt.plot(yearly_crash_count, marker='o', color='orange')\n",
        "\n",
        "plt.title('Crash Occurrences Over Year')\n",
        "plt.xlabel('Year')\n",
        "plt.ylabel('Number of Crashes')\n",
        "plt.grid(True)\n",
        "plt.tight_layout()\n",
        "plt.show()"
      ],
      "metadata": {
        "id": "8es5tgBtOzmD"
      },
      "execution_count": null,
      "outputs": []
    },
    {
      "cell_type": "code",
      "source": [
        "\n",
        "\n",
        "# Assuming 'df' contains the crash report dataset\n",
        "\n",
        "\n",
        "# Convert 'Crash Date/Time' column to datetime format in the copied dataframe\n",
        "df['Crash Date/Time'] = pd.to_datetime(df['Crash Date/Time'])\n",
        "\n",
        "\n",
        "# Resample data to monthly frequency and count occurrences\n",
        "monthly_crash_count = df.resample('M').size()  # Monthly frequency\n",
        "\n",
        "# Plotting time-series data for monthly crash occurrences\n",
        "plt.figure(figsize=(10, 6))\n",
        "plt.plot(monthly_crash_count, label='Monthly', marker='o', color='skyblue')\n",
        "\n",
        "plt.title('Crash Occurrences Over Month')\n",
        "plt.xlabel('Time')\n",
        "plt.ylabel('Number of Crashes')\n",
        "plt.legend()\n",
        "plt.grid(True)\n",
        "plt.tight_layout()\n",
        "plt.show()"
      ],
      "metadata": {
        "id": "VEqTM1jsh48O"
      },
      "execution_count": null,
      "outputs": []
    },
    {
      "cell_type": "code",
      "source": [],
      "metadata": {
        "id": "Lk1Lm0SUh4_X"
      },
      "execution_count": null,
      "outputs": []
    },
    {
      "cell_type": "code",
      "source": [
        "df.dtypes"
      ],
      "metadata": {
        "id": "1Gw6VP4TvaHZ"
      },
      "execution_count": null,
      "outputs": []
    },
    {
      "cell_type": "code",
      "source": [
        "from sklearn.preprocessing import LabelEncoder\n",
        "le = LabelEncoder()\n",
        "for column in df.select_dtypes(include=['object']).columns: # convert all object columns to integer\n",
        "    df[column] = le.fit_transform(df[column])\n",
        "df"
      ],
      "metadata": {
        "id": "_rm3vtCjvTPk"
      },
      "execution_count": null,
      "outputs": []
    },
    {
      "cell_type": "code",
      "source": [
        "#corr = df.corr()\n",
        "#corr.style.background_gradient(cmap = 'coolwarm') # draw the correlation graph"
      ],
      "metadata": {
        "id": "oUofdUOWui1T"
      },
      "execution_count": null,
      "outputs": []
    },
    {
      "cell_type": "code",
      "source": [
        "from sklearn.model_selection import train_test_split\n",
        "X = df[['Weather','Speed Limit','Surface Condition','Vehicle Year','Vehicle Make','Traffic Control','Year']]\n",
        "y = df['Vehicle Damage Extent']\n",
        "X_train, X_test, y_train, y_test = train_test_split(X, y, test_size=0.3, random_state=42)"
      ],
      "metadata": {
        "id": "LQgPEPtRXVEz"
      },
      "execution_count": null,
      "outputs": []
    },
    {
      "cell_type": "code",
      "source": [
        "from sklearn.tree import DecisionTreeClassifier\n",
        "clf = DecisionTreeClassifier(random_state=42)\n",
        "clf.fit(X_train, y_train)\n",
        "y_pred = clf.predict(X_test)\n",
        "from sklearn.metrics import accuracy_score\n",
        "print(accuracy_score(y_test, y_pred))"
      ],
      "metadata": {
        "id": "p6NPQphbXVHk"
      },
      "execution_count": null,
      "outputs": []
    },
    {
      "cell_type": "code",
      "source": [
        "importances = clf.feature_importances_\n",
        "for idx, importance in enumerate(importances):\n",
        "    print(f\"Feature {idx + 1}: {importance:.4f}\")\n",
        "print('Feature 4 (Vehciel Year) is most important feature.')\n",
        "print('Feature 5(Vehicle Make), Feature 7(Year), and Feature 2 (Speed Limit) are related important.')"
      ],
      "metadata": {
        "id": "fT0eV6xNXVKO"
      },
      "execution_count": null,
      "outputs": []
    }
  ]
}