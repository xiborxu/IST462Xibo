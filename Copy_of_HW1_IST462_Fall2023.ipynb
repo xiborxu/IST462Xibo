{
  "cells": [
    {
      "cell_type": "markdown",
      "id": "31c05689",
      "metadata": {
        "id": "31c05689"
      },
      "source": [
        "# Homework 1 - IST 462 #"
      ]
    },
    {
      "cell_type": "markdown",
      "source": [
        "Student name: Xibo Xu"
      ],
      "metadata": {
        "id": "9g5hocHlDJIq"
      },
      "id": "9g5hocHlDJIq"
    },
    {
      "cell_type": "markdown",
      "id": "3ebe3c7a",
      "metadata": {
        "id": "3ebe3c7a"
      },
      "source": [
        "Complete the following tasks in the cells provided. If you need additional cells, please add them. To submit your solution download the notebook as a .ipynb file to your local computer system and print to PDF and submit them via Blackboard (both .ipynb and PDF must be submitted)."
      ]
    },
    {
      "cell_type": "markdown",
      "id": "b8f3923b",
      "metadata": {
        "id": "b8f3923b"
      },
      "source": [
        "1. Create a string called *myfirstname* and store your first name in it (5 points)"
      ]
    },
    {
      "cell_type": "code",
      "execution_count": null,
      "id": "3adfe291",
      "metadata": {
        "id": "3adfe291",
        "outputId": "65d8c0f8-730b-4d33-a45f-d7fe24ba593e",
        "colab": {
          "base_uri": "https://localhost:8080/",
          "height": 35
        }
      },
      "outputs": [
        {
          "output_type": "execute_result",
          "data": {
            "text/plain": [
              "'Xibo'"
            ],
            "application/vnd.google.colaboratory.intrinsic+json": {
              "type": "string"
            }
          },
          "metadata": {},
          "execution_count": 1
        }
      ],
      "source": [
        "myfirstname = \"Xibo\" # assignment my first name into the variable\n",
        "myfirstname"
      ]
    },
    {
      "cell_type": "markdown",
      "id": "afb922f5",
      "metadata": {
        "id": "afb922f5"
      },
      "source": [
        "2. Create a string called *mylastname* and store your last name in it (5 points)"
      ]
    },
    {
      "cell_type": "code",
      "execution_count": null,
      "id": "4d669b3b",
      "metadata": {
        "id": "4d669b3b",
        "outputId": "9922dedd-dd42-4643-809a-b3d4803b2e32",
        "colab": {
          "base_uri": "https://localhost:8080/",
          "height": 35
        }
      },
      "outputs": [
        {
          "output_type": "execute_result",
          "data": {
            "text/plain": [
              "'Xu'"
            ],
            "application/vnd.google.colaboratory.intrinsic+json": {
              "type": "string"
            }
          },
          "metadata": {},
          "execution_count": 2
        }
      ],
      "source": [
        "mylastname = \"Xu\" # assignment my last name\n",
        "mylastname"
      ]
    },
    {
      "cell_type": "markdown",
      "id": "cd22e1f2",
      "metadata": {
        "id": "cd22e1f2"
      },
      "source": [
        "3. Create a string called *myname* that concatenates the strings *myfirstname* and *mylastname* that you created previously (5 points)"
      ]
    },
    {
      "cell_type": "code",
      "execution_count": null,
      "id": "56e9acb8",
      "metadata": {
        "id": "56e9acb8",
        "outputId": "21db7a7e-2eeb-4ba2-828d-63b9f7c11f28",
        "colab": {
          "base_uri": "https://localhost:8080/",
          "height": 35
        }
      },
      "outputs": [
        {
          "output_type": "execute_result",
          "data": {
            "text/plain": [
              "'Xibo Xu'"
            ],
            "application/vnd.google.colaboratory.intrinsic+json": {
              "type": "string"
            }
          },
          "metadata": {},
          "execution_count": 3
        }
      ],
      "source": [
        "myname = myfirstname + \" \" + mylastname # a new varibale by adding previous variables\n",
        "myname"
      ]
    },
    {
      "cell_type": "markdown",
      "id": "d97f2a52",
      "metadata": {
        "id": "d97f2a52"
      },
      "source": [
        "4. Use the appropriate methods seen in the class session to do the following on the string *myname*:"
      ]
    },
    {
      "cell_type": "markdown",
      "id": "8fc95c33",
      "metadata": {
        "id": "8fc95c33"
      },
      "source": [
        "4a. Print out the number of characters (i.e. the length) that make up *myname* (5 points)"
      ]
    },
    {
      "cell_type": "code",
      "execution_count": null,
      "id": "5682eec8",
      "metadata": {
        "id": "5682eec8",
        "outputId": "3f675399-2137-4985-81e2-00ff003240c0",
        "colab": {
          "base_uri": "https://localhost:8080/"
        }
      },
      "outputs": [
        {
          "output_type": "execute_result",
          "data": {
            "text/plain": [
              "7"
            ]
          },
          "metadata": {},
          "execution_count": 4
        }
      ],
      "source": [
        "len(myname) # len() function to find the number of characters"
      ]
    },
    {
      "cell_type": "markdown",
      "id": "1b3c3944",
      "metadata": {
        "id": "1b3c3944"
      },
      "source": [
        "4b. Derive a substring composed of the letters in positions 2 to 5 from *myname*. The characters in positions 2 and 5 must be included (5 points)"
      ]
    },
    {
      "cell_type": "code",
      "execution_count": null,
      "id": "fd2c475e",
      "metadata": {
        "id": "fd2c475e",
        "outputId": "cd9d8085-fbb2-4180-bbcd-62c59d2be9a2",
        "colab": {
          "base_uri": "https://localhost:8080/",
          "height": 35
        }
      },
      "outputs": [
        {
          "output_type": "execute_result",
          "data": {
            "text/plain": [
              "'ibo '"
            ],
            "application/vnd.google.colaboratory.intrinsic+json": {
              "type": "string"
            }
          },
          "metadata": {},
          "execution_count": 5
        }
      ],
      "source": [
        "submyname = myname[1:5] # python counts position from 0. Hence letter 1, position two, is actually at 1 in index. It goes to 5.\n",
        "submyname"
      ]
    },
    {
      "cell_type": "markdown",
      "id": "84f35b38",
      "metadata": {
        "id": "84f35b38"
      },
      "source": [
        "4c. Choose a letter that is present in myname and replace it with the character X (5 points)"
      ]
    },
    {
      "cell_type": "code",
      "execution_count": null,
      "id": "de122f35",
      "metadata": {
        "id": "de122f35",
        "outputId": "ddac5a4f-5b56-498f-fd20-375e7629d6ab",
        "colab": {
          "base_uri": "https://localhost:8080/",
          "height": 35
        }
      },
      "outputs": [
        {
          "output_type": "execute_result",
          "data": {
            "text/plain": [
              "'XiXo Xu'"
            ],
            "application/vnd.google.colaboratory.intrinsic+json": {
              "type": "string"
            }
          },
          "metadata": {},
          "execution_count": 13
        }
      ],
      "source": [
        "mynewname = myname.replace('b','X') #variable.replace('a':'b') function to replace a with b\n",
        "mynewname"
      ]
    },
    {
      "cell_type": "markdown",
      "id": "3a622275",
      "metadata": {
        "id": "3a622275"
      },
      "source": [
        "5. Create a list called *WeekDays* that contains the names of the day of the week. (10 points)"
      ]
    },
    {
      "cell_type": "code",
      "execution_count": null,
      "id": "61609d71",
      "metadata": {
        "id": "61609d71",
        "outputId": "db90dbb2-5f75-4349-bb0f-8f011e925b27",
        "colab": {
          "base_uri": "https://localhost:8080/"
        }
      },
      "outputs": [
        {
          "output_type": "execute_result",
          "data": {
            "text/plain": [
              "['Monday', 'Tuesday', 'Wednesday', 'Thursday', 'Friday', 'Saturday', 'Sunday']"
            ]
          },
          "metadata": {},
          "execution_count": 15
        }
      ],
      "source": [
        "WeekDays = ['Monday','Tuesday','Wednesday','Thursday','Friday','Saturday','Sunday'] # create a list by []\n",
        "WeekDays"
      ]
    },
    {
      "cell_type": "markdown",
      "id": "5e737e19",
      "metadata": {
        "id": "5e737e19"
      },
      "source": [
        "6. Create a dictionary that uses the course numbers of the courses you are taking this semester as the keys of the dictionary and for each key associate as its value the name of the course. As an example for IST 462, the entry would be    *462 : Scripting for Data Analysis* (30 points)"
      ]
    },
    {
      "cell_type": "code",
      "execution_count": null,
      "id": "2ec360d4",
      "metadata": {
        "id": "2ec360d4",
        "outputId": "001151c8-643b-4b5b-bf82-46dc0eace8ea",
        "colab": {
          "base_uri": "https://localhost:8080/"
        }
      },
      "outputs": [
        {
          "output_type": "execute_result",
          "data": {
            "text/plain": [
              "{343: 'Data in Society',\n",
              " 345: 'Managing Info System Projects',\n",
              " 407: 'Data Mining',\n",
              " 462: 'Scripting for Data Analysis',\n",
              " 331: '1st Crouse of Linear Algebra'}"
            ]
          },
          "metadata": {},
          "execution_count": 37
        }
      ],
      "source": [
        "Crouses = {\n",
        "    343 : \"Data in Society\",\n",
        "    345 : \"Managing Info System Projects\",\n",
        "    407 : \"Data Mining\",\n",
        "    462 : \"Scripting for Data Analysis\",\n",
        "    331 : \"1st Crouse of Linear Algebra\"\n",
        "} # create a dictionary by {}\n",
        "Crouses"
      ]
    },
    {
      "cell_type": "markdown",
      "id": "8ee93a77",
      "metadata": {
        "id": "8ee93a77"
      },
      "source": [
        "7. Do some research on how to use Markdown commands and write the text of the first three sections of your resume (example: education, objectives, past experience, etc.). You can use the following resource to learn about Markdown:\n",
        "- https://medium.com/analytics-vidhya/the-ultimate-markdown-guide-for-jupyter-notebook-d5e5abf728fd\n",
        "- Short video: https://www.youtube.com/watch?v=uVLzL5E-YBM\n",
        "- Long video/tutorial: https://www.youtube.com/watch?v=mTIifW_LU5s\n",
        "\n",
        "(30 points)"
      ]
    },
    {
      "cell_type": "markdown",
      "source": [
        "# **Xibo Xu**\n",
        "(315)-7062075 | xxu104@syr.edu | https://www.linkedin.com/in/xiboxu/\n",
        "\n",
        "## **Education**\n",
        "------------------------------------------------------------------------------\n",
        "###**Syracuse University, School of Information Studies**;          ***Syracuse, NY***\n",
        "####Bachelor of Science in Applied Data Analytics\n",
        "####Bachelor of Arts at Maxwell School in International Relations\n",
        "GPA: 3.940, top 1%\n",
        "Relevant Courses: Application Programming for Information Systems, Database Management Systems, Applied Data Science, Data Driven Inquiry, Data Mining, Quant Method for Social Science\n",
        "\n",
        "## **Work Experience**\n",
        "------------------------------------------------------------------------------\n",
        "###**Information System Intern, Fuyao Glass America Inc.**; ***Moraine, OH 06/2023 - 08/2023***\n",
        "- Developed and implemented Python-based data retrieval and analysis systems, utilizing strong quantitative skills to ensure the accuracy and reliability of HR data while improving overall efficiency.\n",
        "- Leveraged advanced statistical techniques and modeling methods to identify patterns, trends, and correlations within HR data, facilitating data-driven decision-making and optimizing business processes.\n",
        "- Utilized PowerBI, Matplotlib, Seaborn Python, data visualization tools to effectively communicate quantitative insights and findings to stakeholders, enabling informed decision-making at all levels of the organization.\n",
        "\n",
        "###**Small Business Development Intern, Northeast Hawley Development Association**; ***Syracuse, NY 08/2022 - 12/2022***\n",
        "- Developed comprehensive business development plans for micro-entrepreneurs, incorporating industry and geographic analysis, digital transformation strategies, and impactful marketing tactics.\n",
        "- Fostered government financing for family business by meticulously collecting and organizing accounting data and company information, and crafted the business proposal to local government, reducing cost for each business by 10 percent.\n",
        "- Coordinated and collaborated to host impactful community events to enhance neighborhood networking, generating compelling marketing material to amplify local businesses' visibility and foster growth.\n",
        "\n",
        "## **PROJECT EXPERIENCE**\n",
        "------------------------------------------------------------------------------\n",
        "###**Business Analysis Project**; **Syracuse, 03/2023**\n",
        "- Collected and analyzed data from purchasing records and customer surveys to identify key customer characteristics, including age, gender, reading habits, and more.\n",
        "- Utilized machine learning techniques, specifically associate rule mining, to extract customer profiles and identify the target audience for the business, enabling the implementation of targeted marketing strategies.\n",
        "- Conducted regression analysis to determine the most influential factors in predicting book purchases, enabling the development of data-driven strategies, and optimizing the effectiveness of targeted marketing campaigns.\n",
        "- Provided actionable recommendations based on the analysis results, implementing the targeted marketing strategy to attract the identified target customers and enhance the bookstore's overall business performance.\n",
        "\n",
        "\n",
        "\n"
      ],
      "metadata": {
        "id": "jXY5cQ8gVvYb"
      },
      "id": "jXY5cQ8gVvYb"
    }
  ],
  "metadata": {
    "kernelspec": {
      "display_name": "Python 3 (ipykernel)",
      "language": "python",
      "name": "python3"
    },
    "language_info": {
      "codemirror_mode": {
        "name": "ipython",
        "version": 3
      },
      "file_extension": ".py",
      "mimetype": "text/x-python",
      "name": "python",
      "nbconvert_exporter": "python",
      "pygments_lexer": "ipython3",
      "version": "3.9.6"
    },
    "colab": {
      "provenance": []
    }
  },
  "nbformat": 4,
  "nbformat_minor": 5
}