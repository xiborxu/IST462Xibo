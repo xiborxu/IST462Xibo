{
  "cells": [
    {
      "cell_type": "markdown",
      "metadata": {
        "id": "view-in-github",
        "colab_type": "text"
      },
      "source": [
        "<a href=\"https://colab.research.google.com/github/xiborxu/IST462xibo/blob/main/HW2_IST462_Fall2023.ipynb\" target=\"_parent\"><img src=\"https://colab.research.google.com/assets/colab-badge.svg\" alt=\"Open In Colab\"/></a>"
      ]
    },
    {
      "cell_type": "markdown",
      "metadata": {
        "id": "uF1Y8PbmoIaa"
      },
      "source": [
        "## Homework 2 - IST 462 ##\n"
      ]
    },
    {
      "cell_type": "markdown",
      "metadata": {
        "id": "e4cb0d89"
      },
      "source": [
        "Student name:"
      ]
    },
    {
      "cell_type": "markdown",
      "metadata": {
        "id": "ihmWXuLToIad"
      },
      "source": [
        "---\n",
        "### Questions"
      ]
    },
    {
      "cell_type": "markdown",
      "metadata": {
        "id": "uaLd_FE8oIae"
      },
      "source": [
        "#### ( 1 ) Given a list of non-empty tuples, write a sort expression that will sort in increasing order by the last element in each tuple.\n",
        "for eample:\n",
        "- [(1, 7), (1, 3), (3, 4, 5), (2, 2), (9)]\n",
        "\n",
        "yields\n",
        "- [(2, 2), (1, 3), (3, 4, 5), (1, 7), (9)]\n",
        "\n",
        "\n",
        "<b> 2 Examples </b>\n",
        "\n",
        "Define at least two lists with tuples of different lengths and show the same sort expression executing against both lists.\n",
        "\n",
        "[10 points]\n"
      ]
    },
    {
      "cell_type": "code",
      "execution_count": 8,
      "metadata": {
        "id": "oVoseCt5oIaf",
        "outputId": "af0ecf63-0190-4376-dd28-bf65f9de16de",
        "colab": {
          "base_uri": "https://localhost:8080/"
        }
      },
      "outputs": [
        {
          "output_type": "execute_result",
          "data": {
            "text/plain": [
              "[(4, 2, 0), (2, 5, 1), (1, 5, 6), (4, 5, 8), (9,)]"
            ]
          },
          "metadata": {},
          "execution_count": 8
        }
      ],
      "source": [
        "# List #1\n",
        "# Enter your code here, printing relevant answers to console:\n",
        "my_first_list = [# build a list with tuple\n",
        "    (1,5,6),\n",
        "    (4,2,0),\n",
        "    (2,5,1),\n",
        "    (4,5,8),\n",
        "    (9,) # if there is no comma, it is an int; add a comma and it will become a tuple\n",
        "    ]\n",
        "\n",
        "my_first_list_sorted = sorted(my_first_list, key = lambda item: item[-1], reverse = False) # lambda creates a small function\n",
        "my_first_list_sorted   # sorted function sort the list; key to decide which element to sort # find the last items in each tuple"
      ]
    },
    {
      "cell_type": "code",
      "execution_count": null,
      "metadata": {
        "id": "R75dYtF_oIag",
        "outputId": "519836a2-1a04-4578-dfc1-de4206a7c4b4",
        "colab": {
          "base_uri": "https://localhost:8080/"
        }
      },
      "outputs": [
        {
          "output_type": "execute_result",
          "data": {
            "text/plain": [
              "[('banana',), ('apple',), ('pear',)]"
            ]
          },
          "metadata": {},
          "execution_count": 14
        }
      ],
      "source": [
        "# List #2\n",
        "# Enter your code here, printing relevant answers to console:\n",
        "my_second_list = [\n",
        "    ('apple',),\n",
        "    ('banana',),\n",
        "    ('pear',)\n",
        "]\n",
        "\n",
        "my_second_list_sorted = sorted(my_second_list, key = lambda item: item[-1][-1], reverse = False)\n",
        "my_second_list_sorted                                 # first[-1] to sorted by the last element in tuple\n",
        "                                                      # second [-1] to sorted by the last character in last element"
      ]
    },
    {
      "cell_type": "markdown",
      "metadata": {
        "id": "hSHoo8OvoIah"
      },
      "source": [
        "---\n",
        "#### ( 2a ) Given the grades of 21 students in a class, write a program which will print to console:\n",
        "- The maximum grade <b>and</b> the student(s) who recieved it\n",
        "- The minimum grade <b>and</b> the student(s) who recieved it\n",
        "- The average (mean) grade for the entire class\n",
        "\n",
        "\n",
        "[10 points]"
      ]
    },
    {
      "cell_type": "code",
      "execution_count": null,
      "metadata": {
        "id": "3XDanR9OoIai",
        "outputId": "ebb21eea-384e-4dc8-da04-18935a9c41e8",
        "colab": {
          "base_uri": "https://localhost:8080/"
        }
      },
      "outputs": [
        {
          "output_type": "execute_result",
          "data": {
            "text/plain": [
              "100"
            ]
          },
          "metadata": {},
          "execution_count": 16
        }
      ],
      "source": [
        "# Enter your code here, printing relevant answers to console:\n",
        "\n",
        "grades = [['Gary', 77],\n",
        "          ['Albert', 70],\n",
        "          ['Tina', 78],\n",
        "          ['Ash', 91],\n",
        "          ['Harsh', 92],\n",
        "          ['Dmitri', 82],\n",
        "          ['Geeta', 90],\n",
        "          ['Tao', 79],\n",
        "          ['Zhang', 85],\n",
        "          ['Miguel', 100],\n",
        "          ['Ashley', 92],\n",
        "          ['Marta', 77],\n",
        "          ['Jackson', 90],\n",
        "          ['Freddy', 85],\n",
        "          ['Li', 68],\n",
        "          ['Albert', 75],\n",
        "          ['Watson', 99],\n",
        "          ['Juan', 91],\n",
        "          ['Irina', 100],\n",
        "          ['Nikhil', 94],\n",
        "          ['Fred', 73],]\n",
        "\n",
        "grade = []\n",
        "for line in grades: # for loop to reterive the grade from list\n",
        "  grade.append(int(line[1])) # use the grade to build a new list grade\n",
        "\n",
        "max_grade = max(grade) # max function find the maximum value in the list\n",
        "max_grade # in this case, the maximum grade is 100\n",
        "grades[grade.index(max(grade))] # .index() function identify the index\n",
        "                                # grade.index((max(grade))) in grade list, find the index of maximum grade\n",
        "\n",
        "min_grade = min(grade)          # min() function find the minimum grade\n",
        "grades[grade.index(min(grade))]"
      ]
    },
    {
      "cell_type": "markdown",
      "metadata": {
        "id": "MF6IEq5QoIai"
      },
      "source": [
        " ----"
      ]
    },
    {
      "cell_type": "markdown",
      "metadata": {
        "id": "25DscBHkoIaj"
      },
      "source": [
        "#### ( 2b )  Given the same grades as the previous question 2a, write a program which will print to console:\n",
        "- The median grade and the student who recieved it\n",
        "- For a refresher on what the Median is, please see here: https://www.mathsisfun.com/median.html\n",
        "\n",
        "<b>NOTE:</b> Since this list has an odd number of entries, there will be 1 student who falls directly in the middle of the sorted list. There is no need to solve for a tie-break (i.e. averaging among two middle values).\n",
        "\n",
        "[10 points]"
      ]
    },
    {
      "cell_type": "code",
      "execution_count": null,
      "metadata": {
        "id": "NmhueEhIoIak",
        "outputId": "a91817fd-edea-4745-bb4c-8c727fac45f8",
        "colab": {
          "base_uri": "https://localhost:8080/"
        }
      },
      "outputs": [
        {
          "output_type": "execute_result",
          "data": {
            "text/plain": [
              "[['Zhang', 85], ['Freddy', 85]]"
            ]
          },
          "metadata": {},
          "execution_count": 5
        }
      ],
      "source": [
        "# Enter your code here, printing relevant answers to console:\n",
        "grade_sorted = sorted(grade)\n",
        "\n",
        "if len(grade_sorted)/2 == 0: # if function to determine whether there is even/odd number of value\n",
        "  median = (grade_sorted[len(grade_sorted)//2] + grade_sorted[len(grade_sorted)//2 - 1])/2\n",
        "  # if len/2 is 0, then it is a even number. Hence the median will be the sum middle two value by 2\n",
        "else: # else it will be odd number\n",
        "  median = grade_sorted[len(grade_sorted)//2] # the median will be the number in the middle\n",
        "\n",
        "median_student = [] # set a new list of student\n",
        "\n",
        "for line in grades:\n",
        "  if line[1] == median: # check second elements of each line in grades function\n",
        "                        # if that value is equal to median score, then he/she is the median student\n",
        "    median_student.append(line) # add the line to the new list, which is median student info\n",
        "\n",
        "median_student"
      ]
    },
    {
      "cell_type": "markdown",
      "metadata": {
        "id": "tIbE4REKoIal"
      },
      "source": [
        "---\n",
        "\n",
        "#### ( 3 ) Given the following dictionary of people and their ages, print those dictionary items whose value is between 25 and 55 as a <u>sorted list</u> of strings in exactly the following format:\n",
        "- <i>value-key, for instance:</i>\n",
        "    - ...\n",
        "    - '50-Harry'\n",
        "    - '40-Ben'\n",
        "    - ...\n",
        "    - '22-Kelly'\n",
        "\n",
        "[20 points]"
      ]
    },
    {
      "cell_type": "code",
      "execution_count": null,
      "metadata": {
        "id": "BnbOESqBoIam",
        "outputId": "758614d4-7b13-4c0a-ce23-8ab2e880def0",
        "colab": {
          "base_uri": "https://localhost:8080/"
        }
      },
      "outputs": [
        {
          "output_type": "stream",
          "name": "stdout",
          "text": [
            "25-Xi\n",
            "26-Kelly\n",
            "26-Miguel\n",
            "27-Ashley\n",
            "28-Belle\n",
            "33-Juan\n",
            "35-Tao\n",
            "39-Akriti\n",
            "40-Ben\n",
            "41-Jackson\n",
            "44-Marta\n",
            "50-Harry\n",
            "62-Geeta\n",
            "66-Lilly\n",
            "68-Harsh\n"
          ]
        }
      ],
      "source": [
        "# Enter your code here, printing relevant answers to console:\n",
        "\n",
        "age_dict = {'Harry': 50,\n",
        "          'Berry': 21,\n",
        "          'Tina': 23,\n",
        "          'Akriti': 39,\n",
        "          'Harsh': 68,\n",
        "          'Ben': 40,\n",
        "          'Geeta': 62,\n",
        "          'Tao': 35,\n",
        "          'Kelly': 26,\n",
        "          'Miguel': 26,\n",
        "          'Ashley': 27,\n",
        "          'Marta': 44,\n",
        "          'Jackson': 41,\n",
        "          'Freddy': 17,\n",
        "          'Lilly': 66,\n",
        "          'Albert': 23,\n",
        "          'Xi': 25,\n",
        "          'Juan': 33,\n",
        "          'Belle': 28,\n",
        "          'Nikhil': 22,}\n",
        "\n",
        "people_25_to_75 = [] # build a new list\n",
        "for name,age in age_dict.items(): # list.items refers to each elements in the list; match them with name,age\n",
        "  if age >= 25 and age <= 75: # the condition is age(second value) greater than 25 or less than 75\n",
        "    people_25_to_75.append((name,age)) # add the values to list by conditions\n",
        "\n",
        "people_25_to_75 = sorted(people_25_to_75, key = lambda item: item[1]) # now sorted the list by second items\n",
        "people_25_to_75\n",
        "\n",
        "for name, age in people_25_to_75: # now rewrite the values in the given format\n",
        "  print(f\"{age}-{name}\")"
      ]
    },
    {
      "cell_type": "markdown",
      "metadata": {
        "id": "0B-BDu0moIan"
      },
      "source": [
        "#### ( 4a ) Using a loop (while or for) - write a program which generates the first 20 even squares.\n",
        "\n",
        "- An even number is evenly divisible by 2 (i.e. with remainder 0)\n",
        "- A square is a value which is yielded when it's square-root is multiplied by itself:\n",
        "    - 4 is a square since it's equal to 2*2\n",
        "    - 9 is a square since it's equal to 3*3\n",
        "        - However, 9 is not even and should not be printed.\n",
        "- Zero (0) <u>should not</u> be considered an even square\n",
        "       \n",
        "[10 points]"
      ]
    },
    {
      "cell_type": "code",
      "execution_count": null,
      "metadata": {
        "id": "lbduwDP5oIan",
        "outputId": "82540708-eeed-4330-971d-a9afcc49a2e0",
        "colab": {
          "base_uri": "https://localhost:8080/"
        }
      },
      "outputs": [
        {
          "output_type": "stream",
          "name": "stdout",
          "text": [
            "4\n",
            "16\n",
            "36\n",
            "64\n",
            "100\n",
            "144\n",
            "196\n",
            "256\n",
            "324\n",
            "400\n",
            "484\n",
            "576\n",
            "676\n",
            "784\n",
            "900\n",
            "1024\n",
            "1156\n",
            "1296\n",
            "1444\n",
            "1600\n"
          ]
        }
      ],
      "source": [
        "# Enter your code here, printing relevant answers to console:\n",
        "number = 0\n",
        "count = 0 # give two variable, one for number, the other for count of the number used\n",
        "\n",
        "for number in range(1,10000): # beginning from 1 to 10000, try the number one by one\n",
        "  if number%2 == 0: # if the number/2 has no reminder, it is an even number\n",
        "    even_square = number**2 # so it matches the condition, find its sqaure root\n",
        "    count = count + 1 # so find a square root, count plus one\n",
        "    print(even_square) # print the square root\n",
        "  if count == 20: # by the question, we only want first 20 square root, so when count reaches 20, stop the loop\n",
        "    break"
      ]
    },
    {
      "cell_type": "markdown",
      "source": [
        "#### ( 4b ) Using a list comprehension - write a program which generates the first 10 odd squares.\n",
        "\n",
        "- An odd number is not evenly divisible by 2 (i.e. with remainder 0):\n",
        "    - 4 is a square since it's equal to 2*2\n",
        "    - 9 is a square since it's equal to 3*3\n",
        "        - However, 4 is not odd and should not be printed.\n",
        "       \n",
        "[10 points]"
      ],
      "metadata": {
        "id": "7DU4FVbDqPy2"
      }
    },
    {
      "cell_type": "code",
      "source": [
        "# Enter your code here, printing relevant answers to console:\n",
        "number = 0\n",
        "count = 0 # same things above\n",
        "\n",
        "for number in range(1,10000):\n",
        "  if number%2 == 1: # this time is odd number, which mean number/2 has reminder of 1\n",
        "    odd_square = number**2\n",
        "    count = count + 1\n",
        "    print(odd_square)\n",
        "  if count == 10:\n",
        "    break"
      ],
      "metadata": {
        "id": "t1xUFJbeqO1x",
        "outputId": "87d106b8-9cbd-4fcc-b22f-ece2b318351e",
        "colab": {
          "base_uri": "https://localhost:8080/"
        }
      },
      "execution_count": null,
      "outputs": [
        {
          "output_type": "stream",
          "name": "stdout",
          "text": [
            "1\n",
            "9\n",
            "25\n",
            "49\n",
            "81\n",
            "121\n",
            "169\n",
            "225\n",
            "289\n",
            "361\n"
          ]
        }
      ]
    },
    {
      "cell_type": "markdown",
      "metadata": {
        "id": "H-xOcdp3oIao"
      },
      "source": [
        "#### ( 5 ) Print the following summary statistics from the dictionary of animals in a zoe.\n",
        "##### NOTE --> key = specie | value = number of animals of that specie in zoe\n",
        "-----------\n",
        "- The distict number of species in the zoo\n",
        "- The sum total number of animals of all types\n",
        "- The average number of animals per specie\n",
        "- The specie(s) with the most animal members\n",
        "- The specie(s) with the least animal members\n",
        "\n",
        "[30 points]"
      ]
    },
    {
      "cell_type": "code",
      "execution_count": null,
      "metadata": {
        "id": "XDcy8z8voIao",
        "outputId": "1a73a157-8833-46bb-9e0f-f05218034c11",
        "colab": {
          "base_uri": "https://localhost:8080/",
          "height": 35
        }
      },
      "outputs": [
        {
          "output_type": "execute_result",
          "data": {
            "text/plain": [
              "'polar bear'"
            ],
            "application/vnd.google.colaboratory.intrinsic+json": {
              "type": "string"
            }
          },
          "metadata": {},
          "execution_count": 19
        }
      ],
      "source": [
        "from IPython.utils.openpy import strip_encoding_cookie\n",
        "from genericpath import exists\n",
        "# Enter your code here, printing relevant answers to console:\n",
        "zoo_animals = {'giraffe':3,\n",
        "              'elephant':8,\n",
        "              'lion':6,\n",
        "              'hippopotamus':2,\n",
        "              'crocodile':6,\n",
        "              'wild dog':10,\n",
        "              'hyena':10,\n",
        "              'zebra':11,\n",
        "              'anaconda':31,\n",
        "              'python':7,\n",
        "              'kangaroo':30,\n",
        "              'cheetah':3,\n",
        "              'leopard':2,\n",
        "               'polar bear': 1}\n",
        "\n",
        "# distict number of species in the zoo\n",
        "len(zoo_animals) # length of the list is the district number\n",
        "\n",
        "# total number of animals\n",
        "number = 0\n",
        "for specie,value in zoo_animals.items(): # in zoo_animals list, find the second value(number)\n",
        "  number = number + int(value) # add the value to total number\n",
        "                                # in the list, that was a str, so need to change to a int\n",
        "number\n",
        "\n",
        "# average number of animals\n",
        "average = number/len(zoo_animals) # average is the number of animals/number of district\n",
        "average\n",
        "\n",
        "# most animals members\n",
        "max(zoo_animals.values()) # check the maximum value，which is 31\n",
        "for specie, value in zoo_animals.items(): # now find the values\n",
        "  if value == max(zoo_animals.values()): # if the value of certain line is 31, that is the specie I want\n",
        "    most_animal = specie # assign the specie name to most_animals\n",
        "most_animal\n",
        "\n",
        "# least animals members:\n",
        "min(zoo_animals.values())\n",
        "for specie, value in zoo_animals.items():\n",
        "  if value == min(zoo_animals.values()): # same as above, use minimum value this time\n",
        "    least_animal = specie\n",
        "least_animal\n",
        "\n",
        "#zoo_animals[zoo_animals.values == max(zoo_animals.values())]"
      ]
    }
  ],
  "metadata": {
    "kernelspec": {
      "display_name": "Python 3",
      "language": "python",
      "name": "python3"
    },
    "language_info": {
      "codemirror_mode": {
        "name": "ipython",
        "version": 3
      },
      "file_extension": ".py",
      "mimetype": "text/x-python",
      "name": "python",
      "nbconvert_exporter": "python",
      "pygments_lexer": "ipython3",
      "version": "3.6.1"
    },
    "colab": {
      "provenance": [],
      "include_colab_link": true
    }
  },
  "nbformat": 4,
  "nbformat_minor": 0
}