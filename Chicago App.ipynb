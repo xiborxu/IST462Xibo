{
  "nbformat": 4,
  "nbformat_minor": 0,
  "metadata": {
    "colab": {
      "private_outputs": true,
      "provenance": [],
      "authorship_tag": "ABX9TyMpig2SO0XbAu0dQwb6of7E",
      "include_colab_link": true
    },
    "kernelspec": {
      "name": "python3",
      "display_name": "Python 3"
    },
    "language_info": {
      "name": "python"
    }
  },
  "cells": [
    {
      "cell_type": "markdown",
      "metadata": {
        "id": "view-in-github",
        "colab_type": "text"
      },
      "source": [
        "<a href=\"https://colab.research.google.com/github/xiborxu/IST462xibo/blob/main/Chicago%20App.ipynb\" target=\"_parent\"><img src=\"https://colab.research.google.com/assets/colab-badge.svg\" alt=\"Open In Colab\"/></a>"
      ]
    },
    {
      "cell_type": "code",
      "execution_count": null,
      "metadata": {
        "id": "bjsMlpICLjkY"
      },
      "outputs": [],
      "source": [
        "import pandas as pd\n",
        "import numpy as np\n",
        "import matplotlib.pyplot as plt"
      ]
    },
    {
      "cell_type": "code",
      "source": [
        "from google.colab import drive\n",
        "drive.mount('/content/drive')\n",
        "df = pd.read_csv('/content/drive/My Drive/Crash_Reporting_-_Drivers_Data-2.csv')"
      ],
      "metadata": {
        "id": "Ikly5eWCL3CN"
      },
      "execution_count": null,
      "outputs": []
    },
    {
      "cell_type": "code",
      "source": [
        "value_counts = df['Agency Name'].value_counts() # Count the values of each agency name\n",
        "plt.figure(figsize=(8, 6))\n",
        "value_counts.plot(kind='bar', color='skyblue')\n",
        "plt.xlabel('Agency Name')\n",
        "plt.ylabel('Report Value Counts')\n",
        "plt.title('Report Cases by Agency Name')\n",
        "plt.show()"
      ],
      "metadata": {
        "id": "tzBiIpbqLkJZ"
      },
      "execution_count": null,
      "outputs": []
    },
    {
      "cell_type": "code",
      "source": [
        "columns_drop = ['Road Name','Cross-Street Name','Report Number', 'Local Case Number', 'Off-Road Description', 'Municipality', 'Related Non-Motorist','Drivers License State', 'Non-Motorist Substance Abuse', 'Person ID', 'Circumstance','Vehicle ID']\n",
        "df = df.drop(columns_drop, axis=1)"
      ],
      "metadata": {
        "id": "5WbTAGyVMUa2"
      },
      "execution_count": null,
      "outputs": []
    },
    {
      "cell_type": "code",
      "source": [
        "columns_to_fill_UNKNOWN = ['Driver Substance Abuse', 'Traffic Control','Weather','Vehicle Damage Extent','Equipment Problems','Surface Condition','Collision Type','Light','Vehicle First Impact Location','Vehicle Second Impact Location','Vehicle Movement','Vehicle Make','Vehicle Model','Vehicle Body Type']\n",
        "df[columns_to_fill_UNKNOWN] = df[columns_to_fill_UNKNOWN].fillna('UNKNOWN')\n",
        "columns_to_fill_Unknown = ['Route Type','Cross-Street Type','Vehicle Continuing Dir','Vehicle Going Dir']\n",
        "df[columns_to_fill_Unknown] = df[columns_to_fill_Unknown].fillna('Unknown')\n",
        "df['Vehicle Make'] = df['Vehicle Make'].replace('TOYT', 'TOYOTA')\n",
        "df['Vehicle Make'] = df['Vehicle Make'].replace('HOND', 'HONDA')\n",
        "df['Vehicle Make'] = df['Vehicle Make'].replace('CHEV', 'CHEVROLET')\n",
        "df['Vehicle Make'] = df['Vehicle Make'].replace('CHEVY', 'CHEVROLET')"
      ],
      "metadata": {
        "id": "eu7lFj_qMWG7"
      },
      "execution_count": null,
      "outputs": []
    },
    {
      "cell_type": "code",
      "source": [
        "def generate_bar_graph(column):\n",
        "    plt.figure(figsize=(8, 6))\n",
        "    df[column].value_counts().sort_index().plot(kind='bar', color='blue')\n",
        "    plt.title(f'Distribution of {column}')\n",
        "    plt.xlabel(column)\n",
        "    plt.ylabel('Count')\n",
        "    plt.show()"
      ],
      "metadata": {
        "id": "GWTBUPNtNJek"
      },
      "execution_count": null,
      "outputs": []
    },
    {
      "cell_type": "code",
      "source": [
        "generate_bar_graph('Weather')"
      ],
      "metadata": {
        "id": "UrkrMj93NJhG"
      },
      "execution_count": null,
      "outputs": []
    },
    {
      "cell_type": "code",
      "source": [
        "generate_bar_graph('Speed Limit')"
      ],
      "metadata": {
        "id": "_t9CuORJNJj9"
      },
      "execution_count": null,
      "outputs": []
    },
    {
      "cell_type": "code",
      "source": [
        "def categorize_year(year):\n",
        "    if year >= 2020:\n",
        "        return '2020-2023'\n",
        "    elif year >= 2017:\n",
        "        return '2017-2020'\n",
        "    elif year >= 2012:\n",
        "        return '2012-2017'\n",
        "    elif year >= 2008:\n",
        "        return '2008-2012'\n",
        "    elif year >= 2000:\n",
        "        return '2000-2008'\n",
        "    else:\n",
        "        return '2000 and before'\n",
        "df['Year Range'] = df['Vehicle Year'].apply(categorize_year)\n",
        "generate_bar_graph('Year Range')"
      ],
      "metadata": {
        "id": "yYSx_GIHNJps"
      },
      "execution_count": null,
      "outputs": []
    },
    {
      "cell_type": "code",
      "source": [
        "# draw the graph of damage count by damaged level in different weather conditions\n",
        "grouped = df.groupby(['Vehicle Damage Extent', 'Weather']).size().unstack(fill_value=0)\n",
        "# groupby the Vehicle Damage Extent and weather and count the size\n",
        "grouped.plot(kind='bar', stacked=True, figsize=(8, 6),colormap = 'tab10')\n",
        "plt.xlabel('Weather')\n",
        "plt.ylabel('Count')\n",
        "plt.title('Damage Extent by Weather')\n",
        "plt.legend(title='Damage Extent',bbox_to_anchor=(1.45, 1), loc='upper right')"
      ],
      "metadata": {
        "id": "aA2uOWFiRbkv"
      },
      "execution_count": null,
      "outputs": []
    },
    {
      "cell_type": "code",
      "source": [
        "top_5_brands = df['Vehicle Make'].value_counts().head(5).index.tolist()\n",
        "\n",
        "# Filter the data for the top 5 brands\n",
        "filtered_df = df[df['Vehicle Make'].isin(top_5_brands)]\n",
        "grouped = filtered_df.groupby(['Vehicle Make', 'Vehicle Damage Extent']).size().unstack(fill_value=0)\n",
        "percentage_grouped = grouped.div(grouped.sum(axis=1), axis=0) * 100\n",
        "# Calculate the percentage for each damage extent level within each brand\n",
        "# draw the graph\n",
        "ax = percentage_grouped.plot(kind='bar', stacked=True, figsize=(10, 6))\n",
        "for rect in ax.patches:\n",
        "    height = rect.get_height()\n",
        "    ax.text(rect.get_x() + rect.get_width() / 2, rect.get_y() + height / 2,\n",
        "            f'{height:.1f}%', ha='center', va='center')\n",
        "plt.xlabel('Brand')\n",
        "plt.ylabel('Percentage (%)')\n",
        "plt.title('Damage Extent Distribution for Top 5 Brands')\n",
        "plt.legend(title='Damage Extent', bbox_to_anchor=(1.05, 1), loc='upper left')\n",
        "plt.xticks(rotation=45)"
      ],
      "metadata": {
        "id": "Csoz_LAwR1pI"
      },
      "execution_count": null,
      "outputs": []
    },
    {
      "cell_type": "code",
      "source": [
        "#df.dtypes\n",
        "from sklearn.preprocessing import LabelEncoder\n",
        "le = LabelEncoder()\n",
        "for column in df.select_dtypes(include=['object']).columns: # convert all object columns to integer\n",
        "    df[column] = le.fit_transform(df[column])"
      ],
      "metadata": {
        "id": "rLiWxvzgSPBQ"
      },
      "execution_count": null,
      "outputs": []
    },
    {
      "cell_type": "code",
      "source": [
        "corr = df.corr()\n",
        "corr_with_damage = corr\n",
        "\n",
        "# Create a styled correlation map for that column\n",
        "corr_with_damage.style.background_gradient(cmap='coolwarm')"
      ],
      "metadata": {
        "id": "mD2CVAU3SUgC"
      },
      "execution_count": null,
      "outputs": []
    }
  ]
}