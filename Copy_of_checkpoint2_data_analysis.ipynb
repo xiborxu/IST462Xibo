{
  "cells": [
    {
      "cell_type": "markdown",
      "metadata": {
        "id": "view-in-github",
        "colab_type": "text"
      },
      "source": [
        "<a href=\"https://colab.research.google.com/github/xiborxu/IST462xibo/blob/main/Copy_of_checkpoint2_data_analysis.ipynb\" target=\"_parent\"><img src=\"https://colab.research.google.com/assets/colab-badge.svg\" alt=\"Open In Colab\"/></a>"
      ]
    },
    {
      "cell_type": "code",
      "execution_count": 1,
      "metadata": {
        "id": "CcLp0TmVUq9r"
      },
      "outputs": [],
      "source": [
        "import pandas as pd\n",
        "import numpy as np"
      ]
    },
    {
      "cell_type": "code",
      "execution_count": null,
      "metadata": {
        "id": "QJYTYLc_Uq9s"
      },
      "outputs": [],
      "source": [
        "from google.colab import drive\n",
        "drive.mount('/content/drive')\n",
        "df = pd.read_csv('/content/drive/My Drive/Crash_Reporting_-_Drivers_Data-2.csv')"
      ]
    },
    {
      "cell_type": "code",
      "execution_count": null,
      "metadata": {
        "id": "zM_DGB3UUq9t"
      },
      "outputs": [],
      "source": [
        "df.shape"
      ]
    },
    {
      "cell_type": "code",
      "execution_count": null,
      "metadata": {
        "id": "LRn6TDjeUq9t"
      },
      "outputs": [],
      "source": [
        "df.isnull().sum()"
      ]
    },
    {
      "cell_type": "code",
      "execution_count": null,
      "metadata": {
        "id": "HFSQwFz-Uq9u"
      },
      "outputs": [],
      "source": [
        "columns_drop = ['Road Name','Cross-Street Name','Report Number', 'Local Case Number', 'Off-Road Description', 'Municipality', 'Related Non-Motorist','Drivers License State', 'Non-Motorist Substance Abuse', 'Person ID', 'Circumstance','Vehicle ID']\n",
        "# choose the columns we believe is useless\n",
        "df = df.drop(columns_drop, axis=1)\n",
        "#drop the columns"
      ]
    },
    {
      "cell_type": "code",
      "execution_count": null,
      "metadata": {
        "id": "e6WipJ7aUq9u"
      },
      "outputs": [],
      "source": [
        "df.shape"
      ]
    },
    {
      "cell_type": "code",
      "execution_count": null,
      "metadata": {
        "id": "jS5fcZ29Uq9u"
      },
      "outputs": [],
      "source": [
        "df.isnull().sum()"
      ]
    },
    {
      "cell_type": "code",
      "execution_count": null,
      "metadata": {
        "id": "0tYel6xgUq9v"
      },
      "outputs": [],
      "source": [
        "columns_to_fill_UNKNOWN = ['Driver Substance Abuse', 'Traffic Control','Weather','Equipment Problems','Surface Condition','Collision Type','Light','Vehicle First Impact Location','Vehicle Second Impact Location','Vehicle Movement','Vehicle Make','Vehicle Model','Vehicle Body Type']\n",
        "df[columns_to_fill_UNKNOWN] = df[columns_to_fill_UNKNOWN].fillna('UNKNOWN')\n",
        "\n",
        "columns_to_fill_unknown = ['Vehicle Continuing Dir','Vehicle Going Dir']\n",
        "df[columns_to_fill_unknown] = df[columns_to_fill_unknown].fillna('Unknown')"
      ]
    },
    {
      "cell_type": "code",
      "execution_count": null,
      "metadata": {
        "id": "1X3jpmgDUq9v"
      },
      "outputs": [],
      "source": [
        "df = df[df['Vehicle Damage Extent'] != 'UNKNOWN']\n",
        "df = df[df['Vehicle Damage Extent'] != 'OTHER']\n",
        "df.dropna(subset=['Vehicle Damage Extent'], inplace=True)"
      ]
    },
    {
      "cell_type": "code",
      "execution_count": null,
      "metadata": {
        "id": "kWFzpxyWUq9v"
      },
      "outputs": [],
      "source": [
        "df.isnull().sum()"
      ]
    },
    {
      "cell_type": "code",
      "execution_count": null,
      "metadata": {
        "id": "UO8iFFGKUq9v"
      },
      "outputs": [],
      "source": [
        "import pandas as pd\n",
        "import matplotlib.pyplot as plt\n",
        "\n",
        "plt.figure(figsize=(8, 6))\n",
        "df['Vehicle Damage Extent'].value_counts().sort_index().plot(kind='bar', color='skyblue')\n",
        "plt.title('Distribution of Categories')\n",
        "plt.xlabel('Category')\n",
        "plt.ylabel('Count')\n",
        "plt.show()"
      ]
    },
    {
      "cell_type": "code",
      "execution_count": null,
      "metadata": {
        "id": "vEFWdWmgUq9w"
      },
      "outputs": [],
      "source": [
        "df.dtypes"
      ]
    },
    {
      "cell_type": "code",
      "execution_count": null,
      "metadata": {
        "id": "yYpGM2fNUq9w"
      },
      "outputs": [],
      "source": [
        "from sklearn.preprocessing import LabelEncoder\n",
        "le = LabelEncoder()\n",
        "for column in df.select_dtypes(include=['object']).columns: # convert all object columns to integer\n",
        "    df[column] = le.fit_transform(df[column])\n",
        "df"
      ]
    },
    {
      "cell_type": "code",
      "source": [
        "df.dtypes"
      ],
      "metadata": {
        "id": "R26OlXBMXl5J"
      },
      "execution_count": null,
      "outputs": []
    },
    {
      "cell_type": "code",
      "execution_count": null,
      "metadata": {
        "id": "HLC14QwwUq9w"
      },
      "outputs": [],
      "source": [
        "corr = df.corr()\n",
        "corr.style.background_gradient(cmap = 'coolwarm') # draw the correlation graph"
      ]
    },
    {
      "cell_type": "code",
      "source": [
        "#from sklearn.preprocessing import StandardScaler\n",
        "#scaler = StandardScaler()\n",
        "#features_normalized = scaler.fit_transform(df.columns)"
      ],
      "metadata": {
        "id": "bA4Pz8B8V38-"
      },
      "execution_count": null,
      "outputs": []
    },
    {
      "cell_type": "code",
      "source": [
        "from sklearn.cluster import KMeans\n",
        "kmeans = KMeans(n_clusters=5)  # Adjust the number of clusters as needed\n",
        "features = df[['Vehicle Year', 'Vehicle Make', 'Speed Limit']]  # Replace with your selected features\n",
        "kmeans.fit(features)\n",
        "df['Cluster'] = kmeans.labels_\n",
        "\n",
        "from sklearn.model_selection import train_test_split\n",
        "from sklearn.linear_model import LogisticRegression\n",
        "from sklearn.metrics import classification_report\n",
        "# Step 2: Prepare the dataset for Logistic Regression\n",
        "# 'target' should be the column name of your target variable\n",
        "X = df.drop('Vehicle Damage Extent', axis=1)\n",
        "y = df['Vehicle Damage Extent']\n",
        "\n",
        "# Step 3: Split the data into training and testing sets\n",
        "X_train, X_test, y_train, y_test = train_test_split(X, y, test_size=0.3, random_state=42)\n",
        "\n",
        "# Step 4: Train Logistic Regression Model\n",
        "log_reg = LogisticRegression()\n",
        "log_reg.fit(X_train, y_train)\n",
        "\n",
        "# Step 5: Evaluate the Model\n",
        "predictions = log_reg.predict(X_test)\n",
        "print(classification_report(y_test, predictions))"
      ],
      "metadata": {
        "id": "dhHc0gT3VGAX"
      },
      "execution_count": null,
      "outputs": []
    },
    {
      "cell_type": "code",
      "source": [],
      "metadata": {
        "id": "SQF4IC9rVGFh"
      },
      "execution_count": null,
      "outputs": []
    },
    {
      "cell_type": "code",
      "source": [
        "from sklearn.ensemble import RandomForestClassifier"
      ],
      "metadata": {
        "id": "BqaSVPrzVGIY"
      },
      "execution_count": null,
      "outputs": []
    },
    {
      "cell_type": "code",
      "source": [
        "\n",
        "rf_classifier = RandomForestClassifier(n_estimators=100, random_state=42)\n",
        "\n",
        "# Fit the classifier to the training data\n",
        "rf_classifier.fit(X_train, y_train)\n",
        "\n",
        "# Make predictions on the test data\n",
        "y_pred = rf_classifier.predict(X_test)\n",
        "\n",
        "# Evaluate the classifier\n",
        "predictions = rf_classifier.predict(X_test)\n",
        "print(classification_report(y_test, predictions))"
      ],
      "metadata": {
        "id": "-z6kLORfVGKu"
      },
      "execution_count": null,
      "outputs": []
    },
    {
      "cell_type": "code",
      "source": [],
      "metadata": {
        "id": "iWL_98S0VGNX"
      },
      "execution_count": null,
      "outputs": []
    },
    {
      "cell_type": "code",
      "source": [],
      "metadata": {
        "id": "Y0h4hJdAVGP7"
      },
      "execution_count": null,
      "outputs": []
    },
    {
      "cell_type": "code",
      "source": [
        "from sklearn.naive_bayes import GaussianNB"
      ],
      "metadata": {
        "id": "iUpbtu1wVGSz"
      },
      "execution_count": null,
      "outputs": []
    },
    {
      "cell_type": "code",
      "source": [
        "nb_classifier = GaussianNB()\n",
        "\n",
        "# Fit the classifier to the training data\n",
        "nb_classifier.fit(X_train, y_train)\n",
        "\n",
        "# Make predictions on the test data\n",
        "y_pred = nb_classifier.predict(X_test)\n",
        "\n",
        "# Evaluate the classifier\n",
        "predictions = nb_classifier.predict(X_test)\n",
        "print(classification_report(y_test, predictions))"
      ],
      "metadata": {
        "id": "Zish8x4rVGVZ"
      },
      "execution_count": null,
      "outputs": []
    },
    {
      "cell_type": "code",
      "source": [
        "from sklearn.linear_model import SGDClassifier"
      ],
      "metadata": {
        "id": "QB4ck_5oVGXx"
      },
      "execution_count": null,
      "outputs": []
    },
    {
      "cell_type": "code",
      "source": [
        "sgd_classifier = SGDClassifier(loss='hinge', max_iter=1000, random_state=42)\n",
        "\n",
        "# Fit the classifier to the training data\n",
        "sgd_classifier.fit(X_train, y_train)\n",
        "\n",
        "# Make predictions on the test data\n",
        "y_pred = sgd_classifier.predict(X_test)\n",
        "\n",
        "# Evaluate the classifier\n",
        "predictions = sgd_classifier.predict(X_test)\n",
        "print(classification_report(y_test, predictions))"
      ],
      "metadata": {
        "id": "Y-B3a9XDb7RF"
      },
      "execution_count": null,
      "outputs": []
    },
    {
      "cell_type": "code",
      "source": [
        "from sklearn.ensemble import VotingClassifier\n",
        "from sklearn.metrics import accuracy_score"
      ],
      "metadata": {
        "id": "aqge4qtHb7Tq"
      },
      "execution_count": null,
      "outputs": []
    },
    {
      "cell_type": "code",
      "source": [
        "voting_classifier = VotingClassifier(\n",
        "    estimators=[('lr', log_reg), ('rf', rf_classifier), ('nb', nb_classifier),('sgd',sgd_classifier)],\n",
        "    voting='hard'  # Use hard voting\n",
        ")\n",
        "\n",
        "# Fit the voting classifier to the training data\n",
        "voting_classifier.fit(X_train, y_train)\n",
        "\n",
        "# Make predictions on the test data\n",
        "y_pred = voting_classifier.predict(X_test)\n",
        "\n",
        "# Evaluate the voting classifier\n",
        "accuracy = accuracy_score(y_test, y_pred)\n",
        "print(f\"Accuracy: {accuracy:.2f}\")"
      ],
      "metadata": {
        "id": "E_i7e1OZb7WB"
      },
      "execution_count": null,
      "outputs": []
    },
    {
      "cell_type": "code",
      "source": [
        "from sklearn.ensemble import AdaBoostClassifier"
      ],
      "metadata": {
        "id": "T3gsQU_Xb7Yo"
      },
      "execution_count": null,
      "outputs": []
    },
    {
      "cell_type": "code",
      "source": [
        "adaboost_classifier = AdaBoostClassifier(\n",
        "    base_estimator = rf_classifier,  # Use the weak learner as the base estimator\n",
        "    n_estimators=50,  # Number of weak learners (you can adjust this)\n",
        "    random_state=42\n",
        ")\n",
        "\n",
        "# Fit the AdaBoost classifier to the training data\n",
        "adaboost_classifier.fit(X_train, y_train)\n",
        "\n",
        "# Make predictions on the test data\n",
        "y_pred = adaboost_classifier.predict(X_test)\n",
        "\n",
        "# Evaluate the AdaBoost classifier\n",
        "accuracy = accuracy_score(y_test, y_pred)\n",
        "print(f\"Accuracy: {accuracy:.2f}\")"
      ],
      "metadata": {
        "id": "jqGVzFi2b7bN"
      },
      "execution_count": null,
      "outputs": []
    },
    {
      "cell_type": "code",
      "source": [],
      "metadata": {
        "id": "iZkK8P0zb7d1"
      },
      "execution_count": null,
      "outputs": []
    },
    {
      "cell_type": "code",
      "source": [],
      "metadata": {
        "id": "lcv13eCjb7gf"
      },
      "execution_count": null,
      "outputs": []
    },
    {
      "cell_type": "code",
      "source": [],
      "metadata": {
        "id": "6jNfQZqCb7ix"
      },
      "execution_count": null,
      "outputs": []
    },
    {
      "cell_type": "code",
      "source": [],
      "metadata": {
        "id": "mrJBFRPfb7lY"
      },
      "execution_count": null,
      "outputs": []
    },
    {
      "cell_type": "code",
      "source": [],
      "metadata": {
        "id": "NRMeU5i7b7oA"
      },
      "execution_count": null,
      "outputs": []
    },
    {
      "cell_type": "code",
      "source": [],
      "metadata": {
        "id": "hd8SsZuZb7q2"
      },
      "execution_count": null,
      "outputs": []
    },
    {
      "cell_type": "code",
      "source": [],
      "metadata": {
        "id": "bLfRJYnrVGaY"
      },
      "execution_count": null,
      "outputs": []
    },
    {
      "cell_type": "code",
      "source": [],
      "metadata": {
        "id": "lviFo0zHVGc-"
      },
      "execution_count": null,
      "outputs": []
    },
    {
      "cell_type": "code",
      "execution_count": null,
      "metadata": {
        "id": "JmlizvG8Uq9x"
      },
      "outputs": [],
      "source": [
        "from sklearn.model_selection import train_test_split\n",
        "from sklearn.tree import DecisionTreeClassifier"
      ]
    },
    {
      "cell_type": "code",
      "execution_count": null,
      "metadata": {
        "id": "p2juUn1RUq9x"
      },
      "outputs": [],
      "source": [
        "X = df.drop('Vehicle Damage Extent', axis=1)\n",
        "y = df['Vehicle Damage Extent']\n",
        "X_train, X_test, y_train, y_test = train_test_split(X, y, test_size=0.3, random_state=42)"
      ]
    },
    {
      "cell_type": "code",
      "execution_count": null,
      "metadata": {
        "id": "rPP_nkj4Uq9y"
      },
      "outputs": [],
      "source": [
        "from sklearn.metrics import accuracy_score, f1_score\n",
        "clf = DecisionTreeClassifier(random_state=42)\n",
        "\n",
        "clf.fit(X_train, y_train)\n",
        "y_pred = clf.predict(X_test)\n",
        "print(accuracy_score(y_test, y_pred))\n",
        "f1 = f1_score(y_test, y_pred, average = 'weighted')\n",
        "print(f1)"
      ]
    },
    {
      "cell_type": "code",
      "execution_count": null,
      "metadata": {
        "id": "9b4cdCUHUq9y"
      },
      "outputs": [],
      "source": [
        "feature_importances = clf.feature_importances_\n",
        "\n",
        "for feature, importance in zip(X.columns, feature_importances):\n",
        "    print(f'{feature}: {importance:.4f}')"
      ]
    },
    {
      "cell_type": "code",
      "execution_count": null,
      "metadata": {
        "id": "SMV1O9BoUq9y"
      },
      "outputs": [],
      "source": []
    }
  ],
  "metadata": {
    "kernelspec": {
      "display_name": "Python 3",
      "language": "python",
      "name": "python3"
    },
    "language_info": {
      "codemirror_mode": {
        "name": "ipython",
        "version": 3
      },
      "file_extension": ".py",
      "mimetype": "text/x-python",
      "name": "python",
      "nbconvert_exporter": "python",
      "pygments_lexer": "ipython3",
      "version": "3.10.8"
    },
    "colab": {
      "provenance": [],
      "include_colab_link": true
    }
  },
  "nbformat": 4,
  "nbformat_minor": 0
}